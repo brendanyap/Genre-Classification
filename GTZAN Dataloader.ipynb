{
 "cells": [
  {
   "cell_type": "markdown",
   "metadata": {},
   "source": [
    "## Imports"
   ]
  },
  {
   "cell_type": "code",
   "execution_count": 1,
   "metadata": {},
   "outputs": [],
   "source": [
    "import numpy as np\n",
    "import librosa\n",
    "from sklearn.preprocessing import StandardScaler"
   ]
  },
  {
   "cell_type": "markdown",
   "metadata": {},
   "source": [
    "## Load Data"
   ]
  },
  {
   "cell_type": "code",
   "execution_count": 2,
   "metadata": {},
   "outputs": [],
   "source": [
    "all_genres = ['blues','classical','country','disco','hiphop','jazz','metal','pop','reggae','rock']\n",
    "num_songs = 100\n",
    "sr = 22050\n",
    "Y_LIMIT = 660000"
   ]
  },
  {
   "cell_type": "code",
   "execution_count": 19,
   "metadata": {},
   "outputs": [],
   "source": [
    "class DataLoader():\n",
    "    def __init__(self, seg=5):\n",
    "        '''\n",
    "        Initializes the DataLoader.\n",
    "        \n",
    "        Forces deteriminism by setting np.seed=1.\n",
    "        \n",
    "        self.SEG is the number of fixed-length segments, and the number of random crops to take\n",
    "        self.SEG_LENGTH is the length of each fixed-length segment\n",
    "        self.RANDOM_SEG_LENGTH is the length of each random crop\n",
    "        \n",
    "        self.train_idxs is a list of 750 training indices\n",
    "        self.test_idxs is a list of 250 testing indices\n",
    "        \n",
    "        self.train_crop_idxs is a list of 750*self.SEG training indices, corresponding to the same indices above\n",
    "        self.test_crop_idxs  is a list of 750*self.SEG testing indices,  corresponding to the same indices above\n",
    "        \n",
    "        eg. train_idxs      = [1, 2, 4, ...]\n",
    "            train_crop_idxs = [10 ... 19, 20 ... 29, 40 ... 49, ...]\n",
    "            \n",
    "        Cropped X's retain the order of the uncropped X's\n",
    "        i.e. the first 10 self.mfcc_fixed_crop entries correspond to the first self.mfcc entry.\n",
    "        '''\n",
    "        np.random.seed(1)\n",
    "        self.X_mfcc = None\n",
    "        self.X_mfcc_random_crop = None\n",
    "        self.X_mfcc_fixed_crop = None\n",
    "        \n",
    "        self.X_chroma = None\n",
    "        self.X_chroma_random_crop = None\n",
    "        self.X_chroma_fixed_crop = None\n",
    "        \n",
    "        self.Y = None\n",
    "        self.Y_crop = None\n",
    "        \n",
    "        self.SEG = seg   # Must evenly divide 30\n",
    "        self.SEG_LENGTH = int(1290/self.SEG)\n",
    "        self.RANDOM_SEG_LENGTH = 1200\n",
    "        self.PAD = 1290 - self.RANDOM_SEG_LENGTH\n",
    "        self.RANDOM_STARTS = np.random.randint(low=0, high=1290-self.RANDOM_SEG_LENGTH, size=(1000, self.SEG))\n",
    "        \n",
    "        self.train_idxs = np.sort(np.random.choice(np.array([i for i in range(1000)]), size=500, replace=False))\n",
    "        self.val_idxs = np.sort(np.random.choice(np.array([i for i in range(1000) if i not in self.train_idxs]), size=250, replace=False))\n",
    "        self.test_idxs = np.array([i for i in range(1000) if i not in self.train_idxs and i not in self.val_idxs])\n",
    "\n",
    "        self.train_crop_idxs = np.hstack([np.array([i*self.SEG+j for j in range(self.SEG)]) for i in self.train_idxs])\n",
    "        self.val_crop_idxs = np.hstack([np.array([i*self.SEG+j for j in range(self.SEG)]) for i in self.val_idxs])\n",
    "        self.test_crop_idxs = np.hstack([np.array([i*self.SEG+j for j in range(self.SEG)]) for i in self.test_idxs])\n",
    "\n",
    "    def save_mfcc(self, genres=all_genres, songs=num_songs):\n",
    "        '''\n",
    "        Saves MFCC Coefficients.\n",
    "        Produces a 1000 x 16770 array.\n",
    "        '''\n",
    "        assert(self.X_mfcc is None)\n",
    "        X_mfcc = None\n",
    "        for g_idx, g in enumerate(genres):\n",
    "            for s_idx in range(songs):\n",
    "                y, sr = librosa.load(f'genres/{g}/{g}.000{s_idx:02d}.wav')\n",
    "                y = y[:Y_LIMIT]\n",
    "                mfcc = librosa.feature.mfcc(y, sr=sr, hop_length=512, n_mfcc=13).flatten()\n",
    "                if X_mfcc is None:\n",
    "                    X_mfcc = mfcc.reshape(1, mfcc.shape[0])\n",
    "                else:\n",
    "                    X_mfcc = np.vstack([X_mfcc, mfcc])\n",
    "        scaler = StandardScaler()\n",
    "        self.X_mfcc = scaler.fit_transform(X_mfcc)\n",
    "        np.savetxt('data/X_mfcc.csv', self.X_mfcc)\n",
    "    \n",
    "    def save_mfcc_random_crop(self):\n",
    "        '''\n",
    "        Saves self.SEG random crops of MFCC for every original training sample.\n",
    "        \n",
    "        Produces a 10000 x 13 x 1200 array, padded with zeros to 10000 x 13 x 1290.\n",
    "        Reshapes into 10000*16770 for the CSV.\n",
    "        '''\n",
    "        assert(self.X_mfcc_random_crop is None and self.X_mfcc is not None)\n",
    "        X_mfcc_crop = None\n",
    "        for i, mfcc in enumerate(self.X_mfcc):\n",
    "            crop = None\n",
    "            for j in range(self.SEG):\n",
    "                random_start = self.RANDOM_STARTS[i][j]\n",
    "                random_seg = np.vstack([mfcc[1290*k+random_start : 1290*k+random_start+self.RANDOM_SEG_LENGTH] for k in range(13)])\n",
    "                random_seg = np.pad(random_seg, ((0, 0), (0, self.PAD)), 'constant')\n",
    "                random_seg = random_seg.reshape(1, random_seg.shape[0], random_seg.shape[1])\n",
    "                if crop is None:\n",
    "                    crop = random_seg\n",
    "                else:\n",
    "                    crop = np.vstack([crop, random_seg])\n",
    "            if X_mfcc_crop is None:\n",
    "                X_mfcc_crop = crop\n",
    "            else:\n",
    "                X_mfcc_crop = np.vstack([X_mfcc_crop, crop])\n",
    "        self.X_mfcc_random_crop = X_mfcc_crop\n",
    "        np.savetxt(f'data/X_mfcc_random_crop_{self.SEG}.csv', X_mfcc_crop.reshape(1000*self.SEG, 13*1290))\n",
    "    \n",
    "    def save_mfcc_fixed_crop(self):\n",
    "        '''\n",
    "        Saves self.SEG even segments of MFCC for every original training sample.\n",
    "        \n",
    "        Produces a 10000 x 13 x 129 array of MFCC coefficients for the segments.\n",
    "        Reshapes into 10000*1677 for the CSV.\n",
    "        '''\n",
    "        assert(self.X_mfcc_fixed_crop is None and self.X_mfcc is not None)\n",
    "        X_mfcc_crop = None\n",
    "        for mfcc in self.X_mfcc:\n",
    "            crop = np.stack([np.vstack([mfcc[1290*j+self.SEG_LENGTH*i : 1290*j+self.SEG_LENGTH*(i+1)] for j in range(13)]) for i in range(self.SEG)], axis=0)\n",
    "            if X_mfcc_crop is None:\n",
    "                X_mfcc_crop = crop\n",
    "            else:\n",
    "                X_mfcc_crop = np.vstack([X_mfcc_crop, crop])\n",
    "        self.X_mfcc_fixed_crop = X_mfcc_crop\n",
    "        np.savetxt(f'data/X_mfcc_fixed_crop_{self.SEG}.csv', X_mfcc_crop.reshape(1000*self.SEG, 13*self.SEG_LENGTH))\n",
    "    \n",
    "    def save_chroma(self, genres=all_genres, songs=num_songs):\n",
    "        '''\n",
    "        Saves Chromas.\n",
    "        Produces a 1000 x 15480 array.\n",
    "        '''\n",
    "        assert(self.X_chroma is None)\n",
    "        X_chroma = None\n",
    "        for g_idx, g in enumerate(genres):\n",
    "            for s_idx in range(songs):\n",
    "                y, sr = librosa.load(f'genres/{g}/{g}.000{s_idx:02d}.wav')\n",
    "                y = y[:Y_LIMIT]\n",
    "                chroma = librosa.feature.chroma_cqt(y, sr=sr, hop_length=512).flatten()\n",
    "                if X_chroma is None:\n",
    "                    X_chroma = chroma.reshape(1, chroma.shape[0])\n",
    "                else:\n",
    "                    X_chroma = np.vstack([X_chroma, chroma])\n",
    "        scaler = StandardScaler()\n",
    "        self.X_chroma = scaler.fit_transform(X_chroma)\n",
    "        np.savetxt('data/X_chroma.csv', self.X_chroma)\n",
    "\n",
    "    def save_chroma_random_crop(self):\n",
    "        '''\n",
    "        Saves 10 random crops of Chromas for every original training sample.\n",
    "        \n",
    "        Produces a 10000 x 12 x 1200 array, padded with zeros to 10000 x 12 x 1290.\n",
    "        Reshapes into 10000*15480 for the CSV.\n",
    "        '''\n",
    "        assert(self.X_chroma_random_crop is None and self.X_chroma is not None)\n",
    "        X_chroma_crop = None\n",
    "        for i, chroma in enumerate(self.X_chroma):\n",
    "            crop = None\n",
    "            for j in range(self.SEG):\n",
    "                random_start = self.RANDOM_STARTS[i][j]\n",
    "                random_seg = np.vstack([chroma[1290*k+random_start : 1290*k+random_start+self.RANDOM_SEG_LENGTH] for k in range(12)])\n",
    "                random_seg = np.pad(random_seg, ((0, 0), (0, self.PAD)), 'constant')\n",
    "                random_seg = random_seg.reshape(1, random_seg.shape[0], random_seg.shape[1])\n",
    "                if crop is None:\n",
    "                    crop = random_seg\n",
    "                else:\n",
    "                    crop = np.vstack([crop, random_seg])\n",
    "            if X_chroma_crop is None:\n",
    "                X_chroma_crop = crop\n",
    "            else:\n",
    "                X_chroma_crop = np.vstack([X_chroma_crop, crop])\n",
    "        self.X_chroma_random_crop = X_chroma_crop\n",
    "        np.savetxt(f'data/X_chroma_random_crop_{self.SEG}.csv', X_chroma_crop.reshape(1000*self.SEG, 12*1290))\n",
    "        \n",
    "    def save_chroma_fixed_crop(self):\n",
    "        '''\n",
    "        Saves 10 even segments of Chromas for every original training sample.\n",
    "        \n",
    "        Produces a 10000 x 12 x 129 array of MFCC coefficients for the segments.\n",
    "        Reshapes into 10000*1548 for the CSV.\n",
    "        '''\n",
    "        assert(self.X_chroma_fixed_crop is None and self.X_chroma is not None)\n",
    "        X_chroma_crop = None\n",
    "        for chroma in self.X_chroma:\n",
    "            crop = np.stack([np.vstack([chroma[1290*j+self.SEG_LENGTH*i : 1290*j+self.SEG_LENGTH*(i+1)] for j in range(12)]) for i in range(self.SEG)], axis=0)\n",
    "            if X_chroma_crop is None:\n",
    "                X_chroma_crop = crop\n",
    "            else:\n",
    "                X_chroma_crop = np.vstack([X_chroma_crop, crop])\n",
    "        self.X_chroma_fixed_crop = X_chroma_crop\n",
    "        np.savetxt(f'data/X_chroma_fixed_crop_{self.SEG}.csv', X_chroma_crop.reshape(1000*self.SEG, 12*self.SEG_LENGTH))\n",
    "    \n",
    "    '''\n",
    "    If X_mfcc has been saved, but we aborted before saving X_mfcc_random_crop (or X_mfcc_fixed_crop), \n",
    "    we can call load_mfcc with tensor=False to load the MFCC in 2D and then call dl.save_random_crop().\n",
    "    Note that all load functions reshape into tensors by default.\n",
    "    '''  \n",
    "    \n",
    "    def load_mfcc(self, tensor=True):\n",
    "        self.X_mfcc = np.loadtxt('data/X_mfcc.csv')\n",
    "        if tensor:\n",
    "            self.X_mfcc = self.X_mfcc.reshape(1000, 13, 1290)\n",
    "    \n",
    "    def load_mfcc_random_crop(self):\n",
    "        self.X_mfcc_random_crop = np.loadtxt(f'data/X_mfcc_random_crop_{self.SEG}.csv').reshape(1000*self.SEG, 13, 1290)\n",
    "        \n",
    "    def load_mfcc_fixed_crop(self):\n",
    "        self.X_mfcc_fixed_crop = np.loadtxt(f'data/X_mfcc_fixed_crop_{self.SEG}.csv').reshape(1000*self.SEG, 13, self.SEG_LENGTH)\n",
    "        \n",
    "    def load_chroma(self, tensor=True):\n",
    "        self.X_chroma = np.loadtxt('data/X_chroma.csv')\n",
    "        if tensor:\n",
    "            self.X_chroma = self.X_chroma.reshape(1000, 12, 1290)\n",
    "    \n",
    "    def load_chroma_random_crop(self):\n",
    "        self.X_chroma_random_crop = np.loadtxt(f'data/X_chroma_random_crop_{self.SEG}.csv').reshape(1000*self.SEG, 12, 1290)\n",
    "        \n",
    "    def load_chroma_fixed_crop(self):\n",
    "        self.X_chroma_fixed_crop = np.loadtxt(f'data/X_chroma_fixed_crop_{self.SEG}.csv').reshape(1000*self.SEG, 12, self.SEG_LENGTH)\n",
    "    \n",
    "    def load_Y(self):\n",
    "        self.Y = np.array([int(i/100) for i in range(1000)]).ravel()\n",
    "        \n",
    "    def load_Y_crop(self):\n",
    "        self.Y_crop = np.array([int(i/(100 * self.SEG)) for i in range(1000 * self.SEG)]).ravel()\n",
    "        \n",
    "    def train_test_val_split(self, data, is_cropped):\n",
    "        '''\n",
    "        Splits an X_data into train, validation, and test sets.\n",
    "        \n",
    "        is_cropped=True for splitting random or fixed crops, iscropped=False for splitting original mfcc/chroma\n",
    "        \n",
    "        Train, val, and test indices are consistent every time train_test_split is called.\n",
    "        \n",
    "        Furthermore, cropped train and test indices are returned so that batches of size self.SEG are together, \n",
    "        with each batch corresponding to a single non-cropped index.\n",
    "        '''\n",
    "        if is_cropped:\n",
    "            return np.take(data, self.train_crop_idxs, 0), np.take(data, self.val_crop_idxs, 0), np.take(data, self.test_crop_idxs, 0)\n",
    "        else:\n",
    "            return np.take(data, self.train_idxs, 0), np.take(data, self.val_idxs, 0), np.take(data, self.test_idxs, 0)"
   ]
  },
  {
   "cell_type": "markdown",
   "metadata": {},
   "source": [
    "## Save and Load"
   ]
  },
  {
   "cell_type": "code",
   "execution_count": 4,
   "metadata": {
    "scrolled": true
   },
   "outputs": [
    {
     "name": "stdout",
     "output_type": "stream",
     "text": [
      "CPU times: user 43min, sys: 4min 59s, total: 47min 59s\n",
      "Wall time: 15min 51s\n"
     ]
    }
   ],
   "source": [
    "# %%time\n",
    "# # # Saves features to data/...  (run once!!)\n",
    "# dl = DataLoader(10)\n",
    "# dl.save_mfcc()\n",
    "# dl.save_mfcc_fixed_crop()\n",
    "# dl.save_mfcc_random_crop()\n",
    "# dl.save_chroma()\n",
    "# dl.save_chroma_fixed_crop()\n",
    "# dl.save_chroma_random_crop()"
   ]
  },
  {
   "cell_type": "code",
   "execution_count": 4,
   "metadata": {},
   "outputs": [
    {
     "name": "stdout",
     "output_type": "stream",
     "text": [
      "CPU times: user 4min 42s, sys: 16.5 s, total: 4min 59s\n",
      "Wall time: 6min 10s\n"
     ]
    }
   ],
   "source": [
    "# %%time\n",
    "# # # Load from CSVs in data/...\n",
    "# dl = DataLoader(10)\n",
    "# dl.load_mfcc()\n",
    "# dl.load_mfcc_fixed_crop()\n",
    "# dl.load_mfcc_random_crop()\n",
    "# dl.load_chroma()\n",
    "# dl.load_chroma_fixed_crop()\n",
    "# dl.load_chroma_random_crop()\n",
    "# dl.load_Y()\n",
    "# dl.load_Y_crop()"
   ]
  },
  {
   "cell_type": "code",
   "execution_count": 17,
   "metadata": {},
   "outputs": [
    {
     "name": "stdout",
     "output_type": "stream",
     "text": [
      "CPU times: user 11min 9s, sys: 4min 32s, total: 15min 42s\n",
      "Wall time: 6min 21s\n"
     ]
    }
   ],
   "source": [
    "# %%time\n",
    "# # # This time, we already have the mfcc/chroma, so let's try saving new crops with SEG=5.\n",
    "# dl = DataLoader(5)\n",
    "# dl.load_mfcc(tensor=False)\n",
    "# dl.load_chroma(tensor=False)\n",
    "# dl.save_mfcc_fixed_crop()\n",
    "# dl.save_mfcc_random_crop()\n",
    "# dl.save_chroma_fixed_crop()\n",
    "# dl.save_chroma_random_crop()"
   ]
  },
  {
   "cell_type": "code",
   "execution_count": 20,
   "metadata": {},
   "outputs": [
    {
     "name": "stdout",
     "output_type": "stream",
     "text": [
      "CPU times: user 2min 53s, sys: 6.75 s, total: 3min\n",
      "Wall time: 3min 13s\n"
     ]
    }
   ],
   "source": [
    "%%time\n",
    "# # Now load what we just saved\n",
    "dl = DataLoader(5)\n",
    "dl.load_mfcc()\n",
    "dl.load_mfcc_fixed_crop()\n",
    "dl.load_mfcc_random_crop()\n",
    "dl.load_chroma()\n",
    "dl.load_chroma_fixed_crop()\n",
    "dl.load_chroma_random_crop()\n",
    "dl.load_Y()\n",
    "dl.load_Y_crop()"
   ]
  },
  {
   "cell_type": "code",
   "execution_count": 22,
   "metadata": {},
   "outputs": [
    {
     "data": {
      "text/plain": [
       "((1000, 13, 1290),\n",
       " (5000, 13, 1290),\n",
       " (5000, 13, 258),\n",
       " (1000, 12, 1290),\n",
       " (5000, 12, 1290),\n",
       " (5000, 12, 258))"
      ]
     },
     "execution_count": 22,
     "metadata": {},
     "output_type": "execute_result"
    }
   ],
   "source": [
    "dl.X_mfcc.shape, dl.X_mfcc_random_crop.shape, dl.X_mfcc_fixed_crop.shape, dl.X_chroma.shape, dl.X_chroma_random_crop.shape, dl.X_chroma_fixed_crop.shape"
   ]
  },
  {
   "cell_type": "code",
   "execution_count": 23,
   "metadata": {},
   "outputs": [
    {
     "data": {
      "text/plain": [
       "((1000,), (5000,))"
      ]
     },
     "execution_count": 23,
     "metadata": {},
     "output_type": "execute_result"
    }
   ],
   "source": [
    "dl.Y.shape, dl.Y_crop.shape"
   ]
  },
  {
   "cell_type": "markdown",
   "metadata": {},
   "source": [
    "## Training and Test sets for each part"
   ]
  },
  {
   "cell_type": "code",
   "execution_count": 41,
   "metadata": {},
   "outputs": [
    {
     "name": "stdout",
     "output_type": "stream",
     "text": [
      "Train, validate, and test the vanilla model\n",
      "\n",
      "Train size:    (500, 25, 1290)      Train labels size: (500,)\n",
      "Val size:      (250, 25, 1290)      Val labels size:   (250,)\n",
      "Test size:     (250, 25, 1290)      Test labels size:  (250,)\n"
     ]
    }
   ],
   "source": [
    "# Train on X_train (750),\n",
    "# Test on X_test (250)\n",
    "print('Train, validate, and test the vanilla model\\n')\n",
    "\n",
    "Xm_train, Xm_val, Xm_test = dl.train_test_val_split(dl.X_mfcc, is_cropped=False)\n",
    "Xc_train, Xc_val, Xc_test = dl.train_test_val_split(dl.X_chroma, is_cropped=False)\n",
    "\n",
    "X_train = np.concatenate([Xm_train, Xc_train], axis=1)\n",
    "X_val = np.concatenate([Xm_val, Xc_val], axis=1)\n",
    "X_test = np.concatenate([Xm_test, Xc_test], axis=1)\n",
    "\n",
    "Y_train, Y_val, Y_test = dl.train_test_val_split(dl.Y, is_cropped=False)\n",
    "\n",
    "print(f'Train size:    {X_train.shape}', f'     Train labels size: {Y_train.shape}')\n",
    "print(f'Val size:      {X_val.shape}', f'     Val labels size:   {Y_val.shape}')\n",
    "print(f'Test size:     {X_test.shape}', f'     Test labels size:  {Y_test.shape}')"
   ]
  },
  {
   "cell_type": "code",
   "execution_count": 40,
   "metadata": {},
   "outputs": [
    {
     "name": "stdout",
     "output_type": "stream",
     "text": [
      "Train on segments, validate and test by accumulating votes of segments\n",
      "\n",
      "Train size:  (2500, 25, 258)      Train labels size: (2500,)\n",
      "Val size:    (1250, 25, 258)      Val labels size:   (250,)\n",
      "Test size:   (1250, 25, 258)      Test labels size:  (250,)\n"
     ]
    }
   ],
   "source": [
    "# Train on X_mfcc_fixed_crop_train (7500),\n",
    "# Test on X_mfcc_fixed_crop_test (2500),\n",
    "# Aggregate into predictions on X_mfcc_test (250)\n",
    "print('Train on segments, validate and test by accumulating votes of segments\\n')\n",
    "\n",
    "Xmf_train, Xmf_val, Xmf_test = \\\n",
    "    dl.train_test_val_split(dl.X_mfcc_fixed_crop, is_cropped=True)\n",
    "Xcf_train, Xcf_val, Xcf_test = \\\n",
    "    dl.train_test_val_split(dl.X_chroma_fixed_crop, is_cropped=True)\n",
    "\n",
    "Xf_train = np.concatenate([Xmf_train, Xcf_train], axis=1)\n",
    "Xf_val = np.concatenate([Xmf_val, Xcf_val], axis=1)\n",
    "Xf_test = np.concatenate([Xmf_test, Xcf_test], axis=1)\n",
    "\n",
    "Y_crop_train, _, _ = dl.train_test_val_split(dl.Y_crop, is_cropped=True)\n",
    "\n",
    "print(f'Train size:  {Xf_train.shape}', f'     Train labels size: {Y_crop_train.shape}')\n",
    "print(f'Val size:    {Xf_val.shape}', f'     Val labels size:   {Y_val.shape}')\n",
    "print(f'Test size:   {Xf_test.shape}', f'     Test labels size:  {Y_test.shape}')"
   ]
  },
  {
   "cell_type": "code",
   "execution_count": 48,
   "metadata": {},
   "outputs": [
    {
     "name": "stdout",
     "output_type": "stream",
     "text": [
      "Train on padded random crops, validate and test on uncropped test\n",
      "\n",
      "Train size:   (2500, 25, 1290)     Train labels size: (2500,)\n",
      "Val size:     (250, 25, 1290)      Val labels size:   (250,)\n",
      "Test size:    (250, 25, 1290)      Test labels size:  (250,)\n"
     ]
    }
   ],
   "source": [
    "# Train on X_mfcc_random_crop_train (7500),\n",
    "# Test on X_mfcc_test (250)\n",
    "print('Train on padded random crops, validate and test on uncropped test\\n')\n",
    "\n",
    "Xmr_train, _, _ = dl.train_test_val_split(dl.X_mfcc_random_crop, is_cropped=True)\n",
    "Xcr_train, _, _ = dl.train_test_val_split(dl.X_chroma_random_crop, is_cropped=True)\n",
    "\n",
    "Xr_train = np.concatenate([Xmr_train, Xcr_train], axis=1)\n",
    "\n",
    "Y_crop_train, _, _ = dl.train_test_val_split(dl.Y_crop, is_cropped=True)\n",
    "\n",
    "print(f'Train size:   {Xr_train.shape}', f'    Train labels size: {Y_crop_train.shape}')\n",
    "print(f'Val size:     {X_val.shape}', f'     Val labels size:   {Y_val.shape}')\n",
    "print(f'Test size:    {X_test.shape}', f'     Test labels size:  {Y_test.shape}')"
   ]
  }
 ],
 "metadata": {
  "kernelspec": {
   "display_name": "Python 3",
   "language": "python",
   "name": "python3"
  },
  "language_info": {
   "codemirror_mode": {
    "name": "ipython",
    "version": 3
   },
   "file_extension": ".py",
   "mimetype": "text/x-python",
   "name": "python",
   "nbconvert_exporter": "python",
   "pygments_lexer": "ipython3",
   "version": "3.7.4"
  }
 },
 "nbformat": 4,
 "nbformat_minor": 2
}
