{
 "cells": [
  {
   "cell_type": "markdown",
   "metadata": {},
   "source": [
    "## Imports"
   ]
  },
  {
   "cell_type": "code",
   "execution_count": 31,
   "metadata": {},
   "outputs": [],
   "source": [
    "import numpy as np\n",
    "import librosa"
   ]
  },
  {
   "cell_type": "markdown",
   "metadata": {},
   "source": [
    "## Load Data"
   ]
  },
  {
   "cell_type": "code",
   "execution_count": 30,
   "metadata": {},
   "outputs": [],
   "source": [
    "all_genres = ['blues','classical','country','disco','hiphop','jazz','metal','pop','reggae','rock']\n",
    "num_songs = 100\n",
    "sr = 22050\n",
    "Y_LIMIT = 660000"
   ]
  },
  {
   "cell_type": "code",
   "execution_count": 27,
   "metadata": {},
   "outputs": [],
   "source": [
    "# TODO: Normalize X_mfcc and X_chroma before saving\n",
    "# TODO: Implement train_test_split for all loaded sets\n",
    "class DataLoader():\n",
    "    def __init__(self):\n",
    "        np.random.seed(1)\n",
    "        self.X_mfcc = None\n",
    "        self.X_mfcc_tensor = None\n",
    "        self.X_mfcc_random_crop = None\n",
    "        self.X_mfcc_fixed_crop = None\n",
    "        \n",
    "        self.X_chroma = None\n",
    "        self.X_chroma_tensor = None\n",
    "        self.X_chroma_random_crop = None\n",
    "        self.X_chroma_fixed_crop = None\n",
    "        \n",
    "        self.Y = None\n",
    "        self.Y_crop = None\n",
    "        \n",
    "        self.SEG = 10                       # Must evenly divide 30\n",
    "        self.SEG_LENGTH = int(1290/self.SEG)\n",
    "        self.RANDOM_SEG_LENGTH = 1200\n",
    "        self.RANDOM_STARTS = np.random.randint(low=0, high=1290-self.RANDOM_SEG_LENGTH, size=(1000, self.SEG))\n",
    "        \n",
    "        self.train_idxs = np.sort(np.random.choice(np.array([i for i in range(1000)]), size=750, replace=False))\n",
    "        self.test_idxs = np.array([i for i in range(1000) if i not in self.train_idxs])\n",
    "        self.train_crop_idxs = np.sort(np.random.choice(np.array([i for i in range(1000 * self.SEG)]), size=750, replace=False))\n",
    "        self.test_crop_idxs = np.array([i for i in range(1000 * self.SEG) if i not in self.train_idxs])\n",
    "        \n",
    "    def save_mfcc(self, genres=all_genres, songs=num_songs):\n",
    "        '''\n",
    "        Saves MFCC Coefficients.\n",
    "        Produces a 1000 x 16770 array.\n",
    "        '''\n",
    "        assert(self.X_mfcc is None)\n",
    "        X_mfcc = None\n",
    "        for g_idx, g in enumerate(genres):\n",
    "            for s_idx in range(songs):\n",
    "                y, sr = librosa.load(f'genres/{g}/{g}.000{s_idx:02d}.wav')\n",
    "                y = y[:Y_LIMIT]\n",
    "                mfcc = librosa.feature.mfcc(y, sr=sr, hop_length=512, n_mfcc=13).flatten()\n",
    "                if X_mfcc is None:\n",
    "                    X_mfcc = mfcc.reshape(1, mfcc.shape[0])\n",
    "                else:\n",
    "                    X_mfcc = np.vstack([X_mfcc, mfcc])\n",
    "        self.X_mfcc = X_mfcc\n",
    "        np.savetxt('data/X_mfcc.csv', X_mfcc)\n",
    "    \n",
    "    def save_mfcc_random_crop(self):\n",
    "        '''\n",
    "        Saves 10 random crops of MFCC for every original training sample.\n",
    "        Produces a 10000 x 13 x 1200 array, padded to 10000 x 13 x 1290.\n",
    "        Reshapes into 10000*16770 for the CSV.\n",
    "        '''\n",
    "        assert(self.X_mfcc_random_crop is None)\n",
    "        X_mfcc_crop = None\n",
    "        for i, mfcc in enumerate(self.X_mfcc):\n",
    "            crop = None\n",
    "            for j in range(self.SEG):\n",
    "                random_start = self.RANDOM_STARTS[i][j]\n",
    "                random_seg = np.vstack([mfcc[1290*k+random_start : 1290*k+random_start+self.RANDOM_SEG_LENGTH] for k in range(13)])\n",
    "                random_seg = random_seg.reshape(1, random_seg.shape[0], random_seg.shape[1])\n",
    "                if crop is None:\n",
    "                    crop = random_seg\n",
    "                else:\n",
    "                    crop = np.vstack([crop, random_seg])\n",
    "            if X_mfcc_crop is None:\n",
    "                X_mfcc_crop = crop\n",
    "            else:\n",
    "                X_mfcc_crop = np.vstack([X_mfcc_crop, crop])\n",
    "        self.X_mfcc_random_crop = X_mfcc_crop\n",
    "        np.savetxt('data/X_mfcc_random_crop.csv', X_mfcc_crop.reshape(1000*self.SEG, 13*self.RANDOM_SEG_LENGTH))\n",
    "    \n",
    "    def save_mfcc_fixed_crop(self):\n",
    "        '''\n",
    "        Saves 10 even segments of MFCC for every original training sample.\n",
    "        Produces a 10000 x 13 x 129 array of MFCC coefficients for the segments.\n",
    "        Reshapes into 10000*1677 for the CSV.\n",
    "        '''\n",
    "        assert(self.X_mfcc_fixed_crop is None)\n",
    "        X_mfcc_crop = None\n",
    "        for mfcc in self.X_mfcc:\n",
    "            crop = np.stack([np.vstack([mfcc[1290*j+self.SEG_LENGTH*i : 1290*j+self.SEG_LENGTH*(i+1)] for j in range(13)]) for i in range(self.SEG)], axis=0)\n",
    "            if X_mfcc_crop is None:\n",
    "                X_mfcc_crop = crop\n",
    "            else:\n",
    "                X_mfcc_crop = np.vstack([X_mfcc_crop, crop])\n",
    "        self.X_mfcc_fixed_crop = X_mfcc_crop\n",
    "        np.savetxt('data/X_mfcc_fixed_crop.csv', X_mfcc_crop.reshape(1000*self.SEG, 13*self.SEG_LENGTH))\n",
    "    \n",
    "    def save_chroma(self, genres=all_genres, songs=num_songs):\n",
    "        '''\n",
    "        Saves Chromas.\n",
    "        Produces a 1000 x 15480 array.\n",
    "        '''\n",
    "        assert(self.X_chroma is None)\n",
    "        X_chroma = None\n",
    "        for g_idx, g in enumerate(genres):\n",
    "            for s_idx in range(songs):\n",
    "                y, sr = librosa.load(f'genres/{g}/{g}.000{s_idx:02d}.wav')\n",
    "                y = y[:Y_LIMIT]\n",
    "                chroma = librosa.feature.chroma_cqt(y, sr=sr, hop_length=512).flatten()\n",
    "                if X_chroma is None:\n",
    "                    X_chroma = chroma.reshape(1, chroma.shape[0])\n",
    "                else:\n",
    "                    X_chroma = np.vstack([X_chroma, chroma])\n",
    "        self.X_chroma = X_chroma\n",
    "        np.savetxt('data/X_chroma.csv', X_chroma)\n",
    "\n",
    "    def save_chroma_random_crop(self):\n",
    "        '''\n",
    "        Saves 10 random crops of Chromas for every original training sample.\n",
    "        Produces a 10000 x 12 x 1200 array, padded to 10000 x 12 x 1290.\n",
    "        Reshapes into 10000*15480 for the CSV.\n",
    "        '''\n",
    "        assert(self.X_chroma_random_crop is None)\n",
    "        X_chroma_crop = None\n",
    "        for i, chroma in enumerate(self.X_chroma):\n",
    "            crop = None\n",
    "            for j in range(self.SEG):\n",
    "                random_start = self.RANDOM_STARTS[i][j]\n",
    "                random_seg = np.vstack([chroma[1290*k+random_start : 1290*k+random_start+self.RANDOM_SEG_LENGTH] for k in range(12)])\n",
    "                random_seg = random_seg.reshape(1, random_seg.shape[0], random_seg.shape[1])\n",
    "                if crop is None:\n",
    "                    crop = random_seg\n",
    "                else:\n",
    "                    crop = np.vstack([crop, random_seg])\n",
    "            if X_chroma_crop is None:\n",
    "                X_chroma_crop = crop\n",
    "            else:\n",
    "                X_chroma_crop = np.vstack([X_chroma_crop, crop])\n",
    "        self.X_chroma_random_crop = X_chroma_crop\n",
    "        np.savetxt('data/X_chroma_random_crop.csv', X_chroma_crop.reshape(1000*self.SEG, 12*self.RANDOM_SEG_LENGTH))\n",
    "        \n",
    "    def save_chroma_fixed_crop(self):\n",
    "        '''\n",
    "        Saves 10 even segments of Chromas for every original training sample.\n",
    "        Produces a 10000 x 12 x 129 array of MFCC coefficients for the segments.\n",
    "        Reshapes into 10000*1548 for the CSV.\n",
    "        '''\n",
    "        assert(self.X_chroma_fixed_crop is None)\n",
    "        X_chroma_crop = None\n",
    "        for chroma in self.X_chroma:\n",
    "            crop = np.stack([np.vstack([mfcc[1290*j+self.SEG_LENGTH*i : 1290*j+self.SEG_LENGTH*(i+1)] for j in range(12)]) for i in range(self.SEG)], axis=0)\n",
    "            if X_chroma_crop is None:\n",
    "                X_chroma_crop = crop\n",
    "            else:\n",
    "                X_chroma_crop = np.vstack([X_chroma_crop, crop])\n",
    "        self.X_chroma_fixed_crop = X_chroma_crop\n",
    "        np.savetxt('data/X_chroma_fixed_crop.csv', X_chroma_crop.reshape(1000*self.SEG, 12*self.SEG_LENGTH))\n",
    "        \n",
    "    def load_mfcc(self, tensor=False):\n",
    "        self.X_mfcc = np.loadtxt('data/X_mfcc.csv')\n",
    "        if tensor:\n",
    "            self.X_mfcc_tensor = self.X_mfcc.reshape(1000, 13, 1290)\n",
    "    \n",
    "    def load_mfcc_random_crop(self):\n",
    "        self.X_mfcc_random_crop = np.loadtxt('data/X_mfcc_random_crop.csv').reshape(1000*self.SEG, 13, self.RANDOM_SEG_LENGTH)\n",
    "        \n",
    "    def load_mfcc_fixed_crop(self):\n",
    "        self.X_mfcc_fixed_crop = np.loadtxt('data/X_mfcc_fixed_crop.csv').reshape(1000*self.SEG, 13, self.SEG_LENGTH)\n",
    "        \n",
    "    def load_chroma(self, tensor=False):\n",
    "        self.X_chroma = np.loadtxt('data/X_chroma.csv')\n",
    "        if tensor:\n",
    "            self.X_mfcc_tensor = self.X_mfcc.reshape(1000, 12, 1290)\n",
    "    \n",
    "    def load_chroma_random_crop(self):\n",
    "        self.X_chroma_random_crop = np.loadtxt('data/X_chroma_random_crop.csv').reshape(1000*self.SEG, 12, self.RANDOM_SEG_LENGTH)\n",
    "        \n",
    "    def load_chroma_fixed_crop(self):\n",
    "        self.X_chroma_fixed_crop = np.loadtxt('data/X_chroma_fixed_crop.csv').reshape(1000*self.SEG, 12, self.SEG_LENGTH)\n",
    "    \n",
    "    def load_Y(self):\n",
    "        self.Y = np.array([int(i/100) for i in range(1000)]).ravel()\n",
    "        \n",
    "    def load_Y_crop(self):\n",
    "        self.Y_corp = np.array([int(i/(100 * self.SEG)) for i in range(1000 * self.SEG)]).ravel()"
   ]
  },
  {
   "cell_type": "code",
   "execution_count": 32,
   "metadata": {
    "scrolled": true
   },
   "outputs": [],
   "source": [
    "# # Only need to run this ONCE!\n",
    "# # Saves features to data/...\n",
    "# dl = DataLoader()\n",
    "# dl.save_mfcc()\n",
    "# dl.save_mfcc_fixed_crop()\n",
    "# dl.save_mfcc_random_crop()\n",
    "# dl.save_chroma()\n",
    "# dl.save_chroma_fixed_crop()\n",
    "# dl.save_chroma_random_crop()"
   ]
  },
  {
   "cell_type": "code",
   "execution_count": 12,
   "metadata": {},
   "outputs": [
    {
     "name": "stdout",
     "output_type": "stream",
     "text": [
      "(1000, 15480)\n"
     ]
    }
   ],
   "source": [
    "# # Load from CSVs in data/...\n",
    "# dl = DataLoader()\n",
    "# dl.load_mfcc()\n",
    "# dl.load_mfcc_fixed_crop()\n",
    "# dl.load_mfcc_random_crop()\n",
    "# dl.load_chroma()\n",
    "# dl.load_chroma_fixed_crop()\n",
    "# dl.load_chroma_random_crop()\n",
    "# dl.load_Y()\n",
    "# dl.load_Y_crop()"
   ]
  },
  {
   "cell_type": "markdown",
   "metadata": {},
   "source": [
    "## Preprocessing"
   ]
  },
  {
   "cell_type": "code",
   "execution_count": null,
   "metadata": {},
   "outputs": [],
   "source": [
    "# # Only need to run this ONCE!\n",
    "# Generates train and test indexes among the 1000 datapoints\n",
    "# x = np.array([i for i in range(1000)])\n",
    "# np.random.seed(1)\n",
    "# train_idxs = np.random.choice(x, size=750, replace=False)\n",
    "# train_idxs.sort()\n",
    "# test_idxs = []\n",
    "# for i in range(1000):\n",
    "#     if i not in train_idxs:\n",
    "#         test_idxs.append(i)\n",
    "# test_idxs = np.array(test_idxs)\n",
    "# np.savetxt('data/train_idxs.csv', train_idxs)\n",
    "# np.savetxt('data/test_idxs.csv', test_idxs)"
   ]
  },
  {
   "cell_type": "code",
   "execution_count": 10,
   "metadata": {},
   "outputs": [
    {
     "name": "stdout",
     "output_type": "stream",
     "text": [
      "999 993\n"
     ]
    }
   ],
   "source": [
    "# Load the train/test indexes instead of shuffling\n",
    "train_idxs = np.loadtxt('data/train_idxs.csv').astype(int)\n",
    "test_idxs = np.loadtxt('data/test_idxs.csv').astype(int)\n",
    "print(train_idxs[-1], test_idxs[-1])"
   ]
  },
  {
   "cell_type": "code",
   "execution_count": 11,
   "metadata": {},
   "outputs": [
    {
     "name": "stdout",
     "output_type": "stream",
     "text": [
      "(750, 16770) (250, 16770)\n"
     ]
    }
   ],
   "source": [
    "scaler = StandardScaler()\n",
    "MX = scaler.fit_transform(dl.X_mfcc)\n",
    "MX_train, MX_test = np.take(MX, train_idxs, 0), np.take(MX, test_idxs, 0)\n",
    "print(MX_train.shape, MX_test.shape)"
   ]
  },
  {
   "cell_type": "code",
   "execution_count": 89,
   "metadata": {},
   "outputs": [
    {
     "name": "stdout",
     "output_type": "stream",
     "text": [
      "(750, 15480) (250, 15480)\n"
     ]
    }
   ],
   "source": [
    "scaler = StandardScaler()\n",
    "CX = scaler.fit_transform(dl.X_chroma)\n",
    "CX_train, CX_test = np.take(CX, train_idxs, 0), np.take(CX, test_idxs, 0)\n",
    "print(CX_train.shape, CX_test.shape)"
   ]
  },
  {
   "cell_type": "code",
   "execution_count": 12,
   "metadata": {},
   "outputs": [
    {
     "name": "stdout",
     "output_type": "stream",
     "text": [
      "(750, 32250) (250, 32250)\n"
     ]
    }
   ],
   "source": [
    "scaler = StandardScaler()\n",
    "X = np.hstack([dl.X_mfcc, dl.X_chroma])\n",
    "X = scaler.fit_transform(X)\n",
    "X_train, X_test = np.take(X, train_idxs, 0), np.take(X, test_idxs, 0)\n",
    "print(X_train.shape, X_test.shape)"
   ]
  },
  {
   "cell_type": "code",
   "execution_count": 13,
   "metadata": {},
   "outputs": [
    {
     "name": "stdout",
     "output_type": "stream",
     "text": [
      "(750, 200) (250, 200)\n"
     ]
    }
   ],
   "source": [
    "scaler = StandardScaler()\n",
    "PX = np.hstack([dl.X_mfcc_pca, dl.X_chroma_pca])\n",
    "PX = scaler.fit_transform(PX)\n",
    "PX_train, PX_test = np.take(PX, train_idxs, 0), np.take(PX, test_idxs, 0)\n",
    "print(PX_train.shape, PX_test.shape)"
   ]
  },
  {
   "cell_type": "code",
   "execution_count": 14,
   "metadata": {},
   "outputs": [
    {
     "name": "stdout",
     "output_type": "stream",
     "text": [
      "(750,) (250,)\n"
     ]
    }
   ],
   "source": [
    "Y = dl.Y\n",
    "Y_train, Y_test = np.take(Y, train_idxs, 0), np.take(Y, test_idxs, 0)\n",
    "print(Y_train.shape, Y_test.shape)"
   ]
  }
 ],
 "metadata": {
  "kernelspec": {
   "display_name": "Python 3",
   "language": "python",
   "name": "python3"
  },
  "language_info": {
   "codemirror_mode": {
    "name": "ipython",
    "version": 3
   },
   "file_extension": ".py",
   "mimetype": "text/x-python",
   "name": "python",
   "nbconvert_exporter": "python",
   "pygments_lexer": "ipython3",
   "version": "3.7.4"
  }
 },
 "nbformat": 4,
 "nbformat_minor": 2
}
