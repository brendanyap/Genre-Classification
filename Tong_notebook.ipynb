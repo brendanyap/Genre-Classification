{
 "cells": [
  {
   "cell_type": "markdown",
   "metadata": {},
   "source": [
    "# TONG CODE"
   ]
  },
  {
   "cell_type": "markdown",
   "metadata": {},
   "source": [
    "# Imports and Version Checking"
   ]
  },
  {
   "cell_type": "code",
   "execution_count": 150,
   "metadata": {},
   "outputs": [
    {
     "name": "stdout",
     "output_type": "stream",
     "text": [
      "Python version: 3.6.8 (default, Oct  7 2019, 12:59:55) \n",
      "[GCC 8.3.0]\n",
      "Librosa version: 0.7.1\n",
      "Sklearn version: 0.21.3\n",
      "Torch version: 1.0.1.post2\n"
     ]
    }
   ],
   "source": [
    "import librosa\n",
    "from librosa import display\n",
    "import sklearn\n",
    "import numpy as np\n",
    "import torch\n",
    "\n",
    "# for debugging\n",
    "from torchsummary import summary\n",
    "\n",
    "# python version\n",
    "import sys\n",
    "print(\"Python version: \" + sys.version)\n",
    "\n",
    "# librosa version\n",
    "print(\"Librosa version: \" + librosa.__version__)\n",
    "\n",
    "# sklearn\n",
    "print(\"Sklearn version: \" + sklearn.__version__)\n",
    "\n",
    "# torch\n",
    "print(\"Torch version: \" + torch.__version__)"
   ]
  },
  {
   "cell_type": "markdown",
   "metadata": {},
   "source": [
    "# Data Loading"
   ]
  },
  {
   "cell_type": "code",
   "execution_count": 165,
   "metadata": {},
   "outputs": [],
   "source": [
    "# from brendan\n",
    "\n",
    "from sklearn.model_selection import train_test_split\n",
    "\n",
    "all_genres = ['blues','classical','country','disco','hiphop','jazz','metal','pop','reggae','rock']\n",
    "num_songs = 100\n",
    "Y_LIMIT = 660000"
   ]
  },
  {
   "cell_type": "code",
   "execution_count": 166,
   "metadata": {},
   "outputs": [],
   "source": [
    "# Loads n_songs songs from each genre in load_genres.  \n",
    "def load_dataset(genres=all_genres, n_songs=num_songs):\n",
    "    X, Y = None, None\n",
    "    for g_idx, g in enumerate(genres):\n",
    "        for s_idx in range(n_songs):\n",
    "            y, sr = librosa.load(f'genres/{g}/{g}.000{s_idx:02d}.au')\n",
    "            # Limit length of sample so that all features have the same length.\n",
    "            y = y[:Y_LIMIT]\n",
    "            mfcc = librosa.feature.mfcc(y=y, sr=sr, hop_length=512, n_mfcc=13).flatten()\n",
    "            \n",
    "            if X is None:\n",
    "                X = mfcc.reshape(1, mfcc.shape[0])\n",
    "                Y = np.array([[g_idx]])\n",
    "                \n",
    "            else:\n",
    "                X = np.vstack([X, mfcc])\n",
    "                Y = np.vstack([Y, np.array([[g_idx]])])\n",
    "    return X, Y"
   ]
  },
  {
   "cell_type": "code",
   "execution_count": 147,
   "metadata": {},
   "outputs": [],
   "source": [
    "X, Y = load_dataset(all_genres, 100)\n",
    "Y = Y.ravel()"
   ]
  },
  {
   "cell_type": "code",
   "execution_count": 170,
   "metadata": {},
   "outputs": [
    {
     "name": "stdout",
     "output_type": "stream",
     "text": [
      "(1000, 16770) (1000,)\n",
      "(750, 16770) (250, 16770) (750,) (250,)\n"
     ]
    }
   ],
   "source": [
    "print(X.shape, Y.shape)\n",
    "X_train, X_test, Y_train, Y_test = train_test_split(X, Y)\n",
    "print(X_train.shape, X_test.shape, Y_train.shape, Y_test.shape)"
   ]
  },
  {
   "cell_type": "code",
   "execution_count": 175,
   "metadata": {},
   "outputs": [
    {
     "name": "stdout",
     "output_type": "stream",
     "text": [
      "750\n",
      "250\n"
     ]
    }
   ],
   "source": [
    "# making torch style dataset and dataloader\n",
    "\n",
    "from torch.utils.data import Dataset, DataLoader\n",
    "\n",
    "class MusicDataset(Dataset):\n",
    "\n",
    "    def __init__(self, X, Y):\n",
    "        self.X = torch.from_numpy(X)\n",
    "        self.Y = torch.from_numpy(Y)\n",
    "\n",
    "    def __len__(self):\n",
    "        assert(self.X.size()[0] == self.Y.size()[0])\n",
    "        return self.X.size()[0]\n",
    "\n",
    "    def __getitem__(self, index):\n",
    "        data = self.X[index,].reshape((1,self.X.size()[1]))\n",
    "        label = self.Y[index]\n",
    "        \n",
    "        return (data, label)\n",
    "\n",
    "trainset = MusicDataset(X_train, Y_train)\n",
    "testset = MusicDataset(X_test, Y_test)\n",
    "print(len(trainset))\n",
    "print(len(testset))\n",
    "\n",
    "trainloader = DataLoader(trainset, batch_size = 64, shuffle = True)\n",
    "testloader = DataLoader(testset, batch_size = 64, shuffle = False)"
   ]
  },
  {
   "cell_type": "markdown",
   "metadata": {},
   "source": [
    "# DCNN Model"
   ]
  },
  {
   "cell_type": "code",
   "execution_count": 176,
   "metadata": {},
   "outputs": [],
   "source": [
    "import torch.nn as nn\n",
    "import torch.nn.functional as F\n",
    "import math\n",
    "\n",
    "class DCNN_Unit(nn.Module):\n",
    "    \n",
    "    def __init__(self, in_planes, planes, kernel_size, dialation, pool_size):\n",
    "        \n",
    "        super(DCNN_Unit, self).__init__()\n",
    "        \n",
    "        padding = int((kernel_size + (kernel_size - 1)*(dialation - 1) - 1)/2)\n",
    "        \n",
    "        self.dconv = nn.Conv1d(in_channels = in_planes, out_channels = planes,\n",
    "                               kernel_size = kernel_size, stride=1, padding=padding, dilation=dialation)\n",
    "        self.dropout = nn.Dropout(p=0.5)\n",
    "        self.avgpool = nn.AvgPool1d(kernel_size = pool_size)\n",
    "        self.bnorm = nn.BatchNorm1d(num_features = planes)\n",
    "    \n",
    "    def forward(self, x):\n",
    "        x = self.dconv(x)\n",
    "        x = self.dropout(x)\n",
    "        x = self.avgpool(x)\n",
    "        x = self.bnorm(x)\n",
    "        x = F.relu(x)\n",
    "        return x"
   ]
  },
  {
   "cell_type": "code",
   "execution_count": 185,
   "metadata": {},
   "outputs": [],
   "source": [
    "class DCNN(nn.Module):\n",
    "    \n",
    "    def __init__(self, input_length, num_filters_1, ker_size_1, dialation_1, avg_pool_size_1,\n",
    "                 num_filters_2, ker_size_2, dialation_2, avg_pool_size_2):    \n",
    "        super(DCNN, self).__init__()\n",
    "        self.dc_unit_1 = DCNN_Unit(1, num_filters_1, ker_size_1, dialation_1, avg_pool_size_1)\n",
    "        self.dc_unit_2 = DCNN_Unit(num_filters_1, num_filters_1*num_filters_2, ker_size_2, dialation_2, avg_pool_size_2)\n",
    "        in_features = num_filters_1*num_filters_2*math.floor(math.floor(input_length/avg_pool_size_1)/avg_pool_size_2)\n",
    "        self.fc = nn.Linear(in_features = in_features, out_features = 10)\n",
    "        \n",
    "    def forward(self, x):\n",
    "        x = self.dc_unit_1(x)\n",
    "        x = self.dc_unit_2(x)\n",
    "        x = x.view(x.size()[0], -1)\n",
    "        x = self.fc(x)\n",
    "        return x"
   ]
  },
  {
   "cell_type": "code",
   "execution_count": 186,
   "metadata": {},
   "outputs": [
    {
     "name": "stdout",
     "output_type": "stream",
     "text": [
      "----------------------------------------------------------------\n",
      "        Layer (type)               Output Shape         Param #\n",
      "================================================================\n",
      "            Conv1d-1             [-1, 8, 16770]             520\n",
      "           Dropout-2             [-1, 8, 16770]               0\n",
      "         AvgPool1d-3               [-1, 8, 524]               0\n",
      "       BatchNorm1d-4               [-1, 8, 524]              16\n",
      "         DCNN_Unit-5               [-1, 8, 524]               0\n",
      "            Conv1d-6             [-1, 512, 524]          66,048\n",
      "           Dropout-7             [-1, 512, 524]               0\n",
      "         AvgPool1d-8             [-1, 512, 131]               0\n",
      "       BatchNorm1d-9             [-1, 512, 131]           1,024\n",
      "        DCNN_Unit-10             [-1, 512, 131]               0\n",
      "           Linear-11                   [-1, 10]         670,730\n",
      "================================================================\n",
      "Total params: 738,338\n",
      "Trainable params: 738,338\n",
      "Non-trainable params: 0\n",
      "----------------------------------------------------------------\n",
      "Input size (MB): 0.06\n",
      "Forward/backward pass size (MB): 7.77\n",
      "Params size (MB): 2.82\n",
      "Estimated Total Size (MB): 10.65\n",
      "----------------------------------------------------------------\n"
     ]
    },
    {
     "name": "stderr",
     "output_type": "stream",
     "text": [
      "/home/tzhao/.local/lib/python3.6/site-packages/ipykernel_launcher.py:16: UserWarning: Implicit dimension choice for softmax has been deprecated. Change the call to include dim=X as an argument.\n",
      "  app.launch_new_instance()\n"
     ]
    }
   ],
   "source": [
    "# Debugging\n",
    "input_length = 16770\n",
    "\n",
    "num_filters_1 = 8\n",
    "ker_size_1 = 64\n",
    "dialation_1 = 8\n",
    "avg_pool_size_1 = 32\n",
    "\n",
    "num_filters_2 = 64\n",
    "ker_size_2 = 16\n",
    "dialation_2 = 2\n",
    "avg_pool_size_2 = 4\n",
    "\n",
    "test_model = DCNN(input_length, num_filters_1, ker_size_1, dialation_1, avg_pool_size_1, num_filters_2, ker_size_2, dialation_2, avg_pool_size_2)\n",
    "summary(test_model, (1,16770))"
   ]
  },
  {
   "cell_type": "code",
   "execution_count": 179,
   "metadata": {},
   "outputs": [],
   "source": [
    "net = DCNN(input_length, num_filters_1, ker_size_1, dialation_1, avg_pool_size_1,\n",
    "                  num_filters_2, ker_size_2, dialation_2, avg_pool_size_2)\n",
    "\n",
    "criterion = nn.CrossEntropyLoss()\n",
    "optimizer = torch.optim.Adam(net.parameters(), lr=0.001)"
   ]
  },
  {
   "cell_type": "code",
   "execution_count": 180,
   "metadata": {},
   "outputs": [],
   "source": [
    "# training and testing\n",
    "def train(num_epochs):\n",
    "    net.train()\n",
    "    for epoch in range(num_epochs):\n",
    "        print(\"Epoch: \" + str(epoch+1))\n",
    "        running_loss = 0.0\n",
    "        for i, data in enumerate(trainloader, 0):\n",
    "            inputs, labels = data\n",
    "            optimizer.zero_grad()\n",
    "            outputs = net(inputs)\n",
    "            loss = criterion(outputs, labels)\n",
    "            loss.backward()\n",
    "            optimizer.step()            \n",
    "            running_loss += loss.item()\n",
    "        print(\"Loss: \" + str(running_loss / 750.0))\n",
    "    print('Finished Training')\n",
    "\n",
    "def test():\n",
    "    net.eval()\n",
    "    correct = 0\n",
    "    total = 0\n",
    "    with torch.no_grad():\n",
    "        for data in testloader:\n",
    "            images, labels = data\n",
    "            outputs = net(images)\n",
    "            _, predicted = torch.max(outputs.data, 1)\n",
    "            total += labels.size(0)\n",
    "            correct += (predicted == labels).sum().item()\n",
    "    print('Accuracy of the network on the 10000 test images: %d %%' % (100 * correct / total))"
   ]
  },
  {
   "cell_type": "code",
   "execution_count": 187,
   "metadata": {},
   "outputs": [
    {
     "name": "stdout",
     "output_type": "stream",
     "text": [
      "Epoch: 1\n",
      "Loss: 0.013423179626464844\n",
      "Epoch: 2\n",
      "Loss: 0.011090693950653076\n",
      "Epoch: 3\n",
      "Loss: 0.010105026443799337\n",
      "Epoch: 4\n",
      "Loss: 0.008588590661684672\n",
      "Epoch: 5\n",
      "Loss: 0.008518337289492289\n",
      "Epoch: 6\n",
      "Loss: 0.0063229696750640866\n",
      "Epoch: 7\n",
      "Loss: 0.005492618441581726\n",
      "Epoch: 8\n",
      "Loss: 0.004389383554458618\n",
      "Epoch: 9\n",
      "Loss: 0.004108041087786357\n",
      "Epoch: 10\n",
      "Loss: 0.003591948757568995\n",
      "Finished Training\n"
     ]
    }
   ],
   "source": [
    "train(20)"
   ]
  },
  {
   "cell_type": "code",
   "execution_count": 189,
   "metadata": {},
   "outputs": [
    {
     "name": "stdout",
     "output_type": "stream",
     "text": [
      "Accuracy of the network on the 10000 test images: 51 %\n"
     ]
    }
   ],
   "source": [
    "test()"
   ]
  },
  {
   "cell_type": "code",
   "execution_count": 191,
   "metadata": {},
   "outputs": [],
   "source": [
    "# from brendan\n",
    "from sklearn.metrics import confusion_matrix, classification_report\n",
    "from sklearn.model_selection import cross_val_score, GridSearchCV\n",
    "from sklearn.utils.multiclass import unique_labels\n",
    "from sklearn.decomposition import PCA\n",
    "from sklearn.cross_decomposition import CCA\n",
    "from sklearn.utils import shuffle\n",
    "import seaborn as sns\n",
    "import matplotlib.pyplot as plt\n",
    "\n",
    "def plot_confusion_matrix(test_labels, predictions, title):\n",
    "    ax= plt.subplot()\n",
    "    cm = confusion_matrix(test_labels, predictions)\n",
    "    sns.heatmap(cm, annot=True, ax = ax, cmap = sns.cm.rocket_r); #annot=True to annotate cells\n",
    "\n",
    "    # labels, title and ticks\n",
    "    ax.set_xlabel('Predicted labels');ax.set_ylabel('True labels'); \n",
    "    ax.set_title(f'{title} Confusion Matrix'); \n",
    "    ax.set_ylim(top=0, bottom=10)\n",
    "    ax.xaxis.set_ticklabels(all_genres); ax.yaxis.set_ticklabels(all_genres);\n",
    "    plt.setp(ax.get_xticklabels(), rotation=45, ha=\"right\",\n",
    "                 rotation_mode=\"anchor\")\n",
    "    plt.setp(ax.get_yticklabels(), rotation=45, ha=\"right\",\n",
    "                 rotation_mode=\"anchor\")\n",
    "    plt.show()"
   ]
  },
  {
   "cell_type": "code",
   "execution_count": 192,
   "metadata": {},
   "outputs": [],
   "source": [
    "# test_labels = Y_test\n",
    "\n",
    "def net_confusion_matrix(net, test_labels, title):\n",
    "    \n",
    "    # generating predictions\n",
    "    separate_predictions = []\n",
    "    \n",
    "    net.eval()\n",
    "    with torch.no_grad():\n",
    "        for data in testloader:\n",
    "            images, labels = data\n",
    "            outputs = net(images)\n",
    "            _, predicted = torch.max(outputs.data, 1)\n",
    "            separate_predictions.append(predicted.numpy())\n",
    "    \n",
    "    predictions = np.concatenate(separate_predictions)\n",
    "    plot_confusion_matrix(test_labels, predictions, title)            "
   ]
  },
  {
   "cell_type": "code",
   "execution_count": 193,
   "metadata": {},
   "outputs": [
    {
     "data": {
      "image/png": "[encoded data removed]",
      "text/plain": [
       "<Figure size 432x288 with 2 Axes>"
      ]
     },
     "metadata": {
      "needs_background": "light"
     },
     "output_type": "display_data"
    }
   ],
   "source": [
    "net_confusion_matrix(net, Y_test, \"Preliminary DCNN\")"
   ]
  },
  {
   "cell_type": "markdown",
   "metadata": {},
   "source": [
    "TODO:\n",
    "\n",
    "- Develop MFCCs\n",
    "- Work under assumption that we are flattening MFCCs for each song\n",
    "- Develop architecture for DCNN under those assumptions (13 * 1290 X 1 input data point)"
   ]
  }
 ],
 "metadata": {
  "kernelspec": {
   "display_name": "Python 3",
   "language": "python",
   "name": "python3"
  },
  "language_info": {
   "codemirror_mode": {
    "name": "ipython",
    "version": 3
   },
   "file_extension": ".py",
   "mimetype": "text/x-python",
   "name": "python",
   "nbconvert_exporter": "python",
   "pygments_lexer": "ipython3",
   "version": "3.6.8"
  }
 },
 "nbformat": 4,
 "nbformat_minor": 2
}
