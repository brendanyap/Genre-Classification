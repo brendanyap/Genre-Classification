{
 "cells": [
  {
   "cell_type": "markdown",
   "metadata": {},
   "source": [
    "# TONG CODE"
   ]
  },
  {
   "cell_type": "markdown",
   "metadata": {},
   "source": [
    "# Imports and Version Checking"
   ]
  },
  {
   "cell_type": "code",
   "execution_count": 18,
   "metadata": {},
   "outputs": [
    {
     "name": "stdout",
     "output_type": "stream",
     "text": [
      "Python version: 3.6.8 (default, Oct  7 2019, 12:59:55) \n",
      "[GCC 8.3.0]\n",
      "Sklearn version: 0.21.3\n",
      "Torch version: 1.0.1.post2\n"
     ]
    }
   ],
   "source": [
    "import librosa\n",
    "from librosa import display\n",
    "import sklearn\n",
    "import torch\n",
    "\n",
    "# python version\n",
    "import sys\n",
    "print(\"Python version: \" + sys.version)\n",
    "\n",
    "# librosa version\n",
    "# ???\n",
    "\n",
    "# sklearn\n",
    "print(\"Sklearn version: \" + sklearn.__version__)\n",
    "\n",
    "# torch\n",
    "print(\"Torch version: \" + torch.__version__)"
   ]
  },
  {
   "cell_type": "markdown",
   "metadata": {},
   "source": [
    "# Data Loading"
   ]
  },
  {
   "cell_type": "code",
   "execution_count": 28,
   "metadata": {},
   "outputs": [],
   "source": [
    "genres = ['blues', 'classical', 'country', 'disco', 'hiphop', 'jazz', 'metal', 'pop', 'reggae', 'rock']\n",
    "\n",
    "single_numbers = ['00000','00001','00002','00003','00004','00005','00006','00007','00008','00009']\n",
    "double_numbers = list([\"000\" + str(n) for n in range(10,100)])\n",
    "song_numbers = single_numbers + double_numbers\n",
    "\n",
    "paths = []\n",
    "for genre in genres:\n",
    "    genre_paths = []\n",
    "    for number in song_numbers:\n",
    "        path = \"genres/\" + genre + \"/\" + genre + \".\" + number + \".au\"\n",
    "        genre_paths.append(path)\n",
    "    paths.append(genre_paths)\n",
    "    \n",
    "# print(paths)\n",
    "# print(paths[0])\n",
    "# print(paths[0][0])"
   ]
  },
  {
   "cell_type": "markdown",
   "metadata": {},
   "source": [
    "# Finding the min length"
   ]
  },
  {
   "cell_type": "code",
   "execution_count": 42,
   "metadata": {},
   "outputs": [
    {
     "name": "stdout",
     "output_type": "stream",
     "text": [
      "660000\n"
     ]
    }
   ],
   "source": [
    "min_song_length = 670000\n",
    "for genre_list in paths:\n",
    "    for song in genre_list:\n",
    "        y, _ = librosa.load(song)\n",
    "        if y.shape[0] < min_song_length:\n",
    "            min_song_length = y.shape[0]\n",
    "\n",
    "print(min_song_length)"
   ]
  },
  {
   "cell_type": "markdown",
   "metadata": {},
   "source": [
    "# Generating MFCC on arbitrary song"
   ]
  },
  {
   "cell_type": "code",
   "execution_count": 41,
   "metadata": {},
   "outputs": [
    {
     "name": "stdout",
     "output_type": "stream",
     "text": [
      "(13, 1290)\n"
     ]
    }
   ],
   "source": [
    "y, sr = librosa.load(paths[0][7])\n",
    "\n",
    "hop_length = 512\n",
    "n_mfcc = 13\n",
    "mfcc = librosa.feature.mfcc(y=y[:min_song_length], sr=sr, hop_length=hop_length, n_mfcc=n_mfcc)\n",
    "\n",
    "print(mfcc.shape)"
   ]
  },
  {
   "cell_type": "markdown",
   "metadata": {},
   "source": [
    "http://cs229.stanford.edu/proj2018/report/19.pdf for DCNNs"
   ]
  },
  {
   "cell_type": "markdown",
   "metadata": {},
   "source": [
    "TODO:\n",
    "\n",
    "- Develop MFCCs\n",
    "- Work under assumption that we are flattening MFCCs for each song\n",
    "- Develop architecture for DCNN under those assumptions (13 * 1290 X 1 input data point)\n"
   ]
  }
 ],
 "metadata": {
  "kernelspec": {
   "display_name": "Python 3",
   "language": "python",
   "name": "python3"
  },
  "language_info": {
   "codemirror_mode": {
    "name": "ipython",
    "version": 3
   },
   "file_extension": ".py",
   "mimetype": "text/x-python",
   "name": "python",
   "nbconvert_exporter": "python",
   "pygments_lexer": "ipython3",
   "version": "3.6.8"
  }
 },
 "nbformat": 4,
 "nbformat_minor": 2
}
