{
 "cells": [
  {
   "cell_type": "markdown",
   "metadata": {},
   "source": [
    "# TONG CODE"
   ]
  },
  {
   "cell_type": "markdown",
   "metadata": {},
   "source": [
    "# Imports and Version Checking"
   ]
  },
  {
   "cell_type": "code",
   "execution_count": 1,
   "metadata": {},
   "outputs": [
    {
     "name": "stderr",
     "output_type": "stream",
     "text": [
      "/home/tzhao/.local/lib/python3.6/site-packages/numba/errors.py:137: UserWarning: Insufficiently recent colorama version found. Numba requires colorama >= 0.3.9\n",
      "  warnings.warn(msg)\n"
     ]
    },
    {
     "name": "stdout",
     "output_type": "stream",
     "text": [
      "Python version: 3.6.8 (default, Oct  7 2019, 12:59:55) \n",
      "[GCC 8.3.0]\n",
      "Librosa version: 0.7.1\n",
      "Sklearn version: 0.21.3\n",
      "Torch version: 1.0.1.post2\n"
     ]
    }
   ],
   "source": [
    "import librosa\n",
    "from librosa import display\n",
    "import sklearn\n",
    "import numpy as np\n",
    "import torch\n",
    "\n",
    "# python version\n",
    "import sys\n",
    "print(\"Python version: \" + sys.version)\n",
    "\n",
    "# librosa version\n",
    "print(\"Librosa version: \" + librosa.__version__)\n",
    "\n",
    "# sklearn\n",
    "print(\"Sklearn version: \" + sklearn.__version__)\n",
    "\n",
    "# torch\n",
    "print(\"Torch version: \" + torch.__version__)"
   ]
  },
  {
   "cell_type": "markdown",
   "metadata": {},
   "source": [
    "# Data Loading"
   ]
  },
  {
   "cell_type": "code",
   "execution_count": 2,
   "metadata": {},
   "outputs": [],
   "source": [
    "# from brendan\n",
    "\n",
    "from sklearn.model_selection import train_test_split\n",
    "\n",
    "all_genres = ['blues','classical','country','disco','hiphop','jazz','metal','pop','reggae','rock']\n",
    "num_songs = 100\n",
    "Y_LIMIT = 660000"
   ]
  },
  {
   "cell_type": "code",
   "execution_count": 3,
   "metadata": {},
   "outputs": [],
   "source": [
    "# Loads n_songs songs from each genre in load_genres.  \n",
    "def load_dataset(genres=all_genres, n_songs=num_songs):\n",
    "    X, Y = None, None\n",
    "    for g_idx, g in enumerate(genres):\n",
    "        for s_idx in range(n_songs):\n",
    "            y, sr = librosa.load(f'genres/{g}/{g}.000{s_idx:02d}.au')\n",
    "            # Limit length of sample so that all features have the same length.\n",
    "            y = y[:Y_LIMIT]\n",
    "            mfcc = librosa.feature.mfcc(y=y, sr=sr, hop_length=512, n_mfcc=13).flatten()\n",
    "            \n",
    "            if X is None:\n",
    "                X = mfcc.reshape(1, mfcc.shape[0])\n",
    "                Y = np.array([[g_idx]])\n",
    "                \n",
    "            else:\n",
    "                X = np.vstack([X, mfcc])\n",
    "                Y = np.vstack([Y, np.array([[g_idx]])])\n",
    "    return X, Y"
   ]
  },
  {
   "cell_type": "code",
   "execution_count": 4,
   "metadata": {},
   "outputs": [
    {
     "name": "stdout",
     "output_type": "stream",
     "text": [
      "CPU times: user 10min 49s, sys: 9min 37s, total: 20min 27s\n",
      "Wall time: 5min 2s\n"
     ]
    }
   ],
   "source": [
    "%%time\n",
    "X, Y = load_dataset(all_genres, 100)\n",
    "Y = Y.ravel()"
   ]
  },
  {
   "cell_type": "code",
   "execution_count": 5,
   "metadata": {},
   "outputs": [
    {
     "name": "stdout",
     "output_type": "stream",
     "text": [
      "(1000, 16770) (1000,)\n",
      "(750, 16770) (250, 16770) (750,) (250,)\n"
     ]
    }
   ],
   "source": [
    "print(X.shape, Y.shape)\n",
    "X_train, X_test, Y_train, Y_test = train_test_split(X, Y)\n",
    "print(X_train.shape, X_test.shape, Y_train.shape, Y_test.shape)"
   ]
  },
  {
   "cell_type": "markdown",
   "metadata": {},
   "source": [
    "## PyTorch DataLoader"
   ]
  },
  {
   "cell_type": "code",
   "execution_count": 6,
   "metadata": {},
   "outputs": [
    {
     "name": "stdout",
     "output_type": "stream",
     "text": [
      "750\n",
      "250\n"
     ]
    }
   ],
   "source": [
    "# making torch style dataset and dataloader\n",
    "\n",
    "from torch.utils.data import Dataset, DataLoader\n",
    "\n",
    "class MusicDataset(Dataset):\n",
    "\n",
    "    def __init__(self, X, Y):\n",
    "        self.X = torch.from_numpy(X)\n",
    "        self.Y = torch.from_numpy(Y)\n",
    "\n",
    "    def __len__(self):\n",
    "        assert(self.X.size()[0] == self.Y.size()[0])\n",
    "        return self.X.size()[0]\n",
    "\n",
    "    def __getitem__(self, index):\n",
    "        data = self.X[index,].reshape((1,self.X.size()[1]))\n",
    "        \n",
    "        # normalizing\n",
    "        data = (data - data.mean())/data.std()\n",
    "        \n",
    "        label = self.Y[index]\n",
    "        return (data, label)\n",
    "    \n",
    "trainset = MusicDataset(X_train, Y_train)\n",
    "testset = MusicDataset(X_test, Y_test)\n",
    "\n",
    "print(len(trainset))\n",
    "print(len(testset))\n",
    "\n",
    "genre_trainloader = DataLoader(trainset, batch_size = 64, shuffle = True)\n",
    "genre_testloader = DataLoader(testset, batch_size = 64, shuffle = False)"
   ]
  },
  {
   "cell_type": "markdown",
   "metadata": {},
   "source": [
    "# Models"
   ]
  },
  {
   "cell_type": "code",
   "execution_count": 7,
   "metadata": {},
   "outputs": [],
   "source": [
    "import torch.nn as nn\n",
    "import torch.nn.functional as F\n",
    "import math\n",
    "from torchsummary import summary"
   ]
  },
  {
   "cell_type": "markdown",
   "metadata": {},
   "source": [
    "## CNN"
   ]
  },
  {
   "cell_type": "code",
   "execution_count": 8,
   "metadata": {},
   "outputs": [],
   "source": [
    "# attempt at regularization\n",
    "\n",
    "class WeightClipper():\n",
    "\n",
    "    def __init__(self):\n",
    "        pass\n",
    "\n",
    "    def __call__(self, module):\n",
    "        if hasattr(module, 'weight'):\n",
    "            w = module.weight.data\n",
    "            w = w.clamp(-1,1)"
   ]
  },
  {
   "cell_type": "code",
   "execution_count": 9,
   "metadata": {},
   "outputs": [],
   "source": [
    "class Conv_Block(nn.Module):\n",
    "    \n",
    "    def __init__(self, in_planes, planes, kernel_size, stride, pool_size):\n",
    "        \n",
    "        super(Conv_Block, self).__init__()\n",
    "        \n",
    "        self.conv = nn.Conv1d(in_channels = in_planes, out_channels = planes, kernel_size = kernel_size, stride=stride)\n",
    "        self.dropout = nn.Dropout(p=0.5)\n",
    "        self.maxpool = nn.AvgPool1d(kernel_size = pool_size)\n",
    "        self.bnorm = nn.BatchNorm1d(num_features = planes)\n",
    "    \n",
    "    def forward(self, x):\n",
    "        x = self.conv(x)\n",
    "        x = self.dropout(x)\n",
    "        x = self.maxpool(x)\n",
    "#         x = self.bnorm(x)\n",
    "        x = F.relu(x)\n",
    "        \n",
    "        return x\n",
    "\n",
    "class Conv(nn.Module):\n",
    "    \n",
    "    def __init__(self, params):    \n",
    "        super(Conv, self).__init__()\n",
    "        \n",
    "        filters = params['filters']\n",
    "        kernel_sizes = params['kernel_sizes']\n",
    "        strides = params['strides']\n",
    "        max_pool_sizes = params['max_pool_sizes']\n",
    "        \n",
    "        assert(len(filters) == len(kernel_sizes))\n",
    "        assert(len(filters) == len(strides))\n",
    "        assert(len(filters) == len(max_pool_sizes))\n",
    "        \n",
    "        prev_outplanes = 1\n",
    "        prev_outsize = params['input_length']\n",
    "        \n",
    "        layers = []\n",
    "        \n",
    "        for i in range(len(filters)):\n",
    "            inplanes = prev_outplanes\n",
    "            outplanes = inplanes * filters[i]\n",
    "            out_size = math.floor((math.floor((prev_outsize - kernel_sizes[i]) / float(strides[i]))+\\\n",
    "                                1)/float(max_pool_sizes[i]))\n",
    "            \n",
    "            prev_outsize = out_size\n",
    "            prev_outplanes = outplanes\n",
    "            \n",
    "            new_block = Conv_Block(inplanes, outplanes, kernel_sizes[i], strides[i], max_pool_sizes[i])\n",
    "            \n",
    "            layers.append(new_block)\n",
    "            \n",
    "        self.convs = nn.Sequential(*layers)\n",
    "        \n",
    "        in_features = prev_outsize * prev_outplanes\n",
    "        \n",
    "        self.fc = nn.Linear(in_features = in_features, out_features = 10)\n",
    "        \n",
    "    def forward(self, x):\n",
    "        x = self.convs(x)\n",
    "        x = x.view(x.size()[0], -1)\n",
    "        x = self.fc(x)\n",
    "        return x"
   ]
  },
  {
   "cell_type": "code",
   "execution_count": 27,
   "metadata": {},
   "outputs": [
    {
     "name": "stdout",
     "output_type": "stream",
     "text": [
      "----------------------------------------------------------------\n",
      "        Layer (type)               Output Shape         Param #\n",
      "================================================================\n",
      "            Conv1d-1              [-1, 8, 2089]             520\n",
      "           Dropout-2              [-1, 8, 2089]               0\n",
      "         AvgPool1d-3                [-1, 8, 65]               0\n",
      "       BatchNorm1d-4                [-1, 8, 65]              16\n",
      "        Conv_Block-5                [-1, 8, 65]               0\n",
      "            Conv1d-6              [-1, 512, 31]          16,896\n",
      "           Dropout-7              [-1, 512, 31]               0\n",
      "         AvgPool1d-8               [-1, 512, 7]               0\n",
      "       BatchNorm1d-9               [-1, 512, 7]           1,024\n",
      "       Conv_Block-10               [-1, 512, 7]               0\n",
      "           Linear-11                   [-1, 10]          35,850\n",
      "================================================================\n",
      "Total params: 54,306\n",
      "Trainable params: 54,306\n",
      "Non-trainable params: 0\n",
      "----------------------------------------------------------------\n",
      "Input size (MB): 0.06\n",
      "Forward/backward pass size (MB): 0.59\n",
      "Params size (MB): 0.21\n",
      "Estimated Total Size (MB): 0.86\n",
      "----------------------------------------------------------------\n"
     ]
    }
   ],
   "source": [
    "# Debugging\n",
    "\n",
    "# big big convnet\n",
    "# conv_params = {\n",
    "#     'input_length' : 16770,\n",
    "#     'filters' : [8, 8, 8, 8],\n",
    "#     'kernel_sizes' : [64, 32, 16, 8],\n",
    "#     'strides' : [8, 4, 2, 1],\n",
    "#     'max_pool_sizes' : [2, 2, 2, 2]\n",
    "# }\n",
    "\n",
    "# smaller convnet\n",
    "# conv_params = {\n",
    "#     'input_length' : 16770,\n",
    "#     'filters' : [8, 16, 64],\n",
    "#     'kernel_sizes' : [64, 8, 4],\n",
    "#     'strides' : [8, 4, 2],\n",
    "#     'max_pool_sizes' : [16, 4, 2]\n",
    "# }\n",
    "\n",
    "# smallest convnet\n",
    "conv_params = {\n",
    "    'input_length' : 16770,\n",
    "    'filters' : [8, 64],\n",
    "    'kernel_sizes' : [64, 4],\n",
    "    'strides' : [8, 2],\n",
    "    'max_pool_sizes' : [32, 4]\n",
    "}\n",
    "\n",
    "# observation: this net works as long as we don't run out of elements to convolute across (no padding)\n",
    "\n",
    "conv_test = Conv(conv_params)\n",
    "clipper = WeightClipper()\n",
    "conv_test.apply(clipper)\n",
    "summary(conv_test, (1,16770))"
   ]
  },
  {
   "cell_type": "markdown",
   "metadata": {},
   "source": [
    "## DCNN"
   ]
  },
  {
   "cell_type": "code",
   "execution_count": 11,
   "metadata": {},
   "outputs": [],
   "source": [
    "class DConv_Block(nn.Module):\n",
    "    \n",
    "    def __init__(self, in_planes, planes, kernel_size, dialation, pool_size):\n",
    "        \n",
    "        super(DConv_Block, self).__init__()\n",
    "        \n",
    "        padding = int((kernel_size + (kernel_size - 1)*(dialation - 1) - 1)/2)\n",
    "        \n",
    "        self.dconv = nn.Conv1d(in_channels = in_planes, out_channels = planes,\n",
    "                               kernel_size = kernel_size, stride=1, padding=padding, dilation=dialation)\n",
    "        self.dropout = nn.Dropout(p=0.5)\n",
    "        self.avgpool = nn.AvgPool1d(kernel_size = pool_size)\n",
    "        self.bnorm = nn.BatchNorm1d(num_features = planes)\n",
    "    \n",
    "    def forward(self, x):\n",
    "        x = self.dconv(x)\n",
    "        x = self.dropout(x)\n",
    "        x = self.avgpool(x)\n",
    "        x = self.bnorm(x)\n",
    "        x = F.relu(x)\n",
    "        return x\n",
    "\n",
    "class DConv(nn.Module):\n",
    "    \n",
    "    def __init__(self, params):    \n",
    "        super(DConv, self).__init__()\n",
    "        \n",
    "        self.dc_unit_1 = DConv_Block(1, params['num_filters_1'], params['ker_size_1'],\n",
    "                                     params['dialation_1'], params['avg_pool_size_1'])\n",
    "        \n",
    "        self.dc_unit_2 = DConv_Block(params['num_filters_1'], params['num_filters_1']*params['num_filters_2'],\n",
    "                                     params['ker_size_2'], params['dialation_2'], params['avg_pool_size_2'])\n",
    "        \n",
    "        in_features = params['num_filters_1'] * params['num_filters_2'] * \\\n",
    "            math.floor(math.floor(params['input_length']/params['avg_pool_size_1'])/params['avg_pool_size_2'])\n",
    "        \n",
    "        self.fc = nn.Linear(in_features = in_features, out_features = 10)\n",
    "        \n",
    "    def forward(self, x):\n",
    "        x = self.dc_unit_1(x)\n",
    "        x = self.dc_unit_2(x)\n",
    "        x = x.view(x.size()[0], -1)\n",
    "        x = self.fc(x)\n",
    "        return x\n"
   ]
  },
  {
   "cell_type": "code",
   "execution_count": 12,
   "metadata": {},
   "outputs": [
    {
     "name": "stdout",
     "output_type": "stream",
     "text": [
      "----------------------------------------------------------------\n",
      "        Layer (type)               Output Shape         Param #\n",
      "================================================================\n",
      "            Conv1d-1            [-1, 16, 16770]           1,040\n",
      "           Dropout-2            [-1, 16, 16770]               0\n",
      "         AvgPool1d-3              [-1, 16, 524]               0\n",
      "       BatchNorm1d-4              [-1, 16, 524]              32\n",
      "       DConv_Block-5              [-1, 16, 524]               0\n",
      "            Conv1d-6            [-1, 1024, 524]         263,168\n",
      "           Dropout-7            [-1, 1024, 524]               0\n",
      "         AvgPool1d-8            [-1, 1024, 131]               0\n",
      "       BatchNorm1d-9            [-1, 1024, 131]           2,048\n",
      "      DConv_Block-10            [-1, 1024, 131]               0\n",
      "           Linear-11                   [-1, 10]       1,341,450\n",
      "================================================================\n",
      "Total params: 1,607,738\n",
      "Trainable params: 1,607,738\n",
      "Non-trainable params: 0\n",
      "----------------------------------------------------------------\n",
      "Input size (MB): 0.06\n",
      "Forward/backward pass size (MB): 15.54\n",
      "Params size (MB): 6.13\n",
      "Estimated Total Size (MB): 21.74\n",
      "----------------------------------------------------------------\n"
     ]
    }
   ],
   "source": [
    "# Debugging\n",
    "dconv_params = {\n",
    "    'input_length' : 16770,\n",
    "    'num_filters_1' : 16,\n",
    "    'ker_size_1' : 64,\n",
    "    'dialation_1' : 8,\n",
    "    'avg_pool_size_1' : 32,\n",
    "    'num_filters_2' : 4,\n",
    "    'ker_size_2' : 16,\n",
    "    'dialation_2' : 2,\n",
    "    'avg_pool_size_2' : 4\n",
    "}\n",
    "\n",
    "# observation: this net works as long as dialation_2 is even\n",
    "\n",
    "dconv_test = DConv(dconv_params)\n",
    "summary(dconv_test, (1,16770))"
   ]
  },
  {
   "cell_type": "markdown",
   "metadata": {},
   "source": [
    "## Training and Testing Code"
   ]
  },
  {
   "cell_type": "code",
   "execution_count": 13,
   "metadata": {},
   "outputs": [],
   "source": [
    "# defining training and testing functions\n",
    "\n",
    "def train(net, criterion, optimizer, num_epochs, trainloader):\n",
    "    \n",
    "    device = torch.device(\"cuda:0\" if torch.cuda.is_available() else \"cpu\")\n",
    "    net.to(device)\n",
    "    \n",
    "    net.train()\n",
    "    \n",
    "    for epoch in range(num_epochs):\n",
    "        \n",
    "        correct = 0\n",
    "        total = 0\n",
    "        \n",
    "        print(\"Epoch: \" + str(epoch+1))\n",
    "        running_loss = 0.0\n",
    "        for data in trainloader:\n",
    "            \n",
    "            inputs, labels = data\n",
    "            \n",
    "            inputs = inputs.to(device)\n",
    "            labels = labels.to(device)\n",
    "            \n",
    "            optimizer.zero_grad()\n",
    "            \n",
    "            outputs = net(inputs)\n",
    "            \n",
    "            _, predicted = torch.max(outputs.data, 1)\n",
    "            \n",
    "            total += labels.size(0)\n",
    "            correct += (predicted == labels).sum().item()\n",
    "            \n",
    "            loss = criterion(outputs, labels)\n",
    "            loss.backward()\n",
    "            optimizer.step()            \n",
    "            running_loss += loss.item()\n",
    "            \n",
    "        print(\"Loss: \" + str(running_loss / 750.0) + ' Accuracy: ' + str((100 * correct / total)) + '%')\n",
    "    print('Finished Training')\n",
    "\n",
    "def test(net, testloader):\n",
    "    \n",
    "    device = torch.device(\"cuda:0\" if torch.cuda.is_available() else \"cpu\")\n",
    "    net.to(device)\n",
    "    \n",
    "    net.eval()\n",
    "    \n",
    "    correct = 0\n",
    "    total = 0\n",
    "    \n",
    "    with torch.no_grad():\n",
    "        for data in testloader:\n",
    "            inputs, labels = data\n",
    "            inputs = inputs.to(device)\n",
    "            labels = labels.to(device)\n",
    "            \n",
    "            outputs = net(inputs)\n",
    "            _, predicted = torch.max(outputs.data, 1)\n",
    "            \n",
    "            total += labels.size(0)\n",
    "            correct += (predicted == labels).sum().item()\n",
    "            \n",
    "    # todo: calculate length of testloader instead of hardcoding\n",
    "            \n",
    "    print('Accuracy of the network on 250 test datapoints: ' + str((100 * correct / total)) + '%')"
   ]
  },
  {
   "cell_type": "markdown",
   "metadata": {},
   "source": [
    "# Evaluating Models"
   ]
  },
  {
   "cell_type": "code",
   "execution_count": 14,
   "metadata": {},
   "outputs": [],
   "source": [
    "# from brendan\n",
    "from sklearn.metrics import confusion_matrix, classification_report\n",
    "from sklearn.model_selection import cross_val_score, GridSearchCV\n",
    "from sklearn.utils.multiclass import unique_labels\n",
    "from sklearn.decomposition import PCA\n",
    "from sklearn.cross_decomposition import CCA\n",
    "from sklearn.utils import shuffle\n",
    "import seaborn as sns\n",
    "import matplotlib.pyplot as plt\n",
    "\n",
    "def plot_confusion_matrix(test_labels, predictions, title):\n",
    "    ax= plt.subplot()\n",
    "    cm = confusion_matrix(test_labels, predictions)\n",
    "    sns.heatmap(cm, annot=True, ax = ax, cmap = sns.cm.rocket_r); #annot=True to annotate cells\n",
    "\n",
    "    # labels, title and ticks\n",
    "    ax.set_xlabel('Predicted labels');ax.set_ylabel('True labels'); \n",
    "    ax.set_title(f'{title} Confusion Matrix'); \n",
    "    ax.set_ylim(top=0, bottom=10)\n",
    "    ax.xaxis.set_ticklabels(all_genres); ax.yaxis.set_ticklabels(all_genres);\n",
    "    plt.setp(ax.get_xticklabels(), rotation=45, ha=\"right\",\n",
    "                 rotation_mode=\"anchor\")\n",
    "    plt.setp(ax.get_yticklabels(), rotation=45, ha=\"right\",\n",
    "                 rotation_mode=\"anchor\")\n",
    "    plt.show()"
   ]
  },
  {
   "cell_type": "code",
   "execution_count": 15,
   "metadata": {},
   "outputs": [],
   "source": [
    "# test_labels = Y_test\n",
    "\n",
    "def net_confusion_matrix(net, testloader, test_labels, title):\n",
    "    \n",
    "    separate_predictions = []\n",
    "    \n",
    "    device = torch.device(\"cuda:0\" if torch.cuda.is_available() else \"cpu\")\n",
    "    net.to(device)\n",
    "    \n",
    "    net.eval()\n",
    "    \n",
    "    with torch.no_grad():\n",
    "        for data in testloader:\n",
    "            \n",
    "            inputs, labels = data\n",
    "            inputs = inputs.to(device)\n",
    "            labels = labels.to(device)\n",
    "\n",
    "            outputs = net(inputs)\n",
    "            _, predicted = torch.max(outputs.data, 1)\n",
    "            separate_predictions.append(predicted.numpy())\n",
    "    \n",
    "    predictions = np.concatenate(separate_predictions)\n",
    "    plot_confusion_matrix(test_labels, predictions, title)            "
   ]
  },
  {
   "cell_type": "code",
   "execution_count": 28,
   "metadata": {},
   "outputs": [],
   "source": [
    "conv_net = Conv(conv_params)\n",
    "\n",
    "# regularizing\n",
    "conv_net.apply(clipper)\n",
    "\n",
    "conv_crit = nn.CrossEntropyLoss()\n",
    "conv_opt = torch.optim.Adam(conv_net.parameters(), lr=0.001)"
   ]
  },
  {
   "cell_type": "code",
   "execution_count": 17,
   "metadata": {},
   "outputs": [],
   "source": [
    "dconv_net = DConv(dconv_params)\n",
    "\n",
    "# regularizing\n",
    "dconv_net.apply(clipper)\n",
    "\n",
    "dconv_crit = nn.CrossEntropyLoss()\n",
    "dconv_opt = torch.optim.Adam(dconv_net.parameters(), lr=0.001)"
   ]
  },
  {
   "cell_type": "code",
   "execution_count": 29,
   "metadata": {
    "scrolled": false
   },
   "outputs": [
    {
     "name": "stdout",
     "output_type": "stream",
     "text": [
      "Epoch: 1\n",
      "Loss: 0.035307995160420734 Accuracy: 18.666666666666668%\n",
      "Epoch: 2\n",
      "Loss: 0.030450906912485757 Accuracy: 32.13333333333333%\n",
      "Epoch: 3\n",
      "Loss: 0.028065497716267904 Accuracy: 37.2%\n",
      "Epoch: 4\n",
      "Loss: 0.026074575424194335 Accuracy: 41.333333333333336%\n",
      "Epoch: 5\n",
      "Loss: 0.02501292085647583 Accuracy: 43.2%\n",
      "Epoch: 6\n",
      "Loss: 0.024114625136057537 Accuracy: 46.266666666666666%\n",
      "Epoch: 7\n",
      "Loss: 0.02360880470275879 Accuracy: 47.733333333333334%\n",
      "Epoch: 8\n",
      "Loss: 0.022983575026194254 Accuracy: 48.13333333333333%\n",
      "Epoch: 9\n",
      "Loss: 0.021954542636871337 Accuracy: 52.4%\n",
      "Epoch: 10\n",
      "Loss: 0.021845670064290366 Accuracy: 51.333333333333336%\n",
      "Epoch: 11\n",
      "Loss: 0.022069928487141927 Accuracy: 51.06666666666667%\n",
      "Epoch: 12\n",
      "Loss: 0.021462127208709717 Accuracy: 53.2%\n",
      "Epoch: 13\n",
      "Loss: 0.020748903751373293 Accuracy: 52.666666666666664%\n",
      "Epoch: 14\n",
      "Loss: 0.02094403107961019 Accuracy: 52.13333333333333%\n",
      "Epoch: 15\n",
      "Loss: 0.020996543248494468 Accuracy: 52.666666666666664%\n",
      "Epoch: 16\n",
      "Loss: 0.021091015974680584 Accuracy: 55.6%\n",
      "Epoch: 17\n",
      "Loss: 0.02095486831665039 Accuracy: 53.2%\n",
      "Epoch: 18\n",
      "Loss: 0.019847684462865195 Accuracy: 55.6%\n",
      "Epoch: 19\n",
      "Loss: 0.02027526537577311 Accuracy: 54.266666666666666%\n",
      "Epoch: 20\n",
      "Loss: 0.020281627813975016 Accuracy: 55.2%\n",
      "Epoch: 21\n",
      "Loss: 0.019456990957260133 Accuracy: 56.0%\n",
      "Epoch: 22\n",
      "Loss: 0.019224102020263673 Accuracy: 58.93333333333333%\n",
      "Epoch: 23\n",
      "Loss: 0.01926302146911621 Accuracy: 56.93333333333333%\n",
      "Epoch: 24\n",
      "Loss: 0.01948063818613688 Accuracy: 56.4%\n",
      "Epoch: 25\n",
      "Loss: 0.01948507809638977 Accuracy: 55.6%\n",
      "Epoch: 26\n",
      "Loss: 0.01922187868754069 Accuracy: 57.2%\n",
      "Epoch: 27\n",
      "Loss: 0.018681530316670737 Accuracy: 57.06666666666667%\n",
      "Epoch: 28\n",
      "Loss: 0.018526843388875325 Accuracy: 56.93333333333333%\n",
      "Epoch: 29\n",
      "Loss: 0.018677823781967164 Accuracy: 57.733333333333334%\n",
      "Epoch: 30\n",
      "Loss: 0.01847902782758077 Accuracy: 57.46666666666667%\n",
      "Finished Training\n",
      "Accuracy of the network on 250 test datapoints: 41.6%\n"
     ]
    },
    {
     "data": {
      "image/png": "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\n",
      "text/plain": [
       "<Figure size 432x288 with 2 Axes>"
      ]
     },
     "metadata": {
      "needs_background": "light"
     },
     "output_type": "display_data"
    },
    {
     "name": "stdout",
     "output_type": "stream",
     "text": [
      "CPU times: user 1min 32s, sys: 781 ms, total: 1min 32s\n",
      "Wall time: 17.1 s\n"
     ]
    }
   ],
   "source": [
    "%%time\n",
    "# training and evaluating CNN\n",
    "\n",
    "train(conv_net, conv_crit, conv_opt, 30, genre_trainloader)\n",
    "test(conv_net, genre_testloader)\n",
    "net_confusion_matrix(conv_net, genre_testloader, Y_test, \"Preliminary CNN\")"
   ]
  },
  {
   "cell_type": "code",
   "execution_count": 19,
   "metadata": {
    "scrolled": false
   },
   "outputs": [
    {
     "name": "stdout",
     "output_type": "stream",
     "text": [
      "Epoch: 1\n",
      "Loss: 0.23904322592417399 Accuracy: 16.133333333333333%\n",
      "Epoch: 2\n",
      "Loss: 0.09319016869862874 Accuracy: 24.533333333333335%\n",
      "Epoch: 3\n",
      "Loss: 0.0493895591100057 Accuracy: 36.4%\n",
      "Epoch: 4\n",
      "Loss: 0.03885382397969564 Accuracy: 38.666666666666664%\n",
      "Epoch: 5\n",
      "Loss: 0.027864831606547038 Accuracy: 48.266666666666666%\n",
      "Epoch: 6\n",
      "Loss: 0.019986863613128663 Accuracy: 56.266666666666666%\n",
      "Epoch: 7\n",
      "Loss: 0.01613887675603231 Accuracy: 64.4%\n",
      "Epoch: 8\n",
      "Loss: 0.015811455647150675 Accuracy: 64.8%\n",
      "Epoch: 9\n",
      "Loss: 0.014936131397883098 Accuracy: 66.93333333333334%\n",
      "Epoch: 10\n",
      "Loss: 0.014139051278432211 Accuracy: 67.73333333333333%\n",
      "Epoch: 11\n",
      "Loss: 0.012060608784357706 Accuracy: 73.6%\n",
      "Epoch: 12\n",
      "Loss: 0.010105416615804037 Accuracy: 76.93333333333334%\n",
      "Epoch: 13\n",
      "Loss: 0.010342124581336975 Accuracy: 76.0%\n",
      "Epoch: 14\n",
      "Loss: 0.007833739797274272 Accuracy: 83.6%\n",
      "Epoch: 15\n",
      "Loss: 0.007576285401980082 Accuracy: 82.8%\n",
      "Epoch: 16\n",
      "Loss: 0.0075527210632960005 Accuracy: 83.73333333333333%\n",
      "Epoch: 17\n",
      "Loss: 0.006227895776430766 Accuracy: 86.4%\n",
      "Epoch: 18\n",
      "Loss: 0.006053279121716817 Accuracy: 88.8%\n",
      "Epoch: 19\n",
      "Loss: 0.004929718693097432 Accuracy: 90.66666666666667%\n",
      "Epoch: 20\n",
      "Loss: 0.003770359953244527 Accuracy: 92.53333333333333%\n",
      "Epoch: 21\n",
      "Loss: 0.002913553059101105 Accuracy: 94.4%\n",
      "Epoch: 22\n",
      "Loss: 0.003324764688809713 Accuracy: 93.73333333333333%\n",
      "Epoch: 23\n",
      "Loss: 0.002420238475004832 Accuracy: 95.73333333333333%\n",
      "Epoch: 24\n",
      "Loss: 0.00241877955198288 Accuracy: 96.26666666666667%\n",
      "Epoch: 25\n",
      "Loss: 0.0025715176065762837 Accuracy: 94.8%\n",
      "Epoch: 26\n",
      "Loss: 0.0019796745081742603 Accuracy: 96.8%\n",
      "Epoch: 27\n",
      "Loss: 0.0011318769405285517 Accuracy: 99.2%\n",
      "Epoch: 28\n",
      "Loss: 0.001080607146024704 Accuracy: 99.2%\n",
      "Epoch: 29\n",
      "Loss: 0.0012833945552508037 Accuracy: 98.8%\n",
      "Epoch: 30\n",
      "Loss: 0.0011748772859573363 Accuracy: 98.93333333333334%\n",
      "Finished Training\n",
      "Accuracy of the network on 250 test datapoints: 53.6%\n"
     ]
    },
    {
     "data": {
      "image/png": "iVBORw0KGgoAAAANSUhEUgAAAX8AAAExCAYAAACUFqJ7AAAABHNCSVQICAgIfAhkiAAAAAlwSFlzAAALEgAACxIB0t1+/AAAADh0RVh0U29mdHdhcmUAbWF0cGxvdGxpYiB2ZXJzaW9uMy4xLjEsIGh0dHA6Ly9tYXRwbG90bGliLm9yZy8QZhcZAAAgAElEQVR4nOydd5gUVdaH319PkAwiDEhSQBEUjGDEBIig6Iq6gAqIijkjui4Y+MRFXUXMAUzoKooBV11xVVTEgIrIikhQFJA4BMlhZrrP90fVaDtO6JmprukZ7stTD13pnnurak7dOvfcc2RmOBwOh2PnIlLRFXA4HA5H+Djl73A4HDshTvk7HA7HTohT/g6Hw7ET4pS/w+Fw7IQ45e9wOBw7IU75VzIkDZL0Sdz6ZkmtyljWHEnHBVY5R6mRtI+kWZI2SbqqHOU8JunmIOtWEZTneXaUDqf8Q0DSIknb/Ad7laRnJNUKomwzq2VmP5Xx3P3M7KMg6lEe/Bda1L8+myX9LOlpSW0KHJcpaYSkHyRt8a/rU5L29Pd/JGm7pOZx53STtChufZGkbEk147YNlvRRMfUrVm45uQH40Mxqm9kDZS3EzC4xs5EB1OcP+O02SVcX2H61v31EguV8JGlwSceV53l2lA6n/MPjFDOrBRwMdARuKniAPCr9PZGUXobTPvevT12gG7AN+FpS+7hjXgFOBc72jzsA+BroGnfMFqCkHnAacHUJx8STiNyysgcwJ4BykskCYGCBbef62wOhjM+MoxxUekVT2TCzZcBkoD381iP6h6RPga1AK0l1JT0paYWkZZJul5RWWHl+72sv//czkh6RNNnvQX8qqbGk+yT9KmmepIPizl0kqZv/e4SkiZKe9U0QcyR1jDv2RkkL/X3fS+odt2+QL2uMpLXAbZLWSeoQd0yWpK2SGpZwfaJmttDMLgOmAiP887sBJwB/MbOvzCzPzDaY2cNm9mRcEQ8AZ0lqXYyYu4GhkuoVV5dE5UpqIukNv80/Srow7vwir6ukD4DjgYf8+9WmYA9ZcWY+v3Mwxv9y2Shpdv7L0b/3t8edd6Ffl3V+3ZrE7TNJl/hfMuslPSxJxVyGr4Aakvbzz98PqOZvzy9zV0lvSVrtP2tvSWrm7/sHcHRcOx+Kq8flkn4Afojbtpf/tTVL0pX+9jT/GbulpHvmSAyn/ENGnkniJOCbuM0DgIuA2sBi4BkgD9gLOAjoDpT4yezTB++rogGwA/gcmOmvvwLcW8y5pwIvAvWAN4CH4vYtxPsDrgv8H/AvSbvH7T8M+AloBIz0y+kft/8sYIqZrU6wHQCv+TLB+xr40sx+KeGcZcA4v45FMQP4CBiaQB0SkfsisBRoApwJjJLUJW5/odfVzLoA04ArfHNHST3p7sAxQBu8+9AHWFvwIF/2Hf7+3fGeqRcLHNYL6ATs7x93Ygmyn+P33v+5/no8EeBpvC+ZFnhfbvntHF6gnVfEnXca3rOzb3xhZpaD9/zcJqkdcCPeF9s/SqinI0Gc8g+P1yWtBz7B69GOitv3jJnNMbM8oD7ey+EaM9tiZtnAGKBfgnImmdnXZrYdmARsN7NnzSwKvIT3MimKT8zsbf/Y5/DMGwCY2ctmttzMYmb2El5P7dC4c5eb2YN+z3gbMB6vB57foxzAnxVGSSzHux4AuwErEjzvDuCU/J5qEdwCXFnSl0hJcv2X+VHA38xsu5nNAp7gj2aSIq9rKcnF6yC0BWRmc82ssLqdAzxlZjPNbAfwd+AI/XGM4k4zW29mS4APgQNLkP0vvPuZgfcs/it+p5mtNbNXzWyrmW3CU9LHJtCmO8xsnf/M/AEz+w64HXgd70U9wL+GjgBwyj88TjOzema2h5ldVuBhj+9V7gFkACv8T/L1wONAVoJyVsX93lbIenEDzSvjfm8FquXbYiUN9D/D8+vUHu9rorA2YGZf+GUcJ6kt3lfMGwm2IZ+mwDr/91q8XmyJ+F8XDwG3FXPMd8BbeD3K4ihJbhNgna/w8lmMV/d8iryupcHMPsBr18NAtqSxkuoUUafFcedtxmtHcXUq1gHBf0n8iNdp+aHgl5CkGpIel7RY0kbgY6CeijBXxlHSl9x4vL+Jt83shxKOdZQCp/xTg/jQqr/gmWsa+C+LemZWx8yK68UmFUl74JlSrgB2M7N6wHdAvJ24sPCw4/E+3QcAr/hfI6WhN565AOB94NB8O3IC3I1nTz+kmGNuBS7kj0qxICXJXQ7Ul1Q7blsLPPNTWdgC1Ihbbxy/08weMLND8MwkbYDri6jTHvkr8jybditHnfJ5FrjO/78g1wH7AIeZWR088xT8/owUFT64pLDCj+C9pE+U1Ll01XUUh1P+KYb/Gf8uMFpSHUkRSa0lJfIJnSxq4v2RrgaQdB7+gHUJ/AtPgfencIXxJ/yBvZaSHgSOw7fdm9n7wHvAJEmHSEqXVNsfuDy/YDlmth4YjedKWShm9iOeKaxI//qS5Po94M+AOyRVk7Q/cAEFzCKlYBZwut+T3ssvCwBJnSQd5ptetgDbgVghZUwAzpN0oKRd8HrrX5jZojLWKZ+X8MYdJhayrzbel+V6SfXxXqzxrAJK5b8vaQDey3sQ3j0ar4BcpB1O+acqA4FM4HvgV7yB2oRMHsnAzL7HU6Sf4/0RdwA+TeC8X/AGm43fe/BFcYSkzcBGvMHYOkAnM5sdd8yZwNt4SmgD3tdHR7zeeWHcD5RkI74N7+VWHCXJPQvYE6/HPQm41X9plIUxQA7edR4PPB+3rw7eF9iveGadtXhfOH/Al30z8CreeEVrEh8zKhIz22Zm7xdmnwfuA6oDa4DpwDsF9t8PnOl7ApU4n0FSC7/MgWa22cxewBuoH1OuRjh+Qy6ZiyOZSHoKbzD4T/MaHA5HxeEmVjiShu9dcjrFexg5HI4KwJl9HElB0kg888jdZvZzRdfH4agKSGou6UN5Ey3nyA+7IW8y4TLfI2+WpJNKLMuZfRwOh6Ny4E+s3N3MZvoeZl/jTZTrA2w2s3sSLcuZfRwOh6OS4HsDrvB/b5I0l+JdlYtkp+z5b71ncCiNzhg0LAwxjgDIm/1BeMLWrwlNVPrRfUKTFeY1TO/QpeSDAiKjQavi4h4lRHpm04R0TjR3+cV4oV7yGWtmYws71h9T+xjP7XoInkvsRjyvqOvM7NfiZDmbv8PhcKQIZjbWzDrGLUUp/lp4rrzXmNlG4FE8l94D8b4MRpckyyl/h8PhSDJKcEmoLG+S36vA82b2GoCZrfIj4sbw5oIcWlwZ4Gz+DofDkXQikWD62X6gxCeBuWZ2b9z23eOC/PXG87QrFqf8HQ6HI8ko4X59iRyFFytrtqRZ/rZheBFXD8SbTb8IuLikgpzydzgcjiRTfK6cxDGzTyjcQvR2actyyt/hcDiSTCQg5R8kTvknwi7VyTzxXCK7ee60Oe88TWxFcnJMfzJ9Bnfe9xjRWIwzTunB4AHJcdULS05VlbUjN4/z75lAbl6UvFiMbge34bJTkhdxOBqLcfaDb5JVtwYPDjohaXKq6vUL8xksjADNPoHhlH8CZHY5i+jPc8h54zGIpEFGZlLkRKNRbh/9MOPuG0XjrAb0HXw1x3c+jNYt9yj55BSUU5VlZaanMe7avtSolkluNMp5d0+g836t2L9Vk5JPLgMvfPo9LbPqsWVHTlLKh6p7/cJsV1GkBTTgGySpV6NUI7M6kWZ7E53tRySORWFHYRFty8/suQto0awJzZvuTkZGBj27HssH06ZXWjlVWZYkalTzOgF50Rh50SjJ+rJftWEL0+Yt5fROeydHgE9VvX5htqsoIiihJUxcz78EVLcBtnUzmT3OI9KwObFVi8n5cALkBt8Dy169hsZZv6eUbZTVgNlz5ldaOVVZFnimmLNGPcsvq9fT99iD6NAyOb3+u9/8gmt6dmTLjtyklJ9PVb1+YberMIIa8A2SKtHzV4ErW3Dd33aRpBmSZjw1fV7iZUciRBq1IG/WR2x/7jYsdwcZh/YMoNaOyk5aJMLEmwbx3zsu4btFK/hx2erAZXw89xd2rVWdfZs1KPngSkYY1y9ViEgJLaHWKVRpSUCSzA9QJOl0SbtaIQGL4qdNn39424TLj236Fdv0K7GVXlTi6IKviTRKjq0wq2EDVmb//gewKnsNWQ13q7RyqrKseOrUqEanfVrw6ZzgI1fPWryKqd8voeedL3PjhKl8tXAFw16cGrgcqJrXDyquXfFISmgJk0qv/OMU/xXASCDYLtLWjdimdWjXRgCk7dGO2NrlgYrIp33bNixZupyly1eSm5vL5ClTOb7z4ZVWTlWWtW7TVjZu9fLRb8/JZfrcRbRsHLxCuapHR94d1pfJN/6VO886lk6td2dUv+Skc66K1w/CbVdROJt/kpB0CHAecLyZZUs6ClgPLDKzLeUtP2fKBDJPvhClpRNbv5qcd54ub5GFkp6exrBrL+XiITcRjUbp3as7e7UK/isjLDlVWdaaDZu5efxkYrEYMYPuh+zDMfu3ToqssKiq1y/MdhVFRKnXz66UIZ3jTT3+envgKryk1o3wghptB242sz8lDnchnR0FcSGdy48L6Vw0TXfdLyGds+zXOaF1/1PvdVQCBWz8B0hqa2bf4QUyqge8YGaH48W0DvfbzuFwOAohFW3+lc7sE6f4r8RLXbZQUkvgRDPb7u/rA5wAnFlhFXU4HA6fsO35iVDpev4Ako4HegFdgLl4gY5y/H3HABcA55jZDxVWSYfD4fBxPf/gWAU8D9wIHA10M7OYpB5m9o6k2SWlMHM4HI6wSMWef6VS/pK64g3kLgNuAVaZ2VH+voHAQElfOMXvcDhSiYjSKroKfyKllX+Bwd26eF48BwB/AwYDL/v+/c2AHkB/p/gdDkeqkYohnSuVq6ekNni2/oPwXgAtgCOA2sCLZrYgkXJy1/wUSqOrNzk6DDEAbFv+J49WRymILikx611gpLVoH5osR/kJwtWzTcOOCemcBatnhPaWSMmev6S9gPVmtkbS6cDlZtbVzBZIegPYBfgncIeZjanQyjocDkcJpGLPP6W8feSxC3A/cL2kWn52+nqS8rPU/wh8DrQGrpRUvbBAbg6Hw5EqKMF/YZJSyh+ImNkO4DJgL+BmSelmdgiwu6TX/eMaALOBW8xsW2GB3BwOhyNVSFMkoSVMUkr5m1nU/7kWGAocjPcFkGlmRwD1Jb0F3Ak8YGbZFVRVh8PhSJhUDOmcEjZ/SUcCLczsRUlX4XnyvA+sAU4DopLGmNkxkloDm5zidzgclQWXw7dodgXukLQfni2/t///PkBDPDfORpJGmtnCiqumw+FwlJ5UnOSVEmYfM/sPcBGe0jdfwU/F6/1/CzyEF60zOZnTS+CT6TPo1W8wPfuczxPPTQy07GbNmvD+uy/z7f8+5H+zPuDKKy4A4Jabh7D45xnM+OpdZnz1Lj17BBvFMJlt2hlkrVy7ngtGPkbvoXfTe+g9PD85ua62YbWrKt6rsGUVhgvvUAxm9p6k4cAzkvqa2UvAXN/t8y0z618R9YpGo9w++mHG3TeKxlkN6Dv4ao7vfBitWwYTDzwvL4/rb/g/vpn1HbVq1eTLL97h/SkfA3D/A+O4d8zjgciJJ9lt2hlkpUUiDO3fi3Ytm7Fl23b6Dbufwzu0oXWzRoHLCqtdVfVehSmrKFzPvwTM7N/AADwT0AhJpwEtgSUVVafZcxfQolkTmjfdnYyMDHp2PZYPpk0PrPyVK7P5ZpY3wWjz5i3Mm/cDTZs0Dqz8wkh2m3YGWQ13rUO7ls0AqFm9Gq2aZpG9bkNSZIXVrqp6r8KUVRQRRRJaQq1TqNISwMzeAoYAN+Nl5/qL79tfJJJqJ6s+2avX0Dir4W/rjbIakL16bVJk7bFHMw48oD1ffPkNAJddeh4zv36PcWNHU69e3cDkhNmmqiornmWr1zFv0XI67NUiKeWH1a6qeq8q6rmIJxXTOKac8gcws9fxwjVfbWY/FXespL2BGyUdWsJxF0maIWnGE89OCLC2wVCzZg0mvjSOIUNvZdOmzTz2+LO0aXskh3TszsqV2dz9z1squoqOQti6fQfXjXmW6weeSq0a1Sq6Oo4Uxdn8S4GZTU3w0Or+cpKkqJl9XUR5Y4GxULrYPlkNG7Aye/Vv66uy15DVMNhE0+np6bz80jgmTJjE669PBiA7+/dUf088+Tz/fn18YPLCaFNVlwWQmxdlyJhnOemog+h2aIekyQmrXVX1XoX9XBSGs/kHSH5IBzP7FhiPF++nt5/MPTDat23DkqXLWbp8Jbm5uUyeMpXjOwebHXLc2NHMnfcj990/9rdtjRtn/fb7tL/0ZM6c+YHJC6NNVV2WmTFi7ERaNcli4MnHJkVGPmG1q6reqzBlFUUqmn1StudfHAUTuJvZ/yRtxcvg1VsSRX0BlJb09DSGXXspFw+5iWg0Su9e3dmrVXBeAkcd2YkB/c/k29nfM+OrdwG4+eY76dv3NA44YF/MjMWLl3LpZX8LTGay27QzyPpm/iLemjaTvZs3ps+N9wJwZd+eHH1Qu8BlhdWuqnqvwpRVFGkpGH6sUoV0hj/F+D8faIeXvP1tPPPPZcAO4G0z+6KwMlxIZ0dBXEhnR1EEEdL5+GYnJKRzPlz6XmhviUpn9olT/FcBA4Ev8MJB3Amk4U0Iqw+c4EcIdTgcjgolFc0+lUb5x4dtltQcaAOciJfFKwaswHMPjeC9CMb6EUIdDoejQklFb59KofwLmHr2MbNfgNuAA4FTzexY4COgE15S91Uu8JvD4UgVXM+/jMQp/iuA2yU18pV7XWC9f1gD4BNghJnlVUxNHQ6H488ElcxFUnNJH0r6XtIcSVf72+tLek/SD/7/u5ZUVqVQ/gCSeuF581xjZqv8zR8AHSRNxjP1POR6/A6HI9VIkxJaEiAPuM7M9gUOBy6XtC+exWOKme0NTPHXiyVlXT0lnYjnjfSOv6kVngfPMknp/r5cSfvgmX9WmdmyRMrOm/1BcipdgC1zXw1FDsC8TleHJqvtV/eHJissVDer5IMCIrYhvP5JJMR2hUmY3lkZDVqVu4ygTDpmtgJvfBMz2yRpLtAU+AtwnH/YeDwzeLH+4anc818LzJeUHzDlB2BPSS3NLM9X/OcAvcxsZqKK3+FwOMImUbNPfBgaf7moyDKlPYGD8DweG/kvBoCVeCHwiyXlev5xM3dnSGoAZEvqD0zEi/ffT9KPeHUfCpxRYZV1OByOBEi0lx0fhqY4JNUCXsUzg2+M9xQyM5NU4ryClFL+Bbx6WpjZEkknAC8DvwLDgP5APyAHGFhS4DeHw+GoaIL05JGUgaf4nzez1/zNqyTtbmYrJO0OlGhbTCmzT5zivxZ4UlKWmU0B/gq8BBxtZvcBfYDzzWx2xdXW4XA4EiMoP3/fMvIkMNfM7o3b9QZwrv/7XODfJZWVUj1/AEmD8JT7X8ws23frnOJ/AXwu6Sw/y9e2Cq2ow+FwJEhacD3/o/ASXs2WNMvfNgzP23GipAuAxXg6tFgqXPkXDNKGF59nLHCE78lzjqS3zezvko4DVhVWjsPhcKQqAXr7fAJFFta1NGVVqNmngI3/dD8j1yrgWOAqYCEwHGgkqbWZfWxmwcU2djgcjhCIJLiESYX2/AsEabsAmGVmr0n6ENhuZtsknQR0wIvUGTo7cvM4/54J5OZFyYvF6HZwGy47pXNSZN0y5gmmfjmL+vXqMOnRUYGX3/Suq6jTpRN5azfwQ48rAGj89/Oo3fVQLDeXnMUrWXr9/cQ2bQlU7ifTZ3DnfY8RjcU445QeDB5Q4hdpystK9r2qKFlV8V6tXLue4Y+8yLoNmwBxZtfDOKdneBF3gYRm74ZNhQ/4SuoInIM3mPuTpE54oRqikgYAo/AGd5dWRP0y09MYd21fJt48iJduOpfP5izi25+WJ0XWqd068+jIoUkpG+DXV6fw86ARf9i2+ZNZ/HDi5fzY8ypyfl5G1mVnBiozGo1y++iHeXT0SN54/nHefv8jFv68OFAZFSEr2feqImRV1XuVFokwtH8vJt1zPf8aeQUvvvsZC5eGaz12sX343Y8/LkpnNeAXoI+kB4H7gTeBffDi9P+lIr16JFGjWiYAedEYedEoyQq+17FDW+rWrpmcwoGtX84hun7TH7ZtnvYNRGPe/m/mk9G4QaAyZ89dQItmTWjedHcyMjLo2fVYPpg2PVAZFSEr2feqImRV1XvVcNc6tGvZDICa1avRqmkW2es2JEVWUQQY3iEwQlX+BQZ3m8NvAxjz8WaqvWJmRwKTgSPM7BszK3V3ID78cxBEYzH63P4MXa5/mMPb7UmHlk2CLD5l2LXPCWyaGkgCtN/IXr2GxlkNf1tvlNWA7NVrA5VREbKqIjvDvVq2eh3zFi2nw14tSj44QFLR5h+qvALROZ+RdJekc4GbzexyM5sqqQ9wAl7QtlIhqX0h3kP5+36bNv3kWx+Xqty0SISJNw3iv3dcwneLVvDjstUln1TJaHh5HywvyvrXP6roqjgcSWHr9h1cN+ZZrh94KrVqVAtVdlBRPYMkFOUvqWbc74FAX7xZuu2B84HbJGVIOhIYAvQzsx9LKaMacDVwur/+hytpZmPNrKOZdbyg1zFlakedGtXotE8LPp3zc5nOT1XqndGVOl068cs1owMvO6thA1Zm//6yXJW9hqyGuwUuJ2xZVZGqfK9y86IMGfMsJx11EN0O7ZA0OUWxU/b8JbUBrpe0f/4mvBm7fYFdgLuAw4DhZvYZcLKZlSVkXxRYBOwHv39llJd1m7aycet2ALbn5DJ97iJaNq46CqXWMQfT8OLTWXThSGx78A5V7du2YcnS5SxdvpLc3FwmT5nK8Z0PD1xO2LKqIlX1XpkZI8ZOpFWTLAaefGxSZJREKvb8w3D13BXYDThF0jYzGy+pHnAM0MPM8iRdBjSRtJuZlcrwJ6k9Xnjn2ZKeAf4j6cu4UNDlYs2Gzdw8fjKxWIyYQfdD9uGY/VsHUfSfuOGuR5jx7TzWb9xMtwHXcFn/3px+YnAPa/P7h1Lz8A6k71qHtp89zar7XqDhpWeizAxaPjcS8AZ9l9/0SGAy09PTGHbtpVw85Cai0Si9e3Vnr1Z7BFZ+RclK9r2qCFlV9V59M38Rb02byd7NG9PnRi8iwpV9e3L0Qe2SIq8wKtytshAUUAf5zwVLETOL+b8HAXvi5dp9FW/y1v+AW/B67JcA58QlaUlUxhF4XxGn4U1v/h4vtnWGmf0rvg7xbPvwieQ0ugCRFu3DEAPAgm7/CE1WVYznH2aM/TBx8fzLT7WDTy13l/yyPfskpHMeWTQxtO5/0nr+cYr/ErwkAxOAznjK+n7gUjzlHwOGJKr48wd0/R7/Q0B34EXgUOBaoCOwVdL7ZrYy0EY5HA5HGQjbhz8Rkmr2kXQqcDmeHX+JpJV4yv8qYBxeLIpdzGxrguXlK/7DgKeB230z0VrgS0njgEHA0UB/SaMhOPu/w+FwlIVUNPsku05NgAm+4k83sy/wQjPXB84G0hJR/JIikmr6in9vYBZQB2/QOP+YTDPbYWaP430JNDWfZDTM4XA4EiUVB3yTrfwXA8dI2sfM8vxtTYBNwDNmlpNgOYcCj/sZvd4EMoH9gYMl3Q9gZjl+bl/wXi4nSqob9IQvh8PhKC07o6vnp8BXwCBJvfycu8OBp8xsTaKFmNl0PIX/FPB3M9tkZuvwXgA9fHMPcS+YH4AzzWyD6/k7HI6KRgkuYZJUm7+fW/IRvMzylwEbgMGJpl4sMFv3eWALMETSDDP7xcx+9e3/X/gDwN+bWczMPi+23JA8IML0tGh9eYn5mgMjTE+LqnivqiphekzFPngjNFkcfGq5i0jf2QZ8AfyM8o9JespfT9TUk5+I+AigGTDVzP4t6U7gVUnHA53wYgS1dT18h8ORqqSe6g8xnn9plH4+ko4FHgOW4kX9fMLMbpT0Tzzbf2PgJqf4HQ5HKrPTuXqWB0kHAH8HTjOz+ZKuA3pLwsxukNQOiJrZgqKCuTkcDkcqsDO6epaKAp45HYAj8FI6AtyLF/r5bEl/MbO5ZrYAnB+/w+FIbXa6Ad/S4tv4uwJb/PAM1YHTJWWb2evAGEnX44WHcDgcjkpBujmzTyK0BMZKOsLMxknKAc6XlGFmL5vZ3RVdQYfD4SgNKWVi8UkZ5S+pLrDZzJ6QFAPeldTDjwKaAQyW9DGwurBgbcki7OTPYSbQZpfqZJ54LpHdmgKQ887TxFYk5IWbMGFevzATnUPVTHYeZptCvV8hPOvFkXr9/hRR/pL2wZsH8KqkT83sKd/8/56krv4LYXJpo34GQX7y53Ytm7Fl23b6Dbufwzu0oXWz4P3q85Naj7tvFI2zGtB38NUc3/kwWrdMTqjbzC5nEf15DjlvPAaRNMjIDFxGmNfv1G6d6XdKN4aPHht42QUJ816FJSvs5y/M+xXGs14cqdjzr7A6FRjcXY4X2vl04DA/Ts9TwOd4XwC1zWxZRdQzzOTPYSa1JrM6kWZ7E509zVuPRWHHtsDFhHn9wkyqXhWTnYf6/BHi/QrpWS+OCEpoCZMK6fnHRec8AsgCNprZEEn/B/QBaknaDnwLDDOzTRVRz4IkO/lzYUmtZ8+ZnxRZqtsA27qZzB7nEWnYnNiqxeR8OAFySz0dI2EqKnl2MgjzXoUlK8w2hUlFPOt/qkNokhKnQnr+vuLvAYwFjgL+4U/guhVvQlc/YDzwoZl9BX/OyVta/pDA/bX/lvr8ikz+nAwUiRBp1IK8WR+x/bnbsNwdZBzaM2nyqtr1c1Qewn7WCyPdEltCrVO44jwkRYDzgFvN7DV/2+eSRpnZMEmZQGM/FLSKC82c6AQvMxuL97Jh+8w3SnWZw0r+HGZS69imX7FNvxJb6SWjjy74mozDkvMHUdHJs5NBVUx2HnZS9bAI81kvip2655/fc5d0HHAGkA3Ex/I/H2jsx/3PMbMlUPwErnjFL+kASZ38uQF/kFkewkz+HGoC8q0bsU3r0K7ewGvaHu2IrV0euJhUSJ6dDKpisvNQn78wCelZL45UDOkcZmwfk3QKcBtezt55eAHfjvIHc5vi+fjXADYmWiaApBvw8vimATMlTcYheyIAACAASURBVAVeCmLmb5jJn8NMag2QM2UCmSdfiNLSia1fTc47TwcuI8zrF2ZS9aqY7Dzs5y/M+xXGs14cqejtk7QE7n8SJNUCngPuNrPP/G234qV1/C9wEjDUzP5TynL3Bp4AuuAp/wHAvsDj+eEfClJas09ZSQsxgXvuM8n3a88n0qX8IW4TxYV0rjyEGdI5OumJ0GTVGPpEuS0IDzbvn5DOufKXf1X+BO6FYEBDoBb8ZrL5P0mLgK+BF8zs65Js+IXsz8FL6djaD/I2ES/2fw+gUOXvcDgcYbJT2/zNbAte/t4jJbWLc/Xshzdr92v/uERt/OdK6gmsxgvvfLKkVr5b6FSgukvh6HA4UoH0BJcwCdsU9Zovc6ykO4B/AQ8lOnM3TvFfBFwHzPcTwH+M91XxtF/uFcC/XbRPh8ORCsgSW8KkROUv6XRJtf3fN0qaKOnAsgjzB3bvAm4GZgFnl8bGLykiqSFwJjAgPx2kmb2Pl/Tln8BPwAlmNq8sdXQ4HI6gCdLbR9JTkrIlfRe3bYSkZZJm+ctJJZWTyJfGCDN7TdKReIOyo/EUbZl8wHzzz0eJHl/Qxm9mqyWtBjb7+zP9LGG1SztY7HA4HGEQsInlGeAh4NkC28eY2T2JFpJInaL+/73wPGj+DeySqIDyUMDG3x+40N8VAx4GLz2kpLOBe/K/UBwOhyOViFhiSyKY2cfAuvLWKZGe/wpJD+N5z3T0Z9+GMlYQp/iHAH3xJoJhZgMkvSDpIzwzTwfgglSJAVQRVEX3S4Ccu0eEIqfa7Y+EIgfCdYkM04V16w03hiZrlyP2Ck1WEKQleJw/nnlR3KaxfnSCRLhC0kBgBnCdmf1a3MGJKP8+eOaeB83sV0lNgKTeZd93P9PM5vjyegLHANUk/RU4CBiIp/TrAovMbFEy6+RwOBxlpRS9+t/C0JSSR4GReC71I/HM8+cXd0KRyl9SnbjVd+K2bQY+LUPlEkJSS6A/MEpSXTNbLmk98AnwHbAByJ/YdZ7z6HE4HKlOsn3O4z0mJY0D3irpnOJ6/nPw3iLx9c5fNyDwuLySmuHZ9ZcCBwNnShoPnAsMBt40s5/9iKC98MxP0aLKczgcjlQgQnL7qJJ2N7MV/mpvvI5ysRSp/M2seVAVKwXL8GbltgFqA7vhBYF72cweAJB0DZ7JZ5CZOcXvcDhSnkTNPokgaQJwHNBA0lLgVuA43wXfgEXAxSWVk9CkMkn9gFZmNsrvnTfKn5EbFHEJXiJ4vX7hxfzZDzhDUk3gB2BP4Fwzmx2kfIfD4UgWQXrImNlZhWx+srTlJDLJ6yHgeLyAaeCFYX6stIJKwlf85wBX4g0oL8AbzJ0PNMb7AmiKN4rtFL/D4ag0pJkltIRJIj3/I83sYEnfAJjZOt/dMxnsgxfgbZak6/CSuh8HfIX3AlgRtqln5dr1DH/kRdZt2ASIM7sexjk9j06avE+mz+DO+x4jGotxxik9GDygT1LkhNmuW8Y8wdQvZ1G/Xh0mPZrc6KMZXXuTcVQPMCO2fBHbx4+GvNykyArrXoV5/cJqE8AuJ5/BLt16gWDHe/9hx39eSZosdqlO5onnEtmtKQA57zxNbMVPyZNXgFQM6ZxInXJ9U0y+z/1ueJOsksFM4ChJ+/kJXe7D6+0b3kzjNUmSWyRpkQhD+/di0j3X86+RV/Diu5+xcGlCoYhKTTQa5fbRD/Po6JG88fzjvP3+Ryz8eXFSZIXZrlO7debRkUOTUnY8qrcbmcf/ha13XMnWkZdAJEJ6p+OSIivMexXW9QuzTZHmLdmlWy82/u0SNg4ZTEbHI4g0bpoUWQCZXc4i+vMctj99M9vHjyC2bkXJJwWIElzCJBHl/zDwKtDQT7D+CV58nmTwEZ6X0dmSukrqhZfYZbyZrU2SzGJpuGsd2rVsBkDN6tVo1TSL7HUbkiJr9twFtGjWhOZNdycjI4OeXY/lg2nTkyIrzHZ17NCWurVrJqXsPxFJg4xMiERQxi7Y+uQ8NmHeq7CuX5htSmvWgrwfvoecHRCLkjdnFhmHJemLOrM6kWZ7E509zVuPRWHHtuTIKoIIltASJiWafczsWUlfA938TX81sxLdiMqCma33ZxOfDgwH8oBr/YBwFc6y1euYt2g5HfYK3MsVgOzVa2ic1fC39UZZDZg9Z35SZMWT7HaFha1fS877r1Br1HNY7g6ic2cSnTszKbIq6l4lkzDbFF3yM9XPHoxq1cFydpBx8OHkLUyOLNVtgG3dTGaP84g0bE5s1WJyPpwAuTlJkVcYQXr7BEWipqg0IBcvcUpSzVdmttzMHgJOAU43s29LOieRuP2SLpI0Q9KMJ1/7b6nrtXX7Dq4b8yzXDzyVWjWqlfr8VKVKtatGLdL3P4ItNw1iy9/OgcxqpB/apaJr5SiE2LIlbH99ArVuuZtaN/+T6KIfIZYca7IiESKNWpA36yO2P3cblruDjEPDTuBuCS1hUmLPX9Jw4GxgEp5Z6gVJz5vZHcmsmB/9M9Fj8xPDtMcLFb3IzFYXOOa3adOlTeOYmxdlyJhnOemog+h2aIfSnFoqsho2YGX279Velb2GrIa7JU1eWO0Ki/S2BxFbuwrb7Jmv8r75lLTW7cj78oPAZYV9r8Ig7DblTHmbnClvA1Dt7MHY2tUlnFE2Ypt+xTb9SmzlzwBEF3xNxmHhKv+wE7UkQiK9+IFAJzO7ycyGA4cCg5Jaq1Ii6Vg8P9djgCHAcEmtgyjbzBgxdiKtmmQx8OTkJJfOp33bNixZupyly1eSm5vL5ClTOb5zmSJnl0iY7QqL2Lps0lq2hQwv6Gx62wOJrfglKbLCvFdhEXabVKee93+DLDIPP4acaVOSI2jrRmzTOrRrIwDS9mhHbO3y5MgqgkrZ8wdWFDgu3d+WEkhqD9yOF+fnC0mH4EUg7eXPUYiVJ/7PN/MX8da0mezdvDF9brwXgCv79uTog9oFUf0/kJ6exrBrL+XiITcRjUbp3as7e7XaI3A5EG67brjrEWZ8O4/1GzfTbcA1XNa/N6efGPwLJ7ZoPnkzp1Fj+EMQjRL7ZSG5n0wOXA6Ee6/Cun5htgmg5vW3EaldB4vmsXXcfdjWzUmTlTNlApknX4jS0omtX03OO08nTVZhpKKrp4rSi5LG4LlY7gl0wptta0B34CszOzOkOhaJb+s/CRgPPGFmN/rb+wJnmtlfCzuvtGafspLWon0YYgCILknKGHyhuJDO5aOqhnTefHGxQSQDJcyQzjWGPlFuL8wPGvVJSOd0WTUxNI/P4nr++dpkDhCfISs5vl8JEhcGoi6euf8/kgYBl0q6zMweARYCu0vKMrPw/tIcDoejEMJ240yE4gK7lTpWRBj4iv804HJgVz/I0UfAg8DDfu7KdOBOp/gdDkcqkBZ2dvYESMTbpzXwD2Bf4DdfQDNrk8R6FVeftsBNeGGeqwEX4LmiPoY32Hse8KWZveUfr/LY/B0Oh6O8pKLNP5EB32fwBlTvwcuodR5U6DdMHWCdmc0BkLQZeAmYi5fAIAf4m6RFZvasU/wOh6OiUQr2/BN5IdUws/8CmNlCM7sJ7yUQKpLyX1RzgVWSTpJU28zmAxOA3fygb1OBUUDwzt0Oh8NRBiKyhJYwSaTnv8MP7LZQ0iV4CVdqJ7daIGlXoI6ZLZZ0MnCSpBwzu1bS+3iZvI6SNBO4FD/ktJltBd5Ndv0cDocjUcIO2pYIRbp6/naAdBjwPbArnu2/LnCXmSUzj+8uwL3AL3gzdu/0l3OAmmbWRdLReP78jYGJZvbfRO372z58IpRXbJgukWESZrvCclXscsCFocgB+OB/40KT5Sg/GQ1alVt3f9W0d0I6p9OySSnh6gmAmX3h/9zE7wldkoqZ7fC9eM7Hm2fwvJm9CLwo6d+SPjCzLsA0SdXMbLt/XuoZ1hwOx05PWiRZUfDLTpHKX9IkihnYNbPTk1EhSREzi5nZJ5K2A9cBB0vax8zmm9lfJL0r6RszOwgv4JzD4XCkLCWHngyf4nr+D4VWCx/fbBOTdDBeOOeVwDV4nkYnS4qZ2Q9m1t0P44BL4u5wOFKdVPT2KW6SV5KiLBVOfo9fUhfgX8DbeIHahgI3AHcAu0h61cwWBJ1A3uFwOJJF2J48iVDhcw/8wV18xX84XuygfmY2GG8i11NAW+BuvJDNzszjcDgqFVJiS5hUqPKX1Ai4WFIdf9O1eIO85puAPve3neFP6rrczH6uoOo6HA5HmUiLxBJawiThHAOSdjGzHQHL34EXLbSWpEZm1lfS83h2/hnANjzb/+6S0vDy+YbKjtw8zr9nArl5UfJiMbod3IbLTumcFFkr165n+CMvsm7DJkCc2fUwzumZnLymYcq6ZcwTTP1yFvXr1WHSo6OSIiOfT6bP4M77HiMai3HGKT0YPKBPYGVnNWnI8PtvpH6DXTEz3nj+P7zy5Gsc1+sYzh9yLnvs3YKLTr6c+d8uCExmPslsV0XIqcqyCkMpmMcxkdg+h+IlSqkLtJB0ADDYzK4sj2BJGWa2Hlgv6X4gIukBMztH0r+BqZJex8sd/FBFDexmpqcx7tq+1KiWSW40ynl3T6Dzfq3Yv1WTwGWlRSIM7d+Ldi2bsWXbdvoNu5/DO7ShdbNGlVrWqd060++UbgwfPTbwsuOJRqPcPvphxt03isZZDeg7+GqO73wYrVsGE5M+mhfl4f97jAXf/UD1mtV58p3HmPHx1/w8bxHDL7yV6++8NhA5f5Kb5HaFLacqyyqKVPT2ScTs8wDebNq1AGb2P+D4sgqUVNsvJ1fS8ZL6AZOBTGCApDZm9hdgPtAXuNLMXvN7/qEjiRrVMgHIi8bIi0aTdiMb7lqHdi2bAVCzejVaNc0ie92GSi+rY4e21K1dMyllxzN77gJaNGtC86a7k5GRQc+ux/LBtOAikK/NXseC734AYNuWbSz6YTENGjdg8Y9L+GXh0sDkFCTZ7QpbTlWWVRSKWEJLmCSi/CNmtrjAtjL1wiXVAP4j6UxJewMPA33wBnlXAs2BsyTta2YD8OLy3ykpvbiefyIJ3MtDNBajz+3P0OX6hzm83Z50aBl8r78gy1avY96i5XTYq0WVkpVMslevoXFWw9/WG2U1IHv12qTIatysEW3a78X338xNSvnxhNWuMK9fVZVVFJIltIRJIsr/F9/0Y5LSJF0DlMmo6cfdGQNcj/dFcZY/WexrIAYsAdrhJYzPn0i2FS+EQ6HEJXc5UVKRhjxJF0maIWnGk299XKp6p0UiTLxpEP+94xK+W7SCH5clJ9F0Plu37+C6Mc9y/cBTqVWjWsknVBJZVYXqNapx+7gRPHDrI2zdvLWiq+OoBKRiYLdElP+leHHyWwCrgMP9bWXCzCbhxePPd+sELyTzAjzTz0/AxLjj+5pZod/UcYq/C/AE0Md/Qf2pXWY21sw6mlnHC3odU6a616lRjU77tODTOclzOMrNizJkzLOcdNRBdDu0Q9LkhC0rDLIaNmBl9u8v5lXZa8hquFugMtLS07h93AjemzSFjyd/EmjZRRFGu8KUU5VlFUUkzRJaQq1TSQeYWbaZ9TOzBv7Sz8zWlEeomb2HlxdgkKSzzCwPT+HPAZ42s28TLMck9cTL4jUG2A6kmVlgPlPrNm1l49btAGzPyWX63EW0bJycB8fMGDF2Iq2aZDHw5OATdFeUrLBo37YNS5YuZ+nyleTm5jJ5ylSO73x4oDJuHD2URT8u4aWxrwRabnGE0a4w5VRlWUWRijb/RLx9xlFIjB8zu6g8gs3sdUk5wEhJmWY2Hm9mb4nE9fj3BFoDl5rZx5JewX+hSapvZuvKU0eANRs2c/P4ycRiMWIG3Q/Zh2P2b13eYgvlm/mLeGvaTPZu3pg+N94LwJV9e3L0Qe0qtawb7nqEGd/OY/3GzXQbcA2X9e/N6ScG/8JJT09j2LWXcvGQm4hGo/Tu1Z29WgXn0dGhU3t6nNmdhd//xFPvPg7A2DufJCMzg2tuv5J69evyz2dH8eOcH7nunBsDk5vsdoUtpyrLKopU9PZJJKRz37jVakBv4JfyunrGlX8qXrjmbsDKknrtcYr/WLykLYPNbK4/mPwecCreTODb8LyFVhWM9ulCOpcPF9K5fLiQzpWLIEI6Lz64W0I6Z4+Z76dUSOeX4tclPQcEZuw0szckfW5mCY2i+or/JLxgbxn44R7MbKuk7/AGi88GbjezlUHV0+FwOMpKpZzkVQgtgUBnAiWq+AEkdcL7UjgN6IfXy//R370BL+FMPzN72yVvdzgcqUAqmn0Ssfn/yu82/wiwDgjOoFl6dgEuMLMFfmyglgCSOuBNRDvWzL5xit/hcKQKkfTUU0XFKn9/8tQBeHl7AWJhKtT8yVu+qWcfPE+eeJPTF0DM3zcWGGJm34RVP4fD4UiEICdwSXoKL+pCtpm197fVx3OZ3xNYBPQxs1+LK6dYV09f0b9tZlF/CfX1ZT5+AvfXgWskfSWpqX/IRuAu4GVglB8FNL7uDofDUeEoktiSIM/g5S+P50ZgipntDUwhAetMIjb/WZIOCrNHLak5cIuZXSjpQLxY/icCB+MN5k6UdA7evIBsYGhpks+kd+iShFo7kkFsQ3YocsL0wBnZ8ebQZN08Y2RosvJmfxCarI3/l5BXeCA0+uijcpcR5ICv79a+Z4HNfwGO83+PBz4C/lZcOUW+ayTlvxgOAr6SNF/STEnfSJpZhjonjJn9AjwkaQ+8AG/dgX2BYUBD4BfgHTxPn7+a2ZRkx/dxOByOspJozz8+DI2/JDqfqpGZrfB/ryQBp5ziev5f4vW0T01QeCDkD9Sa2f8kvQfsZmYHS+oN/NfMtvmTudoDtc1sNjgzj8PhSF2UYOgGMxuLN35ZZnxTeYkCi1P++YOtC8tTkdISr8TN7ARJb0l6Hy+hfDtJt+FNCDsvX/E7HA5HKlMKe35ZWSVpdzNbIWl3PHN4sRSn/BtKGlLUTjO7tyw1TJT8hO5m1kvSJLwooDfgBYS7x8y+SqZ8h8PhCIoQlP8beDnP7/T//3dJJxSn/NOAWvhfAGFjXkL3/BdAb0mv4fn3nwAgKa2isns5HA5HqQhQ+UuagDe420DSUuBWPKU/UdIFwGK8PCnFUpzyX2FmtwVQ1zJT4AVwuqTXJf3TzG5wit/hcFQWguz5m9lZRezqWppyiqtSSnjP5L8A/NU3gEZxnkgOh8OR+kQSXEKkOCVaqrdIMomL9PkTMN2P/x8an0yfwZ33PUY0FuOMU3oweECJX1QpL6sqtumWMU8w9ctZ1K9Xh0mPjkqKjHiS2a7T/nkhbbocxJa1G3n4RG++zl8fupIGrXYHoFqdGmzfuJVHTxoWmEwI717tyM3j/HsmkJsXJS8Wo9vBbbjslM6BlV/nhhvY5YgjiK1fz9rzzgNAtWtT99ZbSWvcmOjKlWwYMQLbvDkwmcWRit3VIt81QcTCDxoz+8jMvg9TZjQa5fbRD/Po6JG88fzjvP3+Ryz8uWBK48olqyq2CeDUbp15dOTQpJRdkGS365tXpvHcuf/8w7aXr3iQR08axqMnDeP7yV8x951gfR7CvFeZ6WmMu7YvE28exEs3nctncxbx7U/LAyt/2zvv8OsNN/xhW82zzyZn5kzW9u9PzsyZ1Dz77MDklYQiSmgJk5A/NCofs+cuoEWzJjRvujsZGRn07HosH0ybXqllVcU2AXTs0Ja6tWsmpeyCJLtdi7+cx7YNRfdK2598GN++8Vlg8iDceyWJGtUyAciLxsiLRgONfJn77bfENm36w7ZdjjqK7e+8A8D2d95hl87BfWmUSAqafaqE8peUnNRaQPbqNTTOavjbeqOsBmSvXlupZVXFNoVNRbZrj0PbsnnNBtYtWhVouWG3KRqL0ef2Z+hy/cMc3m5POrRskjRZAJH69Ymt8wwasXXriNSvn1R58biefxKQVBf4h6R/lHDcb9Omn3h2Qki1cziCp8OpRzD7jc9LPjDFSYtEmHjTIP57xyV8t2gFPy5LOK1HMIQZFMD1/JPCFuBhoIWkW4o6yMzGmllHM+s4eGBRnlJ/JqthA1Zm//5QrspeQ1bD5CRwD0tWVWxT2FRUuyJpEfY9sRPfvRW8Oaai2lSnRjU67dOCT+f8nFQ58b39SP36xH4tNuJxsESU2BIilVb5x8X6z8OL6/8IsF9xL4Cy0L5tG5YsXc7S5SvJzc1l8pSpHN/58CBFhC6rKrYpbCqqXa06t2fNT8vZuDJ4f4ww27Ru01Y2bt0OwPacXKbPXUTLxsl90ez47DOq9fAiIVfr0YMdn36aVHnxKF0JLWGSgg5IJROfpUtSPWCrmX3uBzMaIumWoCaopaenMezaS7l4yE1Eo1F69+rOXq32CKLoCpNVFdsEcMNdjzDj23ms37iZbgOu4bL+vTn9xGOTIivZ7TrzgctpeXg7auxam+s+f5APx7zCzIlT6XDKEXybJJNPmPdqzYbN3Dx+MrFYjJhB90P24Zj9gxu6q3vzzWQceCCRunVp8PLLbH76aba88AJ1b72V6iedRHTVKjaMGBGYvBIJuVefCKrMwTAlXYUX5G0NXiKD5yUdDlwFLDGzQhMa5K75qfI2eicjrHj+kbpZocgBF88/CEKO519uzb3xghMS0jl1nnwvtLdEZTb7XAKcCVyKl9f3bklXm9l0PBNQlqQGFVlHh8PhAFLS5l9pzD6SqpvZNv93A+BXoDfQH6gJ9AXG+xahByTNMLPtFVdjh8Ph8ElBs0+lUP6SagJdJWUDLYEM4E28Hn8P4CIz+8XPMHahpOdKSl7scDgcYaG01DOyVArl7xPDM+fUAw42s/V+0oL1QCtJJwFrgS5O8TscjpTC9fxLR1xKxy2SVuDl7/0ML6/wh37Wmrl4Sd2PAAaYWcgzRRwOh6MEIq7nnzAF3Dl3B74F2gEnA2dL2s3MXgGe809ZbWbhhOhLQaJLvgtNlkL0jKmKhOmBM+GAQKe9FMtfH2ofmqx6T94ZmqxAcD3/xIlT/EPxstbsBryEF9O/DtBT0mlAFnD2zqz4HQ5HahN23J5ESL1vkTh85d7NzHoBPwDHmdlPwGvAC8BWYIiZranAajocDkfxOFfP4slP2Ri3aQvwpKSbgUbAKf723cxsCjAl7Do6HA5HqUlLq+ga/ImUUv75it/v8W8FjgIOwEspebKZ5Um6EjhRUh9gW755yOFwOFKWFDT7pITyLzC42w8YA4wDTsTr8b8CnCppT2AQcJaZba2QyjocDkcpkfP2+TMFFH8LwIDOZrZQ0tfAbUBH4EdgX6Cvmc2tsAo7HA5HaXE9/z9SQPFfBZwD1AbulbTMzP7th25+EPjazB6riHpWxWTnK9euZ/gjL7JuwyZAnNn1MM7peXRSZIWVWL0qJXAPU9aRoy+kabcD2b5mI292/TsABww5nb3PPo7t67xUiN/cOZFlH/wvMJn5RGMxzn7wTbLq1uDBQScEXj6E/1wUilKv51+hNYpT/Kfh9e4HAG8BHYDDJaWb2evA9Xizd0OnqiY7T4tEGNq/F5PuuZ5/jbyCF9/9jIVLg00LmE9YidWrUgL3MGX9OPFjppxz95+2fz/uHd7qPpy3ug9PiuIHeOHT72mZVS8pZecT5nNRJCno7VPhryNJTYEHgFwzWwDcAmwEzgCO918AL/ounqFTVZOdN9y1Du1aNgOgZvVqtGqaRfa6DUmRFVZi9aqUwD1MWdlfzGfH+vCnyazasIVp85Zyeqe9kyonzOeiSNLTEltCpMKVv5ktA67Bm7R1lh+J8/+AXLwB38yKrN/OkOx82ep1zFu0nA57tUi6rKrCzvBctD3vBE55bxRHjr6QzLo1Ai//7je/4JqeHfGT8lVtFElsCZEKV/4AZvYacCHwd/8FkAfcANwVlFePS+BeOFu37+C6Mc9y/cBTqVWjWkVXx5EizH/2fSYdOYQ3uw9na/Z6Ot5yTqDlfzz3F3atVZ19m+0kKTdS0OxT4d4++ZjZfyTFgLGS8szsZaDMQdriB5P98scCY6F0mbyqcrLz3LwoQ8Y8y0lHHUS3QzskTU5VpCo/FwDb12z87fcPz39Il/HXBVr+rMWrmPr9Ej6Zt5ScvChbduQw7MWpjOqXnLSbFU0qunqmVI3MbDJwPvB1ac+VdJSkHpJ6+mWZAvierKrJzs2MEWMn0qpJFgNPrpp/cMmkqj4X+VSPG4Rt0bMj6+cvDbT8q3p05N1hfZl841+586xj6dR69yqr+AHX808EM3uvtOdIOhIv6NsrwDGSTjWzS4OY/VtVk51/M38Rb02byd7NG9PnxnsBuLJvT44+qF3gssJKrF6VEriHKevohy+n0RHtqFa/FmfMeID/3fMqjY5sR/199wAzNi9dw/S/PRWYvLAJ87kokhQM71CpE7gDSDoaL53jZDN7T1IN4AtgkpkVGs+2KiZwdyGdy0eYCdzDpKqGdI7sf1xosnZpfXi5u+Rb77s4IZ1T45rHXQL3kogz6ZwAXAzsDuAPEA8CmklKvdetw+HY+ZASW0Ik5cw+paABXgKXWyStBa6T9KmZLcSLB9QGqA64OP8Oh6NiScEB30qp/CX1AIb4Cd0XAnfgzQd4X9JbeF8BY1yCF4fDkRI45V9+JO0HPASchxcHqBMwzswG+KagS4FzzexjSWlmFq3A6jocDkegnjySFgGbgCiQZ2Ydy1JOpVP+wC7Ae2Y2TVIEL7fv7ZKOMbN/SqqLlwCmq5ktqdiqOhwOB5AWuKo9vrwZDCuN8pd0FNASyAD+KulNM3sbWCppG56N/2MzGy4pF3CDvQ6HIyVIxRy+lUL5+378T+BN/loFLAFukdQcmAMcCTybf7yZjSiuvLxpE5NW13jCdEezDdmhyUprEZ5LX1gurNEqev36vJm8MNMFefy0cP6uAC5+fd/QZAVCgnF7JF0EXBS3aawfnSAeA96VZMDjhexPiJRX/pIOBf4BnGdm0yW1An7BOX2hhAAAIABJREFUU/h/BQ4FbjWzzyuwmg6Hw1E0CQ74xoehKYbOZrZMUhbwnqR5ZvZxaauU8sofqAscA3QBpuMp/p+AZkC/uLy/CmJGr8PhcAROgN4+fiRkzCxb0iS8DnCplX/q+R8VwA/3cDpwvh/xMxfYABwLNMif7OUUv8PhSFnS0hJbSkBSTUm1838D3YEy2UYrQ88fP51jDHhe0hlADBhpZuEZah0Oh6OsBBervxEwye/zpgMvmNk7ZSmoUih/ADN7U1J/vITuz5vZG67X73A4KgUBmX38jIYHBFFWpVH+AL7C3w48JWmhnwTG4XA4Uhs3w7f8mNm7ks7DC+sQGtFYjLMffJOsujV4cNAJSZFxy5gnmPrlLOrXq8OkR0clRUY+O3LzOP+eCeTmRcmLxeh2cBsuO6VzUmR9Mn0Gd973GNFYjDNO6cHgAclxP1y5dj3DH3mRdRs2AeLMrodxTs+jK70sCOcaJrtN3e6+kJZdD2Tr2o08f8Lff9t+wKAT2H/gCVgsxs8fzOLTUS8GJhPCv1eFkoKpKiud8oeyxfwvLy98+j0ts+qxZUdO0mSc2q0z/U7pxvDRZXLbLRWZ6WmMu7YvNaplkhuNct7dE+i8Xyv2b9UkUDnRaJTbRz/MuPtG0TirAX0HX83xnQ+jdcvgY9+nRSIM7d+Ldi2bsWXbdvoNu5/DO7ShdbNGlVpWWNcw2W36/uWP+d/49+g+5uLftjU7oh2tuh/CCz2GEc3Jo/pudQKRFU+Y96pIUrDnn3o1SkFWbdjCtHlLOf3/2zvvMK2K649/vvQqoLAiLYKiomBBUIlYUYogIiqKhaixB7Hiz9hiYhcjsUQNxsQalcRuLBhNsKPYsIsiGjUUNajYYHfP748zL1w3CLvve9/77rLzeZ777G07Z+a+956ZOXPmTP+eRZXTr89GtGndsqgyckiiRbMmAJRXVFJeUVGUxsmrb75Dty6d6Np5HRo3bsywQTvw2BPPpi8I6NBuDXp17wJAy+bN6NG5jAWff1HnZWX1DItdpk+ee5vvFv0w1mKfg3Zh5lX3UbGkHIBvP/tyRf9aEFn+Vj9Kw0bV2zKkTrb8s2bSfTM4flg/vv5+aamzkioVlZWMPf9G/r1wEfvusAV9uqfb6gdYsPBTOpZ1WHa8dll7Xn397dTlVOXjhZ/z1txP6LN+tzovqxTPMKvn1657RzpvtSE/nbgP5d8v5clzb2X+rDlFk5fle/EDYsu/dEg6QtJMSTOvm/Zctf/v8Tf/TbtWzdm4S/si5q40NGzQgKlnHMzDFxzFa3P/w7sfL1z1P9UBvvnue06afCMTx42kVYtmq42srMiyTGrUgKZtWnH7Hmfz5Hm3Muyq8UWTVdLfSg2qt2XIatPyl9QXD3FqZjar6vXktOlv77qw2q6hL38wn+lvfMiTb33EkvIKvv5+CafdNn21Wmx6jRbN6L9hN556/X3W79xh1f9QA8o6tGfeguWVyvwFn1LWYa1UZSRZWl7BiZNvZLdtt2CXrfoUTU6WsrJ8hlk+P4DF//kv7z30PADzX5mDmdF8zdZ8+/lXqcrJulz/Q2z5FwdJI4Fr8LV8L5E0JK20Jwztx7TT9uXBU/fhwrE70H+9dVYLxf/5V9/w5TffAfDdkqU8++ZcundMX6H03mgDPvzoEz76ZB5Lly7lwUens9PAbVKXA2BmnD1lKj06lTFueHF/oyxlZfUMsyxTjjnTZtJlgAdpa9u9Iw0bN0pd8ZeiXP9DbPmnj6QOwHH4NOexQEvghbq4kMspF13FzFlvsejLxexy0PEcc+CejB5SnJf10y8Wc+YND1JZWUmlweAtN2T7TddLXU6jRg057YSjOfLEM6ioqGDPEYNZv0f6nj4AL709l/ufeJGeXTsy5tRLATh232Fst0WvOi0rq2dY7DINveIXdBnQi2btWnHojMuZcekdvH77dHaddAQHPHIBlUsqmHbiH1KRlSTL3+pHqYUtf9X1ybGSOgLnAM8D4/Don7MlDQLeMbN/V/2fmph9CiHLkM6VGYU+BmjUZ+fMZGUV0jlLVseQ2JB1SOfsQlU36zuyYD+4b6ddVS2d03zwMZlNCKh91VE1kdQUwMzm4fGtzwEOD4p/R2ASvoB7JBKJlJYGDaq3ZUidNPtIGgEMkbQEuBC4DlgMXCrpbmACcKqZvVPCbEYikYiTsT2/OtS+HK0CSUOBc4GrgCEsX/jgAuAhoBwYHwLB1b451ZFIpP4RW/75ExR5I2AP4OfAuvgK9p8DFwEnmtllyf+J0T4jkUitoBa2/OuM8gfam9lCSScA7YHfAkPM7EtJ7wPjJZ1gZhnP245EIpGVo4aNS52F/6H2VUcrQNKWuPvmgWb2HfAtbt7pL2kT4GV8IeOo+CORSO0jmn1qjqTdgP2BGcAfwlK9t4SB3ZOADYEJZjaj2om2zSZUQ4M2ZZnIASBD98EsycotsvKL7BaFK38iO5fILN2Ns3S/nL3XtZnJ6vP+yMITqYV+/rVW+Qcbfwd8cPfUEMd/KHCjpKVmdmVYvHhNM3u1pJmNRCKRlRFt/tUnDNYukPQSMC/M2H1I0nnATZK+MLOHgY9Lm9NIJBJZBbWw5V/7cgRI2lzSr8Lh18BRLM/rc8BjwLWSNihF/iKRSKRGxNg+q0bSdsA++CSuecDxwB3AnyUtAIYDo4BDqKWVVyQSifyAWujtU6uUv6TtgVuA8bg5ZxDQDBgNjAA6A9cCa+OVwBWlyWkkEonUgFpo9qlVyh/oClxpZvdIehTYHJ/AVWlmV8CyuP3XAPusKGhbJBKJ1DrigO8qWQT8RtJUM3tf0tPAHGAnSZ+a2a3AbGDHENCt6Hy/tJxDL7mVpeUVlFdWskvfDThm94FFk/fkszO58HfXUFFZyV67D+Wwg4rjPnfW5D8y/bmXWbPtGtx19flFkZEjqzJlKSvL5we+5Ob+V9xHWZsWXHHwrkWTk1W55n22iNOvuo3Pv/gKEHsP2poDhm2XWvqdL5rAGjv3p/yzL5g91FcH6/jLQ2g9aCts6VKWfDCPjyZeRuVXX6cmc2VIDTORUxNKXh1J2lnSryUdBLwFXAb8TtJGwKbAOrjC7wJgZl9lpfgBmjRqyLUn7MvUMw/m9jN+xtOvz2XWnE+KIquiooJzf/t7rv7tOdx7yx944B//4r33PyiKrJG7DOTqc04uStpJsizT6vj8cvzlqTfoXta26HKyKlfDBg04+cAR3HXJRG4+Zzy3TXua9z6an1r6/73jUd4/+OwfnFv85MvMHvIL3h02gSXvf0zZMXunJm+V1MJJXiVV/pKGA5fgyn0c7tVzG+7RcxNwNR6h81Wgt6TGWQdrk0SLZk0AKK+opLyigmLl4NU336Fbl0507bwOjRs3ZtigHXjsiWeLIqtfn41o07plUdJOkmWZVsfnBzD/i6954q2PGN2/Z9FlZVWuDu3WoFf3LgC0bN6MHp3LWPB5ehP0v3nudSoW/XBFsMVPvAQVlX79pbdp3DHDdblrobdPyZS/pK7AlsBIYD7QDrjUzBaY2XnAzsAu+ODuWcDFZra0FMHaKiorGXPu9ew88fds02td+nTvVBQ5CxZ+Ssey5Wvorl3WngULPyuKrKzIskyr4/MDmHTfDI4f1o/VNUjtxws/5625n9Bn/W6ZyWw3Zle+mv5CZvJo2Kh6W4aURPlLGgjcD/QAbgB+BYw2s/9IGi5pD9y/vxnwU2APM3u9mmmvsEySjpA0U9LM6+5/vEb5bdigAVPPOJiHLziK1+b+h3c/Xrjqf4pEUuDxN/9Nu1bN2bhLhq3UDPnmu+85afKNTBw3klYtmmUis8MvxmDlFSy6+1+ZyAOgQcPqbRmS+YCvpK2Bs3ETz/t4JXCLmX0YKoXfAYeZWSXwmaRJZrZkJem1yQV0k7QX0Bc4vep9ZjaFEPv/23/+Ma/ewxotmtF/w2489fr7rN+5w6r/oYaUdWjPvAXLK5b5Cz6lrEP6i6pnSZZlWh2f38sfzGf6Gx/y5FsfsaS8gq+/X8Jpt03n/P1KtBB5iiwtr+DEyTey27ZbsMtWfTKR2XavQayxc3/mHHBGJvKWUQu9fUqRozbATsC2YeD2EmAfSXfgNv4TzGx6rgW/CsW/PvDLMD8APNTzh2lm9vOvvuHLb74D4LslS3n2zbl071gchdJ7ow348KNP+OiTeSxdupQHH53OTgO3KYqsrMiyTKvj85swtB/TTtuXB0/dhwvH7kD/9dZZLRS/mXH2lKn06FTGuOHZlKfV9n3pcORo5h5+Dvbd95nIXEYtHPDNvOUfArSNBiZJmm1mt0l6CPfm+dbM3pOH7qysRnKNgIbAMEmLw36qvluffrGYM294kMrKSioNBm+5Idtvul6aIpbRqFFDTjvhaI488QwqKirYc8Rg1u/xk6LIOuWiq5g56y0WfbmYXQ46nmMO3JPRQ9L/CLMs0+r4/LImq3K99PZc7n/iRXp27ciYUy8F4Nh9h7HdFr1SSb/rZSfTcps+NGq3Bhs9/Wfm/+4vdDh6b9SkMd1vOgfwQd9PzrgqFXmr4kes0SVFpVrsKnj6/Aa43MxuqOH/NshVDmHg+Ch8Dd/NgAp8Scd18Mpghpn9N/n/+Zp9akqjPjtnIQbINiRxpqGqMyLL51c561+ZycoypLNl+AyzDel8X8Ej7Us+eLFaOqfJT/pmNqpfskleZvZ3SY2ACyRNA+ZVx5Mn2SuQdCjuFvpnPNZPV6AFHg4iFwj+HeC/K0gqEolEsiHjwdzqUNIZviGMw9NmVm33mVwFIWkCPjdgppm9K+k6IGcq+ruZ/Sb9HEcikUge1EKzT8lzVBPFn0NSGT4/YISZzQqx/ufgQeFaASMlNct6QlgkEomskDjgmx/B1JM0CTUFOgHNc7eEv/OAc4CGYa3fSCQSKTlpDviGFQ0vw8c0/2hmF+aTTslb/qsiqfgldZPUNETzvAkYL6mTmZVLOgSP+/9NPr2JSCQSKRoptfzlEeJ+DwwDNgbGSto4nyzV+pZ/QvEfj8fwL5f0OB7vfwnwmKQ7gT2AMbHFH4lEah3pLeayFfBuMHMj6TZc971R45TMrFZuBDfUsL8l8BqwFrA7cBxwKW76GQnsBqxX5PwckWHZo6w6Imt1LNPqKivLMhWSR2BmYjuiyvW9cVNP7vggfA2UGsuqlWafKqaeo/Ga7RUz+8zM7gOeAtYF1jSze83sATN7r8jZOqLI6UdZdVPW6lim1VVWlmXKCzObYmb9EtuUYsmqlco/ofhH4aEg/g6USdo3XJ8JfAtsVLJMRiKRSPZ8jM9nytElnKsxtVL5A0jqjK/Ru8TMZgA3AyMkXRwWftkceL6UeYxEIpGMeR7oKam7pCbAfsC9+SRUa5W/mX2M2/YHSxppHgJiMtABX+FrPzMrzjJNK6Zo3a8oq07LWh3LtLrKyrJMRcHMyoHxwMPAm8BUq2a4+6qULLZPdZE0AjgfOMfM/hrOLYvtE4lEIpGaUxdcPe+XVAFMkVRpZndExR+JRCKFUetb/jkk7Qq8Z8G/NRKJRCL5U2eUf31AUmsz+2rVd0ZqAysIOxKJ1Blq7YBvbaFqcLhiBYuT1BM4VdJWxUi/GvJjELwakFP8koZIGlNkWcVZPage8mNrfNdH4oNYCVUmm42W1K6ILb3mYdtN0pZFkvE/SOpdzBZslpVKVrISin9n4I/AGEkNi6FYJLUBzpN0Xtpp1yAPdbZhEJ5fbn8vPPBjhKj8V0pC8Y/HX5r2acvIfVhmNgu4AY9YumcWFYCkZrg77ehkXlJMP1l5biapv6TmyetpygsKeYCkw4OsDmmmX0XOMHweymTgOzySbDEcEb7GA3l1k3RWEdL/HyRtK2loKGOuvMXq8fYN78amRUi76Gt812Wi8l8FQQkfAuxkZrPDh7GJpJYppP2DFreZvQL8CffCyqICqADmApsE+am2/hOK/xTgauBK4FJJ+xWjtyFpB+A6YHvgROD0NE0mOQUoaV1gPeBoM7sUaEb4liStmaas4Nc9A7gK2KTYFYCknwK3A0PxHsfVIR+p9wwljQSuAfYELpE0JGURyTW++4b9GPgxEJV/FVbQwvkeeAE4XNLlwG/xlljfQuUklOOhkiZJ+hmwCP/QG+GL0mxdiJwfkd1bUh8zWwpcD4yWxwhPnTCWMRzYLmwzgf5Az5Tl9AbOBQ4xs4OAS4CF+KzwhoW2XBOmnh3wRYMeNbPHJbXA14tuGa7dJaljIfKqvBttAczsGbyX0btYFYCk7fDAYYeY2fHAQGCgpNRXxQu9suOAwcB8oCXwgjxkcaFpNwAws7eAy/EV/obgjYLB4f3fNfRu2hUqr64SlX+CFZgpNjKz1/CIom2Bv5jZNrgC26YQWQk5ueUoZwCHARfiLZQrgTWBXSU1LURWEkkDgEOBeyQdAXTHF7xvH64X9E6sQOktAdbAo64uAabiij+1yibI/AnQC29FYmYvAO8CA82sotCWa1D8u+E9mDJgaTj/Df5+7I//dhebWbXWo16ZLFj2btwIXCPpADN7Fo9mu5GkvBbwWBGJ32xX4Ei8MsuV7WCgSxpKuQoNgTnAGOAA4GAz+xTYUVLXlf7nSgjfcHKN7zb4Gt+t8Jg4G+NmzsPx76DeKv+ShzCtjRtwLPAE3iqeDjRLXBsDvAL0zDPtZKjqrriSbwocH2Sdi5t+ugGdgbIUypNz6e2N92LWwuOCj8cXwPkAnyreMQ05Yf9n+IITLYDfACcAPcK1k4D/S95fQJnaAGuE/RF4EMBjwnE/4MmUnmF/YBawAXAWMCpx7WLgS2C3qs+hAHlHAY+Hd+AW4BPguHBtYHhH2qf0vndI7B8X3u/1wvFu4Rm2SklW08T+FLzV3ysc7wi8CGyQgpwJeCNt03DcAx+3OwfYMo2y1PWt5BmobRseRfRhoHFQUI8DDcK17cO13nmmnVSOG4a/ZcDWwGPheBfgVYLpJ4Xy5JTk1viCD/tXud4Ub+3dDJyML4lZkPLCQ+fOSij7XfAQHdPxXsb7wEYplG0U8Ej4yE/C130YCrwH3A88hK/znMZ7MRDoH/Z/D5wQ9vuE92SLqr9xDdNvnthvD+yLV9LHAXfjJrM5wIRwT7N85KxA7lBgWvj9f42PX0wMv9EVwN+AvVKSNSKk+Vs8RtfWeE/mwfAOvg7snoKcMuAfhMYMPhgPHgV4cqKcBVfSdXkreQZq24Z3C8cBZ4aPokk4PzT8bZeCjPHAX4G1w/Fg4M6wvx/BtFCgjAZAy7DfMyj5j4B7Evc0SeyPACanILNDeG6bVbnWDbf9Hw6sn8Iz3Cgo/U2C0r8KOAU3Me0RFOZZifur/aGTqACBDYGNq1wfBxwYrj0DDMhHTuJ/WuKLEm0DjA3ptwM6BsXYNdz3N7xhUPA7GNLbBDeNbYe38H8F3BSunRIqgO3DccMCZQ0FXsZNc68BdwXln7P9/xx3qqjxM6x6P96jfgPoHo4bhb9tcVNqh0LKsrpsJc9AbdmAQcC2+CIx7wJPJa6Nw1sSaSj+EcBLQOfEuUbA7PChzwU2SUHONnhr7kDgLaB1ePH/DVyWlJ0o4xu4GaVGijKxn+sh3cJys0Gu8iy4TFXkbgVMSxxvGJTL7gQPD+BfwLgCZAzHzWFT8FC6ncP5UXgM9Vmk01JtGd6LF/HWfdtwfh3gVmAHvGX8hzQVF+60cHXut8Njw1+fUPjnhfeyWwEyhPeir8Yr6WF4hXld+H36FliG5PvXjWBWAn6J9zA6heNDgEdJqce0Omwlz0DJCv7Dl6ZNeFluwwcOd8Q9Rcbjg3gvk7+pZwih1xCOJwDnhf1GQOOw3yB8jJ3zkfMjsqfiA657Js61A94Grq1y7wCqtHBr+AwPBI4M+zcBDyWu7Y9XbK1TKFOusmod5OyWSxc3vxwc9lvgPaouNUi7a+654OtFvBEUyihgMctXkOuJV+CDUnwHt8Qr5tsJLeBw/qyg9GdRpTdVgNxtw+91CPApYawiXLsaOCxxfDahBZ2nrA7hbzO8cvkXy8do3sfHLtqkUKbjcRPgg+FbHoebAt/CTY6vk3IDpK5vJc9AbdnwgbwTg0LphLecTwgfX94DUPigY3dC6wlv+dyS/KBwb4eRKZUjqVD2wD0dniCYDsL5tqEC6E1orRco80TcW2mTxLm/hA/9T3iredM8024H/CTsD8ft7ZPD8c9wc895wF54r2m7AsuyGd4AaB6U1VDguXB8W1Am6xJMV+Rv40/+TuvgreNWuK3/WmDvcK172NIacP0p3pu5GW8Zvwg8i/csBuKDvQNSkrUlPqnqwHC8Ft6DHoSbnO4Ctk7h+ZV8je+6uJU8A5kXGNYneEngLl+PVrn2y/BhFNRK4Id24/a4r/H+eGt/SpCzD27jfYkwOJpSGQeEtMvC8YVBgbXEezUH5au0Qno9c88nfGCP4GMKbYLc80M5twjy1s1TTtOg7E9luc14P+A+lg+Qb4cr/+uAIblnn8/vldh/BHgx7B+LryUB7gP/GtAnxd/qZHxw+hm89doDHxe5LryH00jPq2cr4J/ANuG4R5A5NSjl60h4MRUoa7eQ/7/is5QPCOfHAw/gg/LD80w7+VsdjXuT3ZI41w+4kzx76/VlK3kGMiuoK+OmuCvgRYSWFO76eGfivh3Dh3gN3torVJHkWvyDgM/xln/78NHdgdt001QmO+Atu0fCh5dTiBcDj+GmjNEFpN8d95ZoSuiuBznP472M34VnfH0+z24F8nJujdcAExPn78lVAOE4VVtuUMj/wE0+VwUF8zTB4yclGaMI5jHcn//usL9WeF+mpKnAcD/+CuC0cNwYbxlfQqIHWMjvFr6zMrxHMTicGwosAMaE485pvPPh+U3FB44fAfZNXLuF0HuK2488v1JnILOCLnf3+klQuhex3H78TOLD2zt8dGn4hp8QXspcC3wQ7g++Zy5PJFz8UpC3Ge7emHMjPSkozVwF0ItgwsrnA8fNIOcDx+C9i9/iS2q2wMcyct4VQ/H5C3l7iFRRRv3wSvLWXNnC+WnAS8nfN4VnmJR7F2622A+v1PKuNKumHY53xXtKZ+IuxLnB8YL93FeShz1wh4ax4XgHvOIuK0Tpr0DOdeHdyH13x+Gz5YeklH5nfIzk5nD8M9xkezHes32dYC6M2488w1JnIPMCu121e1DKv0x8cI/jrb13SaG1hc+MfCah+HNunVvjJqB9C5UR0qs66PoFcETuWqiAbgD2SENWKNf5+ODq9XgvoHfinuPxVl9eNv5kmfAB8E1DpbN2+LhPJDHBjiJM2KlSAdwJPJI4LriSwVusg8OzuxvvxeQaIseG97BFmsq4ivzd8UbI3/CWc1rjTZsDvwr7l+M9ppxDwwB8MPbDtCo33Gy7IJf/8L78GZhEir3p1XWr9cs4FkoIVNXNzG4L0+UPw7vzn+IfYYWkyWa2fQgC9pWZLchDTtVAZc3xHsQASRsCB0h6wMx+KWlHfGZjwZiZSRoEfG1mN4eomaMlLTCzu4HJkibiNta8ScS2yXklCW+tbgLsFQLdzcYHQ39mZq/mKaeBmVXKwyXfjNuHt8dt46fgk8SaSrrDzN4xD+OQKkF+AzOrNLPRku6WdLGZnWJmFTVNr0rYkP3wiUbX4p5ga+NKeGQIGHcw3ir/JqXi/A9mdp+kA1luK783EUjOVv7fKybEBdoHGCJpHsvNmn+WtAAfrB+FexilElbGzO6UtAQ4X1JT8zW+D1Fc47tarPbKH/cWuUDSJngkxj3D3w3xCSZDgbUlnWNmeSnIKh/3aLxXMR+3p3bFW0Cn40p5PTN7vMAyVaU7vsbxADO7NnwQh0pqbGZ/NbNJhQoIiv8AvGV6CD4ppw3uNdQd97a5CTgpTwXZ1My+D4p3G7xlvJ958LQB+CDvPnir7jTc86ZoJCsA4F5gB0mNzKNsVpsq70Y3wPB4Q+9JegFXwP3wHufGeI/wzVQLswKCwv8O+JOk98zsznzTkodMvgUfzP0YN282w1vmI3ATzbV4RTccn+WbChbX+M6fUnc9sthw2+prBI8AfLCyF+4ONhpvYaZh45+Au8rlwhq0I9j0ce+H56mB33k15LVhuU31UNzkMyAcH4a3zNcmBXfOkOZvCIOuQBO8dXc3XrFdQZ5eKSGPE1ju/3073p3fjuUmoIOAK8N+24zfnx2p4RyI8H9Jk9wE3B32jfDbNAvnR+G269QGkmuYx10p0NMMd1X+v7DfCh+kfwo4NnFPX9xNtijmmDTKUd+2kmcgs4L6QNd/+aFHwL3Aziml3y983DkFlgtb3CQorpfTfPHxnstluEkkWQEsJvhOk+KEsZDeqKDsk/78z+Mt8bUKSLdtKE8ngj0fb0nekag8x4bjhmlVZhm+e6Nwb54N8AHJy0KFkrPz71eXFRfemn+P5QP+DfBe4J0sH1huTYGBA+OW7lYfzD4AmNk9kg4CLpfUC1fG3clzZZ+EDTzXrW+Gt+DGSNoMn3iyJm6qeA0fcP2gkDJUGVf4BHfbGw2US5ppZn+SNBaYJqmLmX1ciLwV8C+8Uttf0mP4uMaXwA1m9lk+CQbT1CJgkaTLgAaSLjezAyTdA0yXdDceHO5Ky8OkVEokdcYHPx8xs3dCLP7TcTNZY0n/NLOimrCKQRiT2QE3Vz2NV2i/k/R/+LewDu5G3QXAzL4CvipNbiMrQst1Sf1A0ii8BXk/HplxTh5p/MCOa2Yfhv3z8FbsVDObLmky8KaZTUkh37nKZgDulvelmf1T0q9x888D+CpFewC3mdnzhcr8kXx0wiuc0UA5cLL5EpQ1Tad1UAhI2gk3/SzCx2Tm4y5870i6Cff42d/MXpfUsA5WAKNx19eTzOxWSY3wHkAlHnyuaIO7xUDScDw08qW4i+XL+FjM4XgvpxwfE+qLm2MOA8qtvimbWk69U/6wbLm/D8xsboHpjMeV4PO4LfcmW76QxBiWx31/t7AcL5M3FP+LBR3nAAAHNklEQVTIHsTtqm+Y2WGSTsYHC3fC7az3h/uLuTB7S/z9WZzH/7bA5yNcjo+R3IPbg+fircNuYf+vZvaGpDvxCUl7Wg0HXGsLQWFeAFyQqADamdnCEmetRoSFVg7BJ971wsu0u5n9J1xvjVdqW+ExifY0s9dLlN3ISqiXyj9fJLU0s6/D/ji8pbMXy1cKegL33e6Pt4oOM18JLA3ZDfBJTrdb8MyQ9AzwTzM7TVIT3Kb6YTGVflpI2hMP2/A5cKqZvRK8idbHbcYbAu+a2Rnh/tvxlvNHpcpzocgXRJ8CnGjullinkDQQD7fxEu7F1hTvkX0YKrdGuFdWO3wxmjstA8+lSH7EZRyriaQNgImSNs2dwu35++IfwUX4BK7TzexpPG5JQYo/53sd5gXshXvAJE0EhwIdgwvikpz5qbYrfgAzuws4Aw+gNzicvh14Bx8kn4NPQMrdv29dVvwAZvYg/pulPjeh2MjXkj4bV+qn4qbGO4LiH4jPgF5kPjfiM2BSVPy1m6j8q087QtRAST3N7Abcxr49HrL5AXz6eidJa+U7AJok2Ph3xycFfYibRq4Jg4jg/tPd8dmgdQ4zewQ3IRwsaWww6UzFp+b/OZ+xhNqOmT2SzzhTLaANblbc1szm4fGA9pF0Bx4G+oQwzpVbPH1J6bIaqQ71xtsnXxIzPWcEL6F1gbHhpX8PH4zcK0w0aQacmYbiD7Jb4S3FX5jZDGCGpPbAw5IexucOnGxmX6YhrxSY2d1hUto5kpqESvXmUucr8kPMbFoYuJ4kabb5jPmHcG+eb80nrS1bPD1S+4nKfxUkBnCPwn2zb8UHW/fB3duOxgd2K3FbbiphG3Li8VnIrUIeZGa/ljQXNx38xcxeqAs2/pVhZg+EAdALJT0CzItKpPYR3KXLgd9Iahsq6kWJ63X2HayPxAHfaiBpJB4zfniwcW6NK/+v8Gnr8/Hl41J32ZN0LG5uut3M3gyunmfhK1alWdGUHEkd6pr3S31E0h64l88gvKKOSqQOEpV/NQit/jXN7PxcfBdJ/fEomv8GLi+WjTPY94/E7a1PAmOACWb292LIi0SqQ6yo6z7R7FM9PgBGySNJvh3OdcJb/tcXc3DLzD6WdBG+EMva+LoDM4olLxKpDlHx131iy78aSFoDmIhXlk/hng/H4VEn66LnRiQSqedE5V9NJK2Dh04YiUfPvGB1dEWMRCL1g6j8a0iYSRv9mCORSJ0mKv9IJBKph8QZvpFIJFIPico/EolE6iFR+UcikUg9JCr/SCQSqYdE5R+JRCL1kKj8I5kiqULSy5Jek/TXsKpXvmntKCm3atlISaeu5N62ko7JQ8bZYaW0ap2vcs/1kvaugax1JaWy+E8ksiqi8o9kzbdmtrmZ9QaW4IuDLENOjd9LM7vXzC5cyS1tgRor/0hkdSUq/0gpeQJYP7R435Z0I/Aa0FXSYEnPSHox9BByYa2HSnpL0ov4+smE8wdLujLsry3pLkmvhO2nwIXAeqHXMSncN1HS85JmSfp1Iq3TJb0j6Ul8OcmVIunwkM4rku6o0pvZRdLMkN6IcH9DSZMSso9cQZqbSHou5HeWpJ41f7yRyI8TlX+kJIT4/cOAV8OpnsBVZrYJ8DW+xOMuZtYXmAmcKKkZHkJ7d2BLoOOPJH85MN3MNgP64iuDnQq8F3odEyUNDjK3AjYHtpS0vaQtgf3Cud3w9ZhXxZ1m1j/IexP4eeLaukHGcHwVtmbh+hdm1j+kf7ik7lXSPAq4zMw2B/oBdXoJy0jtI0b1jGRNc0kvh/0ngOvwCKkfmNmz4fw2wMbAU/JljJsAzwAbAe+b2WwASTcDR6xAxs7AOAAzqwC+kNSuyj2Dw/ZSOG6FVwatgbtyazNIurcaZeot6VzctNQKeDhxbWpYmGa2pDmhDIOBTRPjAW2C7HcS//cMcLqkLnjlMrsa+YhEqk1U/pGs+Ta0ZpcRFPzXyVPAI2Y2tsp9P/i/AhEenO8PVWQcn0da1wOjzOwVSQfjK77lqBo/xYLsY80sWUkgad1lN5n9RdIMvMfwgKQjzeyxPPIWiayQaPaJ1EaeBbaVtD6ApJaSNsAXsF9X0nrhvrE/8v+P4str5uzrbfC1F1on7nkYODQxltBZUhnwOL52Q3NJrXET06poDfxHUmPggCrX9pHUIOS5B/B2kH10uB9JG0hqmfwnST2AOWZ2OXAPvlZ0JJIaseUfqXWY2cLQgr5VUtNw+gwze0fSEcDfJX2Dm41aryCJ44Apkn4OVABHm9kzkp4KrpQPBrt/L+CZ0PNYDBxoZi9Kuh14BVgAPF+NLJ8JzAAWhr/JPH0IPAesARxlZt9J+iM+FvCiXPhCYFSVNMcAB0laCswDzq9GPiKRahOjekYikUg9JJp9IpFIpB4SlX8kEonUQ6Lyj0QikXpIVP6RSCRSD4nKPxKJROohUflHIpFIPSQq/0gkEqmH/D+4FCDPeB0sMgAAAABJRU5ErkJggg==\n",
      "text/plain": [
       "<Figure size 432x288 with 2 Axes>"
      ]
     },
     "metadata": {
      "needs_background": "light"
     },
     "output_type": "display_data"
    },
    {
     "name": "stdout",
     "output_type": "stream",
     "text": [
      "CPU times: user 28min 2s, sys: 21min 15s, total: 49min 17s\n",
      "Wall time: 15min 32s\n"
     ]
    }
   ],
   "source": [
    "%%time\n",
    "# training and evaluating DCNN\n",
    "\n",
    "train(dconv_net, dconv_crit, dconv_opt, 30, genre_trainloader)\n",
    "test(dconv_net, genre_testloader)\n",
    "net_confusion_matrix(dconv_net, genre_testloader, Y_test, \"Preliminary DCNN\")"
   ]
  },
  {
   "cell_type": "markdown",
   "metadata": {},
   "source": [
    "TODO:\n",
    "- try different datapreprocessing: change # of channels for 1d stuff so that we get slices through all the different features of the MFCC \n",
    "- rewrite code for DCNN generation to support more versitile dimensionalities\n",
    "- make RNN: LSTM + (D)CNN"
    "- uncomment out bnorm in CNN generation code"
   ]
  }
 ],
 "metadata": {
  "kernelspec": {
   "display_name": "Python 3",
   "language": "python",
   "name": "python3"
  },
  "language_info": {
   "codemirror_mode": {
    "name": "ipython",
    "version": 3
   },
   "file_extension": ".py",
   "mimetype": "text/x-python",
   "name": "python",
   "nbconvert_exporter": "python",
   "pygments_lexer": "ipython3",
   "version": "3.6.8"
  }
 },
 "nbformat": 4,
 "nbformat_minor": 2
}
