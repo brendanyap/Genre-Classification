{
 "cells": [
  {
   "cell_type": "markdown",
   "metadata": {},
   "source": [
    "# TONG CODE"
   ]
  },
  {
   "cell_type": "markdown",
   "metadata": {},
   "source": [
    "# Imports and Version Checking"
   ]
  },
  {
   "cell_type": "code",
   "execution_count": 1,
   "metadata": {},
   "outputs": [
    {
     "name": "stderr",
     "output_type": "stream",
     "text": [
      "/home/tzhao/.local/lib/python3.6/site-packages/numba/errors.py:137: UserWarning: Insufficiently recent colorama version found. Numba requires colorama >= 0.3.9\n",
      "  warnings.warn(msg)\n"
     ]
    },
    {
     "name": "stdout",
     "output_type": "stream",
     "text": [
      "Python version: 3.6.8 (default, Oct  7 2019, 12:59:55) \n",
      "[GCC 8.3.0]\n",
      "Librosa version: 0.7.1\n",
      "Sklearn version: 0.21.3\n",
      "Torch version: 1.0.1.post2\n"
     ]
    }
   ],
   "source": [
    "import librosa\n",
    "from librosa import display\n",
    "import sklearn\n",
    "import numpy as np\n",
    "import torch\n",
    "\n",
    "# python version\n",
    "import sys\n",
    "print(\"Python version: \" + sys.version)\n",
    "\n",
    "# librosa version\n",
    "print(\"Librosa version: \" + librosa.__version__)\n",
    "\n",
    "# sklearn\n",
    "print(\"Sklearn version: \" + sklearn.__version__)\n",
    "\n",
    "# torch\n",
    "print(\"Torch version: \" + torch.__version__)"
   ]
  },
  {
   "cell_type": "markdown",
   "metadata": {},
   "source": [
    "# Data Loading"
   ]
  },
  {
   "cell_type": "code",
   "execution_count": 2,
   "metadata": {},
   "outputs": [],
   "source": [
    "# from brendan\n",
    "\n",
    "from sklearn.model_selection import train_test_split\n",
    "\n",
    "all_genres = ['blues','classical','country','disco','hiphop','jazz','metal','pop','reggae','rock']\n",
    "num_songs = 100\n",
    "Y_LIMIT = 660000"
   ]
  },
  {
   "cell_type": "code",
   "execution_count": 3,
   "metadata": {},
   "outputs": [],
   "source": [
    "# Loads n_songs songs from each genre in load_genres.  \n",
    "def load_dataset(genres=all_genres, n_songs=num_songs):\n",
    "    X, Y = None, None\n",
    "    for g_idx, g in enumerate(genres):\n",
    "        for s_idx in range(n_songs):\n",
    "            y, sr = librosa.load(f'genres/{g}/{g}.000{s_idx:02d}.au')\n",
    "            # Limit length of sample so that all features have the same length.\n",
    "            y = y[:Y_LIMIT]\n",
    "            mfcc = librosa.feature.mfcc(y=y, sr=sr, hop_length=512, n_mfcc=13).flatten()\n",
    "            \n",
    "            if X is None:\n",
    "                X = mfcc.reshape(1, mfcc.shape[0])\n",
    "                Y = np.array([[g_idx]])\n",
    "                \n",
    "            else:\n",
    "                X = np.vstack([X, mfcc])\n",
    "                Y = np.vstack([Y, np.array([[g_idx]])])\n",
    "    return X, Y"
   ]
  },
  {
   "cell_type": "code",
   "execution_count": 4,
   "metadata": {},
   "outputs": [
    {
     "name": "stdout",
     "output_type": "stream",
     "text": [
      "CPU times: user 10min 3s, sys: 9min 30s, total: 19min 34s\n",
      "Wall time: 6min 2s\n"
     ]
    }
   ],
   "source": [
    "%%time\n",
    "X, Y = load_dataset(all_genres, 100)\n",
    "Y = Y.ravel()"
   ]
  },
  {
   "cell_type": "code",
   "execution_count": 5,
   "metadata": {},
   "outputs": [
    {
     "name": "stdout",
     "output_type": "stream",
     "text": [
      "(1000, 16770) (1000,)\n",
      "(750, 16770) (250, 16770) (750,) (250,)\n"
     ]
    }
   ],
   "source": [
    "print(X.shape, Y.shape)\n",
    "X_train, X_test, Y_train, Y_test = train_test_split(X, Y)\n",
    "print(X_train.shape, X_test.shape, Y_train.shape, Y_test.shape)"
   ]
  },
  {
   "cell_type": "markdown",
   "metadata": {},
   "source": [
    "## PyTorch DataLoader"
   ]
  },
  {
   "cell_type": "code",
   "execution_count": 26,
   "metadata": {},
   "outputs": [
    {
     "name": "stdout",
     "output_type": "stream",
     "text": [
      "750\n",
      "250\n"
     ]
    }
   ],
   "source": [
    "# making torch style dataset and dataloader\n",
    "\n",
    "from torch.utils.data import Dataset, DataLoader\n",
    "\n",
    "class MusicDataset(Dataset):\n",
    "\n",
    "    def __init__(self, X, Y):\n",
    "        self.X = torch.from_numpy(X)\n",
    "        self.Y = torch.from_numpy(Y)\n",
    "\n",
    "    def __len__(self):\n",
    "        assert(self.X.size()[0] == self.Y.size()[0])\n",
    "        return self.X.size()[0]\n",
    "\n",
    "    def __getitem__(self, index):\n",
    "        data = self.X[index,].reshape((1,self.X.size()[1]))\n",
    "        \n",
    "        # normalizing\n",
    "        data = (data - data.mean())/data.std()\n",
    "        \n",
    "        label = self.Y[index]\n",
    "        return (data, label)\n",
    "    \n",
    "trainset = MusicDataset(X_train, Y_train)\n",
    "testset = MusicDataset(X_test, Y_test)\n",
    "\n",
    "print(len(trainset))\n",
    "print(len(testset))\n",
    "\n",
    "genre_trainloader = DataLoader(trainset, batch_size = 64, shuffle = True)\n",
    "genre_testloader = DataLoader(testset, batch_size = 64, shuffle = False)"
   ]
  },
  {
   "cell_type": "markdown",
   "metadata": {},
   "source": [
    "# Models"
   ]
  },
  {
   "cell_type": "code",
   "execution_count": 27,
   "metadata": {},
   "outputs": [],
   "source": [
    "import torch.nn as nn\n",
    "import torch.nn.functional as F\n",
    "import math\n",
    "from torchsummary import summary"
   ]
  },
  {
   "cell_type": "markdown",
   "metadata": {},
   "source": [
    "## CNN"
   ]
  },
  {
   "cell_type": "code",
   "execution_count": 44,
   "metadata": {},
   "outputs": [],
   "source": [
    "# attempt at regularization\n",
    "\n",
    "class WeightClipper():\n",
    "\n",
    "    def __init__(self):\n",
    "        pass\n",
    "\n",
    "    def __call__(self, module):\n",
    "        if hasattr(module, 'weight'):\n",
    "            w = module.weight.data\n",
    "            w = w.clamp(-1,1)"
   ]
  },
  {
   "cell_type": "code",
   "execution_count": 28,
   "metadata": {},
   "outputs": [],
   "source": [
    "class Conv_Block(nn.Module):\n",
    "    \n",
    "    def __init__(self, in_planes, planes, kernel_size, stride, pool_size):\n",
    "        \n",
    "        super(Conv_Block, self).__init__()\n",
    "        \n",
    "        self.conv = nn.Conv1d(in_channels = in_planes, out_channels = planes, kernel_size = kernel_size, stride=stride)\n",
    "        self.dropout = nn.Dropout(p=0.5)\n",
    "        self.maxpool = nn.MaxPool1d(kernel_size = pool_size)\n",
    "        self.bnorm = nn.BatchNorm1d(num_features = planes)\n",
    "    \n",
    "    def forward(self, x):\n",
    "        \n",
    "        x = self.conv(x)\n",
    "        x = self.dropout(x)\n",
    "        x = self.maxpool(x)\n",
    "        x = self.bnorm(x)\n",
    "        x = F.relu(x)\n",
    "        \n",
    "        return x\n",
    "\n",
    "class Conv(nn.Module):\n",
    "    \n",
    "    def __init__(self, params):    \n",
    "        super(Conv, self).__init__()\n",
    "        \n",
    "        filters = params['filters']\n",
    "        kernel_sizes = params['kernel_sizes']\n",
    "        strides = params['strides']\n",
    "        max_pool_sizes = params['max_pool_sizes']\n",
    "        \n",
    "        assert(len(filters) == len(kernel_sizes))\n",
    "        assert(len(filters) == len(strides))\n",
    "        assert(len(filters) == len(max_pool_sizes))\n",
    "        \n",
    "        prev_outplanes = 1\n",
    "        prev_outsize = params['input_length']\n",
    "        \n",
    "        layers = []\n",
    "        \n",
    "        for i in range(len(filters)):\n",
    "            inplanes = prev_outplanes\n",
    "            outplanes = inplanes * filters[i]\n",
    "            out_size = math.floor((math.floor((prev_outsize - kernel_sizes[i]) / float(strides[i]))+\\\n",
    "                                1)/float(max_pool_sizes[i]))\n",
    "            \n",
    "            prev_outsize = out_size\n",
    "            prev_outplanes = outplanes\n",
    "            \n",
    "            new_block = Conv_Block(inplanes, outplanes, kernel_sizes[i], strides[i], max_pool_sizes[i])\n",
    "            \n",
    "            layers.append(new_block)\n",
    "            \n",
    "        self.convs = nn.Sequential(*layers)\n",
    "        \n",
    "        in_features = prev_outsize * prev_outplanes\n",
    "        \n",
    "        self.fc = nn.Linear(in_features = in_features, out_features = 10)\n",
    "        \n",
    "    def forward(self, x):\n",
    "        x = self.convs(x)\n",
    "        x = x.view(x.size()[0], -1)\n",
    "        x = self.fc(x)\n",
    "        return x"
   ]
  },
  {
   "cell_type": "code",
   "execution_count": 62,
   "metadata": {},
   "outputs": [
    {
     "name": "stdout",
     "output_type": "stream",
     "text": [
      "----------------------------------------------------------------\n",
      "        Layer (type)               Output Shape         Param #\n",
      "================================================================\n",
      "            Conv1d-1              [-1, 8, 2089]             520\n",
      "           Dropout-2              [-1, 8, 2089]               0\n",
      "         MaxPool1d-3              [-1, 8, 1044]               0\n",
      "       BatchNorm1d-4              [-1, 8, 1044]              16\n",
      "        Conv_Block-5              [-1, 8, 1044]               0\n",
      "            Conv1d-6              [-1, 64, 254]          16,448\n",
      "           Dropout-7              [-1, 64, 254]               0\n",
      "         MaxPool1d-8              [-1, 64, 127]               0\n",
      "       BatchNorm1d-9              [-1, 64, 127]             128\n",
      "       Conv_Block-10              [-1, 64, 127]               0\n",
      "           Conv1d-11              [-1, 512, 56]         524,800\n",
      "          Dropout-12              [-1, 512, 56]               0\n",
      "        MaxPool1d-13              [-1, 512, 28]               0\n",
      "      BatchNorm1d-14              [-1, 512, 28]           1,024\n",
      "       Conv_Block-15              [-1, 512, 28]               0\n",
      "           Conv1d-16             [-1, 2048, 21]       8,390,656\n",
      "          Dropout-17             [-1, 2048, 21]               0\n",
      "        MaxPool1d-18             [-1, 2048, 10]               0\n",
      "      BatchNorm1d-19             [-1, 2048, 10]           4,096\n",
      "       Conv_Block-20             [-1, 2048, 10]               0\n",
      "           Linear-21                   [-1, 10]         204,810\n",
      "================================================================\n",
      "Total params: 9,142,498\n",
      "Trainable params: 9,142,498\n",
      "Non-trainable params: 0\n",
      "----------------------------------------------------------------\n",
      "Input size (MB): 0.06\n",
      "Forward/backward pass size (MB): 2.77\n",
      "Params size (MB): 34.88\n",
      "Estimated Total Size (MB): 37.71\n",
      "----------------------------------------------------------------\n"
     ]
    }
   ],
   "source": [
    "# Debugging\n",
    "\n",
    "# big big convnet\n",
    "conv_params = {\n",
    "    'input_length' : 16770,\n",
    "    'filters' : [8, 8, 8, 4],\n",
    "    'kernel_sizes' : [64, 32, 16, 8],\n",
    "    'strides' : [8, 4, 2, 1],\n",
    "    'max_pool_sizes' : [2, 2, 2, 2]\n",
    "}\n",
    "\n",
    "# smaller convnet\n",
    "# conv_params = {\n",
    "#     'input_length' : 16770,\n",
    "#     'filters' : [8, 16, 64],\n",
    "#     'kernel_sizes' : [64, 8, 4],\n",
    "#     'strides' : [8, 4, 2],\n",
    "#     'max_pool_sizes' : [16, 4, 2]\n",
    "# }\n",
    "\n",
    "# smallest convnet\n",
    "# conv_params = {\n",
    "#     'input_length' : 16770,\n",
    "#     'filters' : [8, 64],\n",
    "#     'kernel_sizes' : [64, 4],\n",
    "#     'strides' : [8, 2],\n",
    "#     'max_pool_sizes' : [32, 4]\n",
    "# }\n",
    "\n",
    "# observation: this net works as long as we don't run out of elements to convolute across (no padding)\n",
    "\n",
    "conv_test = Conv(conv_params)\n",
    "clipper = WeightClipper()\n",
    "conv_test.apply(clipper)\n",
    "summary(conv_test, (1,16770))"
   ]
  },
  {
   "cell_type": "markdown",
   "metadata": {},
   "source": [
    "## DCNN"
   ]
  },
  {
   "cell_type": "code",
   "execution_count": 30,
   "metadata": {},
   "outputs": [],
   "source": [
    "class DConv_Block(nn.Module):\n",
    "    \n",
    "    def __init__(self, in_planes, planes, kernel_size, dialation, pool_size):\n",
    "        \n",
    "        super(DConv_Block, self).__init__()\n",
    "        \n",
    "        padding = int((kernel_size + (kernel_size - 1)*(dialation - 1) - 1)/2)\n",
    "        \n",
    "        self.dconv = nn.Conv1d(in_channels = in_planes, out_channels = planes,\n",
    "                               kernel_size = kernel_size, stride=1, padding=padding, dilation=dialation)\n",
    "        self.dropout = nn.Dropout(p=0.5)\n",
    "        self.avgpool = nn.AvgPool1d(kernel_size = pool_size)\n",
    "        self.bnorm = nn.BatchNorm1d(num_features = planes)\n",
    "    \n",
    "    def forward(self, x):\n",
    "        x = self.dconv(x)\n",
    "        x = self.dropout(x)\n",
    "        x = self.avgpool(x)\n",
    "        x = self.bnorm(x)\n",
    "        x = F.relu(x)\n",
    "        return x\n",
    "\n",
    "class DConv(nn.Module):\n",
    "    \n",
    "    def __init__(self, params):    \n",
    "        super(DConv, self).__init__()\n",
    "        \n",
    "        self.dc_unit_1 = DConv_Block(1, params['num_filters_1'], params['ker_size_1'],\n",
    "                                     params['dialation_1'], params['avg_pool_size_1'])\n",
    "        \n",
    "        self.dc_unit_2 = DConv_Block(params['num_filters_1'], params['num_filters_1']*params['num_filters_2'],\n",
    "                                     params['ker_size_2'], params['dialation_2'], params['avg_pool_size_2'])\n",
    "        \n",
    "        in_features = params['num_filters_1'] * params['num_filters_2'] * \\\n",
    "            math.floor(math.floor(params['input_length']/params['avg_pool_size_1'])/params['avg_pool_size_2'])\n",
    "        \n",
    "        self.fc = nn.Linear(in_features = in_features, out_features = 10)\n",
    "        \n",
    "    def forward(self, x):\n",
    "        x = self.dc_unit_1(x)\n",
    "        x = self.dc_unit_2(x)\n",
    "        x = x.view(x.size()[0], -1)\n",
    "        x = self.fc(x)\n",
    "        return x\n"
   ]
  },
  {
   "cell_type": "code",
   "execution_count": 61,
   "metadata": {},
   "outputs": [
    {
     "name": "stdout",
     "output_type": "stream",
     "text": [
      "----------------------------------------------------------------\n",
      "        Layer (type)               Output Shape         Param #\n",
      "================================================================\n",
      "            Conv1d-1            [-1, 16, 16770]           1,040\n",
      "           Dropout-2            [-1, 16, 16770]               0\n",
      "         AvgPool1d-3              [-1, 16, 524]               0\n",
      "       BatchNorm1d-4              [-1, 16, 524]              32\n",
      "       DConv_Block-5              [-1, 16, 524]               0\n",
      "            Conv1d-6            [-1, 1024, 524]         263,168\n",
      "           Dropout-7            [-1, 1024, 524]               0\n",
      "         AvgPool1d-8            [-1, 1024, 131]               0\n",
      "       BatchNorm1d-9            [-1, 1024, 131]           2,048\n",
      "      DConv_Block-10            [-1, 1024, 131]               0\n",
      "           Linear-11                   [-1, 10]       1,341,450\n",
      "================================================================\n",
      "Total params: 1,607,738\n",
      "Trainable params: 1,607,738\n",
      "Non-trainable params: 0\n",
      "----------------------------------------------------------------\n",
      "Input size (MB): 0.06\n",
      "Forward/backward pass size (MB): 15.54\n",
      "Params size (MB): 6.13\n",
      "Estimated Total Size (MB): 21.74\n",
      "----------------------------------------------------------------\n"
     ]
    }
   ],
   "source": [
    "# Debugging\n",
    "dconv_params = {\n",
    "    'input_length' : 16770,\n",
    "    'num_filters_1' : 16,\n",
    "    'ker_size_1' : 64,\n",
    "    'dialation_1' : 8,\n",
    "    'avg_pool_size_1' : 32,\n",
    "    'num_filters_2' : 64,\n",
    "    'ker_size_2' : 16,\n",
    "    'dialation_2' : 2,\n",
    "    'avg_pool_size_2' : 4\n",
    "}\n",
    "\n",
    "# observation: this net works as long as dialation_2 is even\n",
    "\n",
    "dconv_test = DConv(dconv_params)\n",
    "summary(dconv_test, (1,16770))"
   ]
  },
  {
   "cell_type": "markdown",
   "metadata": {},
   "source": [
    "## Training and Testing Code"
   ]
  },
  {
   "cell_type": "code",
   "execution_count": 50,
   "metadata": {},
   "outputs": [],
   "source": [
    "# defining training and testing functions\n",
    "\n",
    "def train(net, criterion, optimizer, num_epochs, trainloader):\n",
    "    \n",
    "    device = torch.device(\"cuda:0\" if torch.cuda.is_available() else \"cpu\")\n",
    "    net.to(device)\n",
    "    \n",
    "    net.train()\n",
    "    \n",
    "    for epoch in range(num_epochs):\n",
    "        \n",
    "        correct = 0\n",
    "        total = 0\n",
    "        \n",
    "        print(\"Epoch: \" + str(epoch+1))\n",
    "        running_loss = 0.0\n",
    "        for data in trainloader:\n",
    "            \n",
    "            inputs, labels = data\n",
    "            \n",
    "            inputs = inputs.to(device)\n",
    "            labels = labels.to(device)\n",
    "            \n",
    "            optimizer.zero_grad()\n",
    "            \n",
    "            outputs = net(inputs)\n",
    "            \n",
    "            _, predicted = torch.max(outputs.data, 1)\n",
    "            \n",
    "            total += labels.size(0)\n",
    "            correct += (predicted == labels).sum().item()\n",
    "            \n",
    "            loss = criterion(outputs, labels)\n",
    "            loss.backward()\n",
    "            optimizer.step()            \n",
    "            running_loss += loss.item()\n",
    "            \n",
    "        print(\"Loss: \" + str(running_loss / 750.0) + ' Accuracy: ' + str((100 * correct / total)) + '%')\n",
    "    print('Finished Training')\n",
    "\n",
    "def test(net, testloader):\n",
    "    \n",
    "    device = torch.device(\"cuda:0\" if torch.cuda.is_available() else \"cpu\")\n",
    "    net.to(device)\n",
    "    \n",
    "    net.eval()\n",
    "    \n",
    "    correct = 0\n",
    "    total = 0\n",
    "    \n",
    "    with torch.no_grad():\n",
    "        for data in testloader:\n",
    "            inputs, labels = data\n",
    "            inputs = inputs.to(device)\n",
    "            labels = labels.to(device)\n",
    "            \n",
    "            outputs = net(inputs)\n",
    "            _, predicted = torch.max(outputs.data, 1)\n",
    "            \n",
    "            total += labels.size(0)\n",
    "            correct += (predicted == labels).sum().item()\n",
    "            \n",
    "    # todo: calculate length of testloader instead of hardcoding\n",
    "            \n",
    "    print('Accuracy of the network on 250 test datapoints: ' + str((100 * correct / total)) + '%')"
   ]
  },
  {
   "cell_type": "markdown",
   "metadata": {},
   "source": [
    "# Evaluating Models"
   ]
  },
  {
   "cell_type": "code",
   "execution_count": 33,
   "metadata": {},
   "outputs": [],
   "source": [
    "# from brendan\n",
    "from sklearn.metrics import confusion_matrix, classification_report\n",
    "from sklearn.model_selection import cross_val_score, GridSearchCV\n",
    "from sklearn.utils.multiclass import unique_labels\n",
    "from sklearn.decomposition import PCA\n",
    "from sklearn.cross_decomposition import CCA\n",
    "from sklearn.utils import shuffle\n",
    "import seaborn as sns\n",
    "import matplotlib.pyplot as plt\n",
    "\n",
    "def plot_confusion_matrix(test_labels, predictions, title):\n",
    "    ax= plt.subplot()\n",
    "    cm = confusion_matrix(test_labels, predictions)\n",
    "    sns.heatmap(cm, annot=True, ax = ax, cmap = sns.cm.rocket_r); #annot=True to annotate cells\n",
    "\n",
    "    # labels, title and ticks\n",
    "    ax.set_xlabel('Predicted labels');ax.set_ylabel('True labels'); \n",
    "    ax.set_title(f'{title} Confusion Matrix'); \n",
    "    ax.set_ylim(top=0, bottom=10)\n",
    "    ax.xaxis.set_ticklabels(all_genres); ax.yaxis.set_ticklabels(all_genres);\n",
    "    plt.setp(ax.get_xticklabels(), rotation=45, ha=\"right\",\n",
    "                 rotation_mode=\"anchor\")\n",
    "    plt.setp(ax.get_yticklabels(), rotation=45, ha=\"right\",\n",
    "                 rotation_mode=\"anchor\")\n",
    "    plt.show()"
   ]
  },
  {
   "cell_type": "code",
   "execution_count": 34,
   "metadata": {},
   "outputs": [],
   "source": [
    "# test_labels = Y_test\n",
    "\n",
    "def net_confusion_matrix(net, testloader, test_labels, title):\n",
    "    \n",
    "    separate_predictions = []\n",
    "    \n",
    "    device = torch.device(\"cuda:0\" if torch.cuda.is_available() else \"cpu\")\n",
    "    net.to(device)\n",
    "    \n",
    "    net.eval()\n",
    "    \n",
    "    with torch.no_grad():\n",
    "        for data in testloader:\n",
    "            \n",
    "            inputs, labels = data\n",
    "            inputs = inputs.to(device)\n",
    "            labels = labels.to(device)\n",
    "\n",
    "            outputs = net(inputs)\n",
    "            _, predicted = torch.max(outputs.data, 1)\n",
    "            separate_predictions.append(predicted.numpy())\n",
    "    \n",
    "    predictions = np.concatenate(separate_predictions)\n",
    "    plot_confusion_matrix(test_labels, predictions, title)            "
   ]
  },
  {
   "cell_type": "code",
   "execution_count": 64,
   "metadata": {},
   "outputs": [],
   "source": [
    "conv_net = Conv(conv_params)\n",
    "\n",
    "# regularizing\n",
    "conv_net.apply(clipper)\n",
    "\n",
    "conv_crit = nn.CrossEntropyLoss()\n",
    "conv_opt = torch.optim.Adam(conv_net.parameters(), lr=0.001)"
   ]
  },
  {
   "cell_type": "code",
   "execution_count": 65,
   "metadata": {},
   "outputs": [],
   "source": [
    "dconv_net = DConv(dconv_params)\n",
    "\n",
    "# regularizing\n",
    "dconv_net.apply(clipper)\n",
    "\n",
    "dconv_crit = nn.CrossEntropyLoss()\n",
    "dconv_opt = torch.optim.Adam(dconv_net.parameters(), lr=0.001)"
   ]
  },
  {
   "cell_type": "code",
   "execution_count": null,
   "metadata": {
    "scrolled": false
   },
   "outputs": [
    {
     "name": "stdout",
     "output_type": "stream",
     "text": [
      "Epoch: 1\n",
      "Loss: 0.03788559691111247 Accuracy: 22.4%\n",
      "Epoch: 2\n",
      "Loss: 0.028636907259623208 Accuracy: 31.866666666666667%\n",
      "Epoch: 3\n",
      "Loss: 0.02570577843983968 Accuracy: 39.2%\n",
      "Epoch: 4\n",
      "Loss: 0.024613877455393472 Accuracy: 44.13333333333333%\n",
      "Epoch: 5\n",
      "Loss: 0.02444011131922404 Accuracy: 43.6%\n",
      "Epoch: 6\n",
      "Loss: 0.023384923775990805 Accuracy: 46.13333333333333%\n",
      "Epoch: 7\n",
      "Loss: 0.02133247439066569 Accuracy: 50.53333333333333%\n",
      "Epoch: 8\n",
      "Loss: 0.021374799887339275 Accuracy: 50.666666666666664%\n",
      "Epoch: 9\n"
     ]
    }
   ],
   "source": [
    "%%time\n",
    "# training and evaluating CNN\n",
    "\n",
    "train(conv_net, conv_crit, conv_opt, 20, genre_trainloader)\n",
    "test(conv_net, genre_testloader)\n",
    "net_confusion_matrix(conv_net, genre_testloader, Y_test, \"Preliminary CNN\")"
   ]
  },
  {
   "cell_type": "code",
   "execution_count": 60,
   "metadata": {
    "scrolled": false
   },
   "outputs": [
    {
     "name": "stdout",
     "output_type": "stream",
     "text": [
      "Epoch: 1\n",
      "Loss: 0.03319073390960693 Accuracy: 25.066666666666666%\n",
      "Epoch: 2\n",
      "Loss: 0.02751227617263794 Accuracy: 37.06666666666667%\n",
      "Epoch: 3\n",
      "Loss: 0.024791409492492675 Accuracy: 44.53333333333333%\n",
      "Epoch: 4\n",
      "Loss: 0.022774714310963947 Accuracy: 48.13333333333333%\n",
      "Epoch: 5\n",
      "Loss: 0.021381651242574056 Accuracy: 53.06666666666667%\n",
      "Epoch: 6\n",
      "Loss: 0.0199297571182251 Accuracy: 56.8%\n",
      "Epoch: 7\n",
      "Loss: 0.0180342538356781 Accuracy: 62.93333333333333%\n",
      "Epoch: 8\n",
      "Loss: 0.01667971595128377 Accuracy: 65.73333333333333%\n",
      "Epoch: 9\n",
      "Loss: 0.015877511262893676 Accuracy: 68.8%\n",
      "Epoch: 10\n",
      "Loss: 0.014604349215825398 Accuracy: 71.2%\n",
      "Epoch: 11\n",
      "Loss: 0.013744022130966187 Accuracy: 73.2%\n",
      "Epoch: 12\n",
      "Loss: 0.013037107706069946 Accuracy: 74.26666666666667%\n",
      "Epoch: 13\n",
      "Loss: 0.012122730016708374 Accuracy: 77.06666666666666%\n",
      "Epoch: 14\n",
      "Loss: 0.01102952524026235 Accuracy: 77.86666666666666%\n",
      "Epoch: 15\n",
      "Loss: 0.011160833915074666 Accuracy: 78.66666666666667%\n",
      "Epoch: 16\n",
      "Loss: 0.009664595564206442 Accuracy: 81.6%\n",
      "Epoch: 17\n",
      "Loss: 0.00878757874170939 Accuracy: 84.13333333333334%\n",
      "Epoch: 18\n",
      "Loss: 0.008952091455459594 Accuracy: 82.66666666666667%\n",
      "Epoch: 19\n",
      "Loss: 0.007886412779490154 Accuracy: 86.53333333333333%\n",
      "Epoch: 20\n",
      "Loss: 0.007111015359560649 Accuracy: 87.86666666666666%\n",
      "Finished Training\n",
      "Accuracy of the network on 250 test datapoints: 56.8%\n"
     ]
    },
    {
     "data": {
      "image/png": "[encoded data removed]",
      "text/plain": [
       "<Figure size 432x288 with 2 Axes>"
      ]
     },
     "metadata": {
      "needs_background": "light"
     },
     "output_type": "display_data"
    },
    {
     "name": "stdout",
     "output_type": "stream",
     "text": [
      "CPU times: user 18min 43s, sys: 12min 14s, total: 30min 57s\n",
      "Wall time: 9min 46s\n"
     ]
    }
   ],
   "source": [
    "%%time\n",
    "# training and evaluating DCNN\n",
    "\n",
    "train(dconv_net, dconv_crit, dconv_opt, 20, genre_trainloader)\n",
    "test(dconv_net, genre_testloader)\n",
    "net_confusion_matrix(dconv_net, genre_testloader, Y_test, \"Preliminary DCNN\")"
   ]
  },
  {
   "cell_type": "markdown",
   "metadata": {},
   "source": [
    "TODO:\n",
    "\n",
    "- make CNN (done)\n",
    "- make RNN\n",
    "- test all of those and tune hyperparameters\n",
    "- get a gpu?"
   ]
  }
 ],
 "metadata": {
  "kernelspec": {
   "display_name": "Python 3",
   "language": "python",
   "name": "python3"
  },
  "language_info": {
   "codemirror_mode": {
    "name": "ipython",
    "version": 3
   },
   "file_extension": ".py",
   "mimetype": "text/x-python",
   "name": "python",
   "nbconvert_exporter": "python",
   "pygments_lexer": "ipython3",
   "version": "3.6.8"
  }
 },
 "nbformat": 4,
 "nbformat_minor": 2
}
