{
 "cells": [
  {
   "cell_type": "markdown",
   "metadata": {},
   "source": [
    "## (Just copied Brendan's notebook and will change the data being used)\n",
    "## Good features to try: MFCC, chroma, spectral flatness, zero crossing rate\n",
    "## Not good: tempo"
   ]
  },
  {
   "cell_type": "code",
   "execution_count": 3,
   "metadata": {},
   "outputs": [],
   "source": [
    "import numpy as np\n",
    "import librosa\n",
    "from librosa import display\n",
    "import matplotlib.pyplot as plt"
   ]
  },
  {
   "cell_type": "markdown",
   "metadata": {},
   "source": [
    "### Load Data"
   ]
  },
  {
   "cell_type": "code",
   "execution_count": 4,
   "metadata": {},
   "outputs": [],
   "source": [
    "all_genres = ['blues','classical','country','disco','hiphop','jazz','metal','pop','reggae','rock']\n",
    "num_songs = 100\n",
    "Y_LIMIT = 660000"
   ]
  },
  {
   "cell_type": "code",
   "execution_count": 54,
   "metadata": {},
   "outputs": [
    {
     "data": {
      "text/plain": [
       "(32325,)"
      ]
     },
     "execution_count": 54,
     "metadata": {},
     "output_type": "execute_result"
    }
   ],
   "source": [
    "y, sr = librosa.load('genres/classical/classical.00034.wav')\n",
    "feature = np.hstack([librosa.feature.chroma_stft(y=y, sr=sr, hop_length=512).flatten(), librosa.feature.mfcc(y=y, sr=sr, hop_length=512, n_mfcc=13).flatten()])\n",
    "feature.shape"
   ]
  },
  {
   "cell_type": "code",
   "execution_count": 81,
   "metadata": {},
   "outputs": [],
   "source": [
    "# Loads n_songs songs from each genre in load_genres.  \n",
    "def load_dataset(genres=all_genres, n_songs=num_songs):\n",
    "    X, Y = None, None\n",
    "    for g_idx, g in enumerate(genres):\n",
    "        for s_idx in range(n_songs):\n",
    "            y, sr = librosa.load(f'genres/{g}/{g}.000{s_idx:02d}.wav')\n",
    "            # Limit length of sample so that all features have the same length.\n",
    "            y = y[:Y_LIMIT]\n",
    "            \n",
    "            feature = np.hstack([\n",
    "                librosa.feature.chroma_stft(y=y, sr=sr, hop_length=512).flatten(),\n",
    "                librosa.feature.mfcc(y=y, sr=sr, hop_length=512, n_mfcc=13).flatten(),\n",
    "                librosa.feature.spectral_flatness(y=y, hop_length=512).flatten()\n",
    "            ])\n",
    "            \n",
    "            if X is None:\n",
    "                X = feature.reshape(1, feature.shape[0])\n",
    "                Y = np.array([[g_idx]])\n",
    "                \n",
    "            else:\n",
    "                X = np.vstack([X, feature])\n",
    "                Y = np.vstack([Y, np.array([[g_idx]])])\n",
    "    return X, Y"
   ]
  },
  {
   "cell_type": "code",
   "execution_count": 82,
   "metadata": {},
   "outputs": [],
   "source": [
    "X, Y = load_dataset(all_genres, 50)\n",
    "Y = Y.ravel()"
   ]
  },
  {
   "cell_type": "code",
   "execution_count": 83,
   "metadata": {},
   "outputs": [
    {
     "name": "stdout",
     "output_type": "stream",
     "text": [
      "(500, 33540) (500,)\n"
     ]
    }
   ],
   "source": [
    "print(X.shape, Y.shape)"
   ]
  },
  {
   "cell_type": "markdown",
   "metadata": {},
   "source": [
    "# Models"
   ]
  },
  {
   "cell_type": "code",
   "execution_count": 12,
   "metadata": {},
   "outputs": [],
   "source": [
    "from sklearn.metrics import confusion_matrix \n",
    "from sklearn.model_selection import train_test_split \n",
    "from sklearn.decomposition import PCA\n",
    "from sklearn.cross_decomposition import CCA"
   ]
  },
  {
   "cell_type": "code",
   "execution_count": 84,
   "metadata": {},
   "outputs": [],
   "source": [
    "X_train, X_test, y_train, y_test = train_test_split(X, Y) "
   ]
  },
  {
   "cell_type": "code",
   "execution_count": 85,
   "metadata": {},
   "outputs": [
    {
     "name": "stdout",
     "output_type": "stream",
     "text": [
      "(375, 33540) (125, 33540) (375,) (125,)\n"
     ]
    }
   ],
   "source": [
    "print(X_train.shape, X_test.shape, y_train.shape, y_test.shape)"
   ]
  },
  {
   "cell_type": "markdown",
   "metadata": {},
   "source": [
    "### SVM"
   ]
  },
  {
   "cell_type": "code",
   "execution_count": 15,
   "metadata": {},
   "outputs": [],
   "source": [
    "from sklearn.svm import SVC"
   ]
  },
  {
   "cell_type": "code",
   "execution_count": 86,
   "metadata": {},
   "outputs": [],
   "source": [
    "svm_model = SVC(kernel = 'linear', C = 1).fit(X_train, y_train) "
   ]
  },
  {
   "cell_type": "code",
   "execution_count": 87,
   "metadata": {},
   "outputs": [
    {
     "data": {
      "text/plain": [
       "0.528"
      ]
     },
     "execution_count": 87,
     "metadata": {},
     "output_type": "execute_result"
    }
   ],
   "source": [
    "svm_accuracy = svm_model.score(X_test, y_test) \n",
    "svm_accuracy"
   ]
  },
  {
   "cell_type": "markdown",
   "metadata": {},
   "source": [
    "#Just chroma: 0.38 accuracy\n",
    "#Just chroma delta: 0.204 accuracy\n",
    "#Just zero crossing rate: 0.252 accuracy\n",
    "#MFCC and chroma: 0.592 accuracy (only worked with half the songs due to memory error)\n",
    "#Just spectral flatness: 0.224 accuracy\n",
    "#MFCC+chroma+spectral flatness: 0.528 accuracy (half of data)"
   ]
  },
  {
   "cell_type": "code",
   "execution_count": 30,
   "metadata": {},
   "outputs": [
    {
     "data": {
      "text/plain": [
       "array([[ 3,  5,  3,  1,  1,  5,  6,  0,  1,  2],\n",
       "       [ 2,  8,  3,  1,  1,  7,  0,  0,  0,  1],\n",
       "       [ 2,  6,  4,  2,  1,  5,  3,  0,  0,  1],\n",
       "       [ 0,  3,  2,  6,  2,  2,  9,  0,  3,  1],\n",
       "       [ 2,  2,  1,  3,  2,  1,  2,  2,  0,  4],\n",
       "       [ 5, 12,  1,  0,  0,  6,  1,  0,  0,  1],\n",
       "       [ 0,  3,  0,  2,  2,  0, 24,  1,  0,  0],\n",
       "       [ 2,  3,  1,  3,  4,  3,  3,  6,  1,  1],\n",
       "       [ 3,  4,  1,  2,  0,  4,  0,  1,  3,  1],\n",
       "       [ 4,  4,  1,  4,  1,  1,  4,  4,  1,  1]], dtype=int64)"
      ]
     },
     "execution_count": 30,
     "metadata": {},
     "output_type": "execute_result"
    }
   ],
   "source": [
    "svm_predictions = svm_model.predict(X_test)\n",
    "svm_cm = confusion_matrix(y_test, svm_predictions) \n",
    "svm_cm"
   ]
  },
  {
   "cell_type": "markdown",
   "metadata": {},
   "source": [
    "### LR"
   ]
  },
  {
   "cell_type": "code",
   "execution_count": 68,
   "metadata": {},
   "outputs": [],
   "source": [
    "from sklearn.linear_model import LogisticRegression"
   ]
  },
  {
   "cell_type": "code",
   "execution_count": 88,
   "metadata": {},
   "outputs": [],
   "source": [
    "lr_model = LogisticRegression(solver='lbfgs', multi_class='multinomial', max_iter=1000)"
   ]
  },
  {
   "cell_type": "code",
   "execution_count": 89,
   "metadata": {},
   "outputs": [
    {
     "data": {
      "text/plain": [
       "LogisticRegression(C=1.0, class_weight=None, dual=False, fit_intercept=True,\n",
       "                   intercept_scaling=1, l1_ratio=None, max_iter=1000,\n",
       "                   multi_class='multinomial', n_jobs=None, penalty='l2',\n",
       "                   random_state=None, solver='lbfgs', tol=0.0001, verbose=0,\n",
       "                   warm_start=False)"
      ]
     },
     "execution_count": 89,
     "metadata": {},
     "output_type": "execute_result"
    }
   ],
   "source": [
    "lr_model.fit(X_train, y_train)"
   ]
  },
  {
   "cell_type": "code",
   "execution_count": 90,
   "metadata": {},
   "outputs": [
    {
     "data": {
      "text/plain": [
       "0.512"
      ]
     },
     "execution_count": 90,
     "metadata": {},
     "output_type": "execute_result"
    }
   ],
   "source": [
    "lr_accuracy = lr_model.score(X_test, y_test)\n",
    "lr_accuracy"
   ]
  },
  {
   "cell_type": "markdown",
   "metadata": {},
   "source": [
    "MFCC + Chroma: 0.536 accuracy (half of dataset)\n",
    "MFCC + Chroma + spectral flatness: 0.512 accuracy (half of dataset)"
   ]
  },
  {
   "cell_type": "code",
   "execution_count": 72,
   "metadata": {},
   "outputs": [
    {
     "data": {
      "text/plain": [
       "array([[ 7,  0,  1,  0,  0,  4,  0,  0,  1,  0],\n",
       "       [ 0,  9,  0,  0,  0,  1,  0,  0,  0,  0],\n",
       "       [ 0,  1,  6,  0,  1,  1,  1,  1,  0,  1],\n",
       "       [ 0,  1,  4,  5,  1,  0,  0,  2,  0,  3],\n",
       "       [ 0,  0,  1,  1,  5,  1,  2,  2,  0,  1],\n",
       "       [ 0,  2,  1,  1,  1,  4,  0,  0,  1,  1],\n",
       "       [ 0,  0,  0,  0,  1,  0, 13,  0,  0,  1],\n",
       "       [ 0,  0,  1,  0,  0,  0,  0, 10,  0,  0],\n",
       "       [ 1,  1,  1,  0,  1,  4,  0,  0,  4,  1],\n",
       "       [ 1,  0,  1,  2,  1,  0,  0,  2,  0,  4]], dtype=int64)"
      ]
     },
     "execution_count": 72,
     "metadata": {},
     "output_type": "execute_result"
    }
   ],
   "source": [
    "lr_predictions = lr_model.predict(X_test)\n",
    "lr_cm = confusion_matrix(y_test, lr_predictions) \n",
    "lr_cm"
   ]
  },
  {
   "cell_type": "markdown",
   "metadata": {},
   "source": [
    "### Random Forest"
   ]
  },
  {
   "cell_type": "code",
   "execution_count": null,
   "metadata": {},
   "outputs": [],
   "source": []
  }
 ],
 "metadata": {
  "kernelspec": {
   "display_name": "Python 3",
   "language": "python",
   "name": "python3"
  },
  "language_info": {
   "codemirror_mode": {
    "name": "ipython",
    "version": 3
   },
   "file_extension": ".py",
   "mimetype": "text/x-python",
   "name": "python",
   "nbconvert_exporter": "python",
   "pygments_lexer": "ipython3",
   "version": "3.7.2"
  }
 },
 "nbformat": 4,
 "nbformat_minor": 2
}
