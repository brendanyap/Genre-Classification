{
 "cells": [
  {
   "cell_type": "markdown",
   "metadata": {},
   "source": [
    "## Good features to try: MFCC, chroma, spectral flatness, zero crossing rate\n",
    "## Not good: tempo"
   ]
  },
  {
   "cell_type": "code",
   "execution_count": 62,
   "metadata": {},
   "outputs": [],
   "source": [
    "import numpy\n",
    "import librosa\n",
    "from librosa import display\n",
    "import matplotlib.pyplot as plt\n",
    "from os import listdir\n",
    "\n",
    "genres = listdir('genres')\n",
    "numbers = ['0000' + str(i) for i in range(10)] + ['000'+str(i) for i in range(10, 100)]\n",
    "\n",
    "def filename(genre, n):\n",
    "    return 'genres/' + genre + '/' + genre + '.' + numbers[n] + '.wav'"
   ]
  },
  {
   "cell_type": "code",
   "execution_count": null,
   "metadata": {},
   "outputs": [],
   "source": [
    "feature_dict = {}\n",
    "for g in genres:\n",
    "    feature_sum = 0\n",
    "    for n in range(100):\n",
    "        f = filename(g, n)\n",
    "        y, sr = librosa.load(f)\n",
    "        feature = librosa.feature.spectral_flatness(y=y)\n",
    "        feature_sum += numpy.average(feature)\n",
    "    feature_dict[g] = feature_sum/100\n",
    "print(feature_dict)\n",
    "\n",
    "\n",
    "# mfcc = librosa.feature.mfcc(y=y, sr=sr, n_mfcc = 10)\n",
    "# chroma = librosa.feature.chroma_stft(y=y, sr=sr)\n",
    "# chroma_delta = librosa.feature.delta(chroma)\n",
    "\n",
    "#Good choices: MFCC, chroma"
   ]
  }
 ],
 "metadata": {
  "kernelspec": {
   "display_name": "Python 3",
   "language": "python",
   "name": "python3"
  },
  "language_info": {
   "codemirror_mode": {
    "name": "ipython",
    "version": 3
   },
   "file_extension": ".py",
   "mimetype": "text/x-python",
   "name": "python",
   "nbconvert_exporter": "python",
   "pygments_lexer": "ipython3",
   "version": "3.7.2"
  }
 },
 "nbformat": 4,
 "nbformat_minor": 2
}
