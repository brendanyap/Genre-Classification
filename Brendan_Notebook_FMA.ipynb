{
 "cells": [
  {
   "cell_type": "markdown",
   "metadata": {},
   "source": [
    "## Imports"
   ]
  },
  {
   "cell_type": "code",
   "execution_count": 1,
   "metadata": {},
   "outputs": [],
   "source": [
    "import numpy as np\n",
    "import seaborn as sns\n",
    "import matplotlib.pyplot as plt\n",
    "from mpl_toolkits.mplot3d import axes3d\n",
    "from joblib import dump, load\n",
    "import warnings\n",
    "warnings.filterwarnings('ignore') \n",
    "\n",
    "\n",
    "import librosa\n",
    "from librosa import display\n",
    "\n",
    "from sklearn.metrics import confusion_matrix, classification_report\n",
    "from sklearn.model_selection import train_test_split, cross_val_score, GridSearchCV\n",
    "from sklearn.utils.multiclass import unique_labels\n",
    "from sklearn.decomposition import PCA\n",
    "from sklearn.cross_decomposition import CCA\n",
    "from sklearn.utils import shuffle\n",
    "from sklearn.preprocessing import StandardScaler\n",
    "\n",
    "from sklearn.svm import SVC\n",
    "from sklearn.linear_model import LogisticRegression\n",
    "from sklearn.ensemble import RandomForestClassifier"
   ]
  },
  {
   "cell_type": "markdown",
   "metadata": {},
   "source": [
    "## Load Data"
   ]
  },
  {
   "cell_type": "code",
   "execution_count": 2,
   "metadata": {},
   "outputs": [],
   "source": [
    "all_genres = ['blues','classical','country','disco','hiphop','jazz','metal','pop','reggae','rock']\n",
    "num_songs = 100\n",
    "sr = 22050\n",
    "Y_LIMIT = 660000"
   ]
  },
  {
   "cell_type": "code",
   "execution_count": null,
   "metadata": {},
   "outputs": [],
   "source": [
    "class DataLoaderFMA():\n",
    "    def __init__(self):\n",
    "        self.X_mfcc = None\n",
    "        self.Y = None\n",
    "        \n",
    "    def save_mfcc(self, genres=all_genres, songs=num_songs):\n",
    "        assert(self.X_mfcc is None and self.Y is None)\n",
    "        X_mfcc, Y = None, None\n",
    "        for g_idx, g in enumerate(genres):\n",
    "            for s_idx in range(songs):\n",
    "                y, sr = librosa.load(f'genres/{g}/{g}.000{s_idx:02d}.wav')\n",
    "                y = y[:Y_LIMIT]\n",
    "                \n",
    "                mfcc = librosa.feature.mfcc(y=y, sr=sr, hop_length=512, n_mfcc=13)\n",
    "                \n",
    "                if X_mfcc is None:\n",
    "                    X_mfcc = mfcc.reshape(1, mfcc.shape[0])\n",
    "                    Y = np.array([[g_idx]])\n",
    "                else:\n",
    "                    X_mfcc = np.vstack([X_mfcc, mfcc])\n",
    "                    Y = np.vstack([Y, np.array([[g_idx]])])    \n",
    "        Y = Y.ravel()\n",
    "        \n",
    "        self.X_mfcc = X_mfcc\n",
    "        self.Y = Y\n",
    "        \n",
    "        np.savetxt('fma/Y.csv')\n",
    "        np.savetxt('fma/X_mfcc.csv', X_mfcc)\n",
    "        \n",
    "    def load_mfcc(self):\n",
    "        self.X_mfcc = np.loadtxt('data/X_mfcc.csv')\n",
    "        \n",
    "    def load_Y(self):\n",
    "        self.Y = np.loadtxt('data/Y.csv')"
   ]
  }
 ],
 "metadata": {
  "kernelspec": {
   "display_name": "Python (py37)",
   "language": "python",
   "name": "myenv"
  },
  "language_info": {
   "codemirror_mode": {
    "name": "ipython",
    "version": 3
   },
   "file_extension": ".py",
   "mimetype": "text/x-python",
   "name": "python",
   "nbconvert_exporter": "python",
   "pygments_lexer": "ipython3",
   "version": "3.7.4"
  }
 },
 "nbformat": 4,
 "nbformat_minor": 2
}
