{
 "cells": [
  {
   "cell_type": "markdown",
   "metadata": {},
   "source": [
    "### Explore Data"
   ]
  },
  {
   "cell_type": "code",
   "execution_count": 83,
   "metadata": {},
   "outputs": [],
   "source": [
    "import numpy as np\n",
    "import librosa\n",
    "from librosa import display"
   ]
  },
  {
   "cell_type": "code",
   "execution_count": 46,
   "metadata": {},
   "outputs": [],
   "source": [
    "y, sr = librosa.load(\"genres/classical/classical.00000.wav\")\n",
    "hop_length = 512\n",
    "mfcc = librosa.feature.mfcc(y=y, sr=sr, hop_length=hop_length, n_mfcc=13)"
   ]
  },
  {
   "cell_type": "code",
   "execution_count": 47,
   "metadata": {},
   "outputs": [
    {
     "name": "stdout",
     "output_type": "stream",
     "text": [
      "(13, 1293)\n",
      "(16809,)\n"
     ]
    }
   ],
   "source": [
    "print(mfcc.shape)\n",
    "print(mfcc.flatten().shape)"
   ]
  },
  {
   "cell_type": "code",
   "execution_count": 48,
   "metadata": {},
   "outputs": [
    {
     "data": {
      "image/png": "[encoded data removed]",
      "text/plain": [
       "<Figure size 720x288 with 2 Axes>"
      ]
     },
     "metadata": {
      "needs_background": "light"
     },
     "output_type": "display_data"
    }
   ],
   "source": [
    "import matplotlib.pyplot as plt\n",
    "plt.figure(figsize=(10,4))\n",
    "librosa.display.specshow(mfcc, x_axis='time')\n",
    "plt.colorbar()\n",
    "plt.title('MFCC')\n",
    "plt.tight_layout()\n",
    "plt.show()"
   ]
  },
  {
   "cell_type": "markdown",
   "metadata": {},
   "source": [
    "### Load Data"
   ]
  },
  {
   "cell_type": "code",
   "execution_count": 54,
   "metadata": {},
   "outputs": [],
   "source": [
    "all_genres = ['blues','classical','country','disco','hiphop','jazz','metal','pop','reggae','rock']\n",
    "num_songs = 100"
   ]
  },
  {
   "cell_type": "code",
   "execution_count": 148,
   "metadata": {},
   "outputs": [],
   "source": [
    "# Loads num_songs from each genre in genres\n",
    "def load_dataset(genres=all_genres, songs=num_songs):\n",
    "    X, Y = None, None\n",
    "    for g in genres:\n",
    "        for s in range(songs):\n",
    "            y, sr = librosa.load(f'genres/{g}/{g}.000{s:02d}.wav')\n",
    "            mfcc = librosa.feature.mfcc(y=y, sr=sr, hop_length=512, n_mfcc=13).flatten()\n",
    "            if X is None:\n",
    "                X = mfcc.reshape(1, mfcc.shape[0])\n",
    "                Y = np.array([[s]])\n",
    "            else:\n",
    "                print(X.shape, Y.shape)\n",
    "                min_feature_length = min(X.shape[1], mfcc.shape[0])\n",
    "                X = np.vstack([X[:,0:min_feature_length], mfcc[:min_feature_length]])\n",
    "                Y = np.vstack([Y, np.array([[s]])])"
   ]
  },
  {
   "cell_type": "code",
   "execution_count": 149,
   "metadata": {},
   "outputs": [
    {
     "name": "stdout",
     "output_type": "stream",
     "text": [
      "(1, 16809) (1, 1)\n",
      "(2, 16809) (2, 1)\n",
      "(3, 16809) (3, 1)\n",
      "(4, 16809) (4, 1)\n",
      "(5, 16809) (5, 1)\n",
      "(6, 16809) (6, 1)\n",
      "(7, 16809) (7, 1)\n",
      "(8, 16809) (8, 1)\n",
      "(9, 16809) (9, 1)\n",
      "(10, 16809) (10, 1)\n",
      "(11, 16809) (11, 1)\n",
      "(12, 16809) (12, 1)\n",
      "(13, 16809) (13, 1)\n",
      "(14, 16809) (14, 1)\n",
      "(15, 16809) (15, 1)\n",
      "(16, 16809) (16, 1)\n",
      "(17, 16809) (17, 1)\n",
      "(18, 16809) (18, 1)\n",
      "(19, 16809) (19, 1)\n",
      "(20, 16809) (20, 1)\n",
      "(21, 16809) (21, 1)\n",
      "(22, 16809) (22, 1)\n",
      "(23, 16809) (23, 1)\n",
      "(24, 16796) (24, 1)\n",
      "(25, 16796) (25, 1)\n",
      "(26, 16796) (26, 1)\n",
      "(27, 16796) (27, 1)\n",
      "(28, 16796) (28, 1)\n",
      "(29, 16796) (29, 1)\n",
      "(30, 16796) (30, 1)\n",
      "(31, 16796) (31, 1)\n",
      "(32, 16796) (32, 1)\n",
      "(33, 16796) (33, 1)\n",
      "(34, 16796) (34, 1)\n",
      "(35, 16796) (35, 1)\n",
      "(36, 16796) (36, 1)\n",
      "(37, 16796) (37, 1)\n",
      "(38, 16796) (38, 1)\n",
      "(39, 16796) (39, 1)\n",
      "(40, 16796) (40, 1)\n",
      "(41, 16796) (41, 1)\n",
      "(42, 16796) (42, 1)\n",
      "(43, 16796) (43, 1)\n",
      "(44, 16796) (44, 1)\n",
      "(45, 16796) (45, 1)\n",
      "(46, 16796) (46, 1)\n",
      "(47, 16796) (47, 1)\n",
      "(48, 16796) (48, 1)\n",
      "(49, 16796) (49, 1)\n",
      "(50, 16796) (50, 1)\n",
      "(51, 16796) (51, 1)\n",
      "(52, 16796) (52, 1)\n",
      "(53, 16796) (53, 1)\n",
      "(54, 16796) (54, 1)\n",
      "(55, 16796) (55, 1)\n",
      "(56, 16796) (56, 1)\n",
      "(57, 16796) (57, 1)\n",
      "(58, 16796) (58, 1)\n",
      "(59, 16796) (59, 1)\n",
      "(60, 16796) (60, 1)\n",
      "(61, 16796) (61, 1)\n",
      "(62, 16796) (62, 1)\n",
      "(63, 16796) (63, 1)\n",
      "(64, 16796) (64, 1)\n",
      "(65, 16796) (65, 1)\n",
      "(66, 16796) (66, 1)\n",
      "(67, 16796) (67, 1)\n",
      "(68, 16796) (68, 1)\n",
      "(69, 16796) (69, 1)\n",
      "(70, 16796) (70, 1)\n",
      "(71, 16796) (71, 1)\n",
      "(72, 16796) (72, 1)\n",
      "(73, 16796) (73, 1)\n",
      "(74, 16796) (74, 1)\n",
      "(75, 16796) (75, 1)\n",
      "(76, 16796) (76, 1)\n",
      "(77, 16796) (77, 1)\n",
      "(78, 16796) (78, 1)\n",
      "(79, 16796) (79, 1)\n",
      "(80, 16796) (80, 1)\n",
      "(81, 16796) (81, 1)\n",
      "(82, 16796) (82, 1)\n",
      "(83, 16796) (83, 1)\n",
      "(84, 16796) (84, 1)\n",
      "(85, 16796) (85, 1)\n",
      "(86, 16796) (86, 1)\n",
      "(87, 16796) (87, 1)\n",
      "(88, 16796) (88, 1)\n",
      "(89, 16796) (89, 1)\n",
      "(90, 16796) (90, 1)\n",
      "(91, 16796) (91, 1)\n",
      "(92, 16796) (92, 1)\n",
      "(93, 16796) (93, 1)\n",
      "(94, 16796) (94, 1)\n",
      "(95, 16796) (95, 1)\n",
      "(96, 16796) (96, 1)\n",
      "(97, 16796) (97, 1)\n",
      "(98, 16796) (98, 1)\n",
      "(99, 16796) (99, 1)\n"
     ]
    }
   ],
   "source": [
    "load_dataset(all_genres, 10)"
   ]
  }
 ],
 "metadata": {
  "kernelspec": {
   "display_name": "Python 3",
   "language": "python",
   "name": "python3"
  },
  "language_info": {
   "codemirror_mode": {
    "name": "ipython",
    "version": 3
   },
   "file_extension": ".py",
   "mimetype": "text/x-python",
   "name": "python",
   "nbconvert_exporter": "python",
   "pygments_lexer": "ipython3",
   "version": "3.7.4"
  }
 },
 "nbformat": 4,
 "nbformat_minor": 2
}
